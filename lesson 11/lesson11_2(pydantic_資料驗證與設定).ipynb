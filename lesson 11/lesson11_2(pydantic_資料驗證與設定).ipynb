{
 "cells": [
  {
   "cell_type": "markdown",
   "id": "1197697f",
   "metadata": {},
   "source": [
    " Pydantic 這個套件，他主要是用來建立資料模型，拿來做資料的驗證與設定，可幫你驗證資料的 data type ，及是否符合規則 (像是對應欄位是否為 emil)\n",
    " 透過 Pydantic 建立資模型，我們只需要 import 該套件下的 BaseModel 類別即可"
   ]
  },
  {
   "cell_type": "markdown",
   "id": "f0120924",
   "metadata": {},
   "source": [
    "## 操作方式和 DataClass 一樣\n",
    "- BaseModel 是一個 class，讓開發者能夠透過繼承該類別並且利用 typing 註記類別屬性的型別，就能夠擁有基本的驗證功能。"
   ]
  },
  {
   "cell_type": "code",
   "execution_count": 1,
   "id": "9a48c077",
   "metadata": {
    "scrolled": true
   },
   "outputs": [
    {
     "name": "stdout",
     "output_type": "stream",
     "text": [
      "James\n",
      "Han\n",
      "31\n",
      "first_name='James' last_name='Han' age=31\n"
     ]
    }
   ],
   "source": [
    "from pydantic import BaseModel\n",
    "\n",
    "class Person(BaseModel):   # Person繼承BaseModel\n",
    "    # field 一定要有 type hint\n",
    "    first_name:str\n",
    "    last_name:str\n",
    "    age:int\n",
    "        \n",
    "p = Person(first_name=\"James\", last_name=\"Han\", age=31)\n",
    "print(p.first_name)\n",
    "print(p.last_name)\n",
    "print(p.age)\n",
    "print(p)     #自己的repr   "
   ]
  },
  {
   "cell_type": "markdown",
   "id": "07eaa2a4",
   "metadata": {},
   "source": [
    "## dataclass 做不到的\n",
    "- 驗證資料"
   ]
  },
  {
   "cell_type": "code",
   "execution_count": 2,
   "id": "486b4c96",
   "metadata": {
    "scrolled": true
   },
   "outputs": [
    {
     "name": "stdout",
     "output_type": "stream",
     "text": [
      "first_name='James' last_name='Han' age=31\n"
     ]
    }
   ],
   "source": [
    "p1 = Person(first_name=\"James\", last_name=\"Han\", age=\"31\")    #自動轉換型別\n",
    "print(p1)                                    # 從字串轉成整數"
   ]
  },
  {
   "cell_type": "code",
   "execution_count": 3,
   "id": "dee2638a",
   "metadata": {},
   "outputs": [
    {
     "ename": "ValidationError",
     "evalue": "1 validation error for Person\nage\n  Input should be a valid integer, unable to parse string as an integer [type=int_parsing, input_value='XXX', input_type=str]\n    For further information visit https://errors.pydantic.dev/2.7/v/int_parsing",
     "output_type": "error",
     "traceback": [
      "\u001b[1;31m---------------------------------------------------------------------------\u001b[0m",
      "\u001b[1;31mValidationError\u001b[0m                           Traceback (most recent call last)",
      "Cell \u001b[1;32mIn[3], line 1\u001b[0m\n\u001b[1;32m----> 1\u001b[0m p2 \u001b[38;5;241m=\u001b[39m Person(first_name\u001b[38;5;241m=\u001b[39m\u001b[38;5;124m\"\u001b[39m\u001b[38;5;124mJames\u001b[39m\u001b[38;5;124m\"\u001b[39m, last_name\u001b[38;5;241m=\u001b[39m\u001b[38;5;124m\"\u001b[39m\u001b[38;5;124mHan\u001b[39m\u001b[38;5;124m\"\u001b[39m, age\u001b[38;5;241m=\u001b[39m\u001b[38;5;124m\"\u001b[39m\u001b[38;5;124mXXX\u001b[39m\u001b[38;5;124m\"\u001b[39m)\n",
      "File \u001b[1;32m~\\AppData\\Roaming\\Python\\Python312\\site-packages\\pydantic\\main.py:176\u001b[0m, in \u001b[0;36mBaseModel.__init__\u001b[1;34m(self, **data)\u001b[0m\n\u001b[0;32m    174\u001b[0m \u001b[38;5;66;03m# `__tracebackhide__` tells pytest and some other tools to omit this function from tracebacks\u001b[39;00m\n\u001b[0;32m    175\u001b[0m __tracebackhide__ \u001b[38;5;241m=\u001b[39m \u001b[38;5;28;01mTrue\u001b[39;00m\n\u001b[1;32m--> 176\u001b[0m \u001b[38;5;28mself\u001b[39m\u001b[38;5;241m.\u001b[39m__pydantic_validator__\u001b[38;5;241m.\u001b[39mvalidate_python(data, self_instance\u001b[38;5;241m=\u001b[39m\u001b[38;5;28mself\u001b[39m)\n",
      "\u001b[1;31mValidationError\u001b[0m: 1 validation error for Person\nage\n  Input should be a valid integer, unable to parse string as an integer [type=int_parsing, input_value='XXX', input_type=str]\n    For further information visit https://errors.pydantic.dev/2.7/v/int_parsing"
     ]
    }
   ],
   "source": [
    "p2 = Person(first_name=\"James\", last_name=\"Han\", age=\"XXX\")"
   ]
  },
  {
   "cell_type": "code",
   "execution_count": 4,
   "id": "d9b883be",
   "metadata": {},
   "outputs": [
    {
     "name": "stdout",
     "output_type": "stream",
     "text": [
      "1 validation error for Person\n",
      "age\n",
      "  Input should be a valid integer, unable to parse string as an integer [type=int_parsing, input_value='XXX', input_type=str]\n",
      "    For further information visit https://errors.pydantic.dev/2.7/v/int_parsing\n"
     ]
    }
   ],
   "source": [
    "try:\n",
    "    p2 = Person(first_name=\"James\", last_name=\"Han\", age=\"XXX\")\n",
    "except Exception as error:\n",
    "    print(error)     #驗證不過，保證資料的完整性"
   ]
  },
  {
   "cell_type": "markdown",
   "id": "8272b0a8",
   "metadata": {},
   "source": [
    "## 可以將純文字轉成pydantic實體\n",
    "- model_validate_json()方法用於解析 JSON 數據，並以 Pydantic 模型物件的形式傳回經過驗證的資料。"
   ]
  },
  {
   "cell_type": "code",
   "execution_count": 6,
   "id": "a670e379",
   "metadata": {},
   "outputs": [
    {
     "name": "stdout",
     "output_type": "stream",
     "text": [
      "first_name='James' last_name='Han' age=31\n"
     ]
    }
   ],
   "source": [
    "# ''' 可製造 多行文字\n",
    "# 純文字的json檔\n",
    "data_json = '''\n",
    "{\n",
    "    \"first_name\":\"James\",\n",
    "    \"last_name\":\"Han\",\n",
    "    \"age\":\"31\"\n",
    "}\n",
    "'''\n",
    "#用 model.validate 將字串變成實體 p3\n",
    "p3 = Person.model_validate_json(data_json)\n",
    "print(p3)"
   ]
  },
  {
   "cell_type": "markdown",
   "id": "c8971ebb",
   "metadata": {},
   "source": [
    "### 過濾所需的資料 (當初定義class時，可選擇所需的欄位，並沒有height)"
   ]
  },
  {
   "cell_type": "code",
   "execution_count": 7,
   "id": "a0fdf2fe",
   "metadata": {},
   "outputs": [
    {
     "name": "stdout",
     "output_type": "stream",
     "text": [
      "first_name='john' last_name='Smith' age=42\n"
     ]
    }
   ],
   "source": [
    "class Person(BaseModel):\n",
    "    #field一定要有type hint\n",
    "    first_name:str\n",
    "    last_name:str\n",
    "    age:int\n",
    "    \n",
    "data_json = '''\n",
    "{\n",
    "    \"first_name\":\"john\",\n",
    "    \"last_name\":\"Smith\",\n",
    "    \"age\":42,\n",
    "    \"height\":173\n",
    "}\n",
    "'''\n",
    "p4 = Person.model_validate_json(data_json)\n",
    "print(p4)"
   ]
  },
  {
   "cell_type": "markdown",
   "id": "1b5b7f7f",
   "metadata": {},
   "source": [
    "### 可以設定取得的資料,如果沒有這個欄位,設定欄位預設值(default)"
   ]
  },
  {
   "cell_type": "code",
   "execution_count": 8,
   "id": "e1c8ac4c",
   "metadata": {},
   "outputs": [
    {
     "ename": "ValidationError",
     "evalue": "1 validation error for Person\nage\n  Field required [type=missing, input_value={'first_name': 'James', 'last_name': 'Han'}, input_type=dict]\n    For further information visit https://errors.pydantic.dev/2.7/v/missing",
     "output_type": "error",
     "traceback": [
      "\u001b[0;31m---------------------------------------------------------------------------\u001b[0m",
      "\u001b[0;31mValidationError\u001b[0m                           Traceback (most recent call last)",
      "Cell \u001b[0;32mIn[8], line 13\u001b[0m\n\u001b[1;32m      5\u001b[0m     age:\u001b[38;5;28mint\u001b[39m  \n\u001b[1;32m      7\u001b[0m data_json \u001b[38;5;241m=\u001b[39m \u001b[38;5;124m'''\u001b[39m\n\u001b[1;32m      8\u001b[0m \u001b[38;5;124m{\u001b[39m\n\u001b[1;32m      9\u001b[0m \u001b[38;5;124m    \u001b[39m\u001b[38;5;124m\"\u001b[39m\u001b[38;5;124mfirst_name\u001b[39m\u001b[38;5;124m\"\u001b[39m\u001b[38;5;124m:\u001b[39m\u001b[38;5;124m\"\u001b[39m\u001b[38;5;124mJames\u001b[39m\u001b[38;5;124m\"\u001b[39m\u001b[38;5;124m,\u001b[39m\n\u001b[1;32m     10\u001b[0m \u001b[38;5;124m    \u001b[39m\u001b[38;5;124m\"\u001b[39m\u001b[38;5;124mlast_name\u001b[39m\u001b[38;5;124m\"\u001b[39m\u001b[38;5;124m:\u001b[39m\u001b[38;5;124m\"\u001b[39m\u001b[38;5;124mHan\u001b[39m\u001b[38;5;124m\"\u001b[39m\u001b[38;5;124m    \u001b[39m\n\u001b[1;32m     11\u001b[0m \u001b[38;5;124m}\u001b[39m\n\u001b[1;32m     12\u001b[0m \u001b[38;5;124m'''\u001b[39m\n\u001b[0;32m---> 13\u001b[0m p4 \u001b[38;5;241m=\u001b[39m \u001b[43mPerson\u001b[49m\u001b[38;5;241;43m.\u001b[39;49m\u001b[43mmodel_validate_json\u001b[49m\u001b[43m(\u001b[49m\u001b[43mdata_json\u001b[49m\u001b[43m)\u001b[49m\n\u001b[1;32m     14\u001b[0m \u001b[38;5;28mprint\u001b[39m(p4)\n",
      "File \u001b[0;32m~/.local/lib/python3.10/site-packages/pydantic/main.py:580\u001b[0m, in \u001b[0;36mBaseModel.model_validate_json\u001b[0;34m(cls, json_data, strict, context)\u001b[0m\n\u001b[1;32m    578\u001b[0m \u001b[38;5;66;03m# `__tracebackhide__` tells pytest and some other tools to omit this function from tracebacks\u001b[39;00m\n\u001b[1;32m    579\u001b[0m __tracebackhide__ \u001b[38;5;241m=\u001b[39m \u001b[38;5;28;01mTrue\u001b[39;00m\n\u001b[0;32m--> 580\u001b[0m \u001b[38;5;28;01mreturn\u001b[39;00m \u001b[38;5;28;43mcls\u001b[39;49m\u001b[38;5;241;43m.\u001b[39;49m\u001b[43m__pydantic_validator__\u001b[49m\u001b[38;5;241;43m.\u001b[39;49m\u001b[43mvalidate_json\u001b[49m\u001b[43m(\u001b[49m\u001b[43mjson_data\u001b[49m\u001b[43m,\u001b[49m\u001b[43m \u001b[49m\u001b[43mstrict\u001b[49m\u001b[38;5;241;43m=\u001b[39;49m\u001b[43mstrict\u001b[49m\u001b[43m,\u001b[49m\u001b[43m \u001b[49m\u001b[43mcontext\u001b[49m\u001b[38;5;241;43m=\u001b[39;49m\u001b[43mcontext\u001b[49m\u001b[43m)\u001b[49m\n",
      "\u001b[0;31mValidationError\u001b[0m: 1 validation error for Person\nage\n  Field required [type=missing, input_value={'first_name': 'James', 'last_name': 'Han'}, input_type=dict]\n    For further information visit https://errors.pydantic.dev/2.7/v/missing"
     ]
    }
   ],
   "source": [
    "class Person(BaseModel):\n",
    "    #field一定要有type hint\n",
    "    first_name:str #一定要有資料\n",
    "    last_name:str #一定要有資料\n",
    "    age:int  \n",
    "\n",
    "data_json = '''\n",
    "{\n",
    "    \"first_name\":\"James\",\n",
    "    \"last_name\":\"Han\"    \n",
    "}\n",
    "'''\n",
    "p4 = Person.model_validate_json(data_json)\n",
    "print(p4)"
   ]
  },
  {
   "cell_type": "code",
   "execution_count": 9,
   "id": "22b2e93c",
   "metadata": {},
   "outputs": [
    {
     "name": "stdout",
     "output_type": "stream",
     "text": [
      "first_name='john' last_name='Smith' age=0 lucky_numbers=[]\n"
     ]
    }
   ],
   "source": [
    "class Person(BaseModel):\n",
    "    #field一定要有type hint\n",
    "    first_name:str #一定要有資料\n",
    "    last_name:str  #一定要有資料\n",
    "    age:int = 0    #有預設的值\n",
    "    lucky_numbers:list[int] = []    #有預設的值\n",
    "\n",
    "data_json = '''\n",
    "{\n",
    "    \"first_name\":\"john\",\n",
    "    \"last_name\":\"Smith\"    \n",
    "}\n",
    "'''\n",
    "p4 = Person.model_validate_json(data_json)\n",
    "print(p4)"
   ]
  },
  {
   "cell_type": "code",
   "execution_count": 10,
   "id": "b6cdac84",
   "metadata": {},
   "outputs": [
    {
     "name": "stdout",
     "output_type": "stream",
     "text": [
      "first_name='john' last_name='Smith' age=0 lucky_numbers=[1, 2, 3, 4, 5]\n"
     ]
    }
   ],
   "source": [
    "class Person(BaseModel):\n",
    "    #field一定要有type hint\n",
    "    first_name:str #一定要有資料\n",
    "    last_name:str #一定要有資料\n",
    "    age:int = 0 #有預設的值\n",
    "    lucky_numbers:list[int] = []\n",
    "\n",
    "data_json = '''\n",
    "{\n",
    "    \"first_name\":\"john\",\n",
    "    \"last_name\":\"Smith\",\n",
    "    \"lucky_numbers\":[1,2,\"3\",4,5]    \n",
    "}\n",
    "'''\n",
    "p4 = Person.model_validate_json(data_json)\n",
    "print(p4)"
   ]
  },
  {
   "cell_type": "code",
   "execution_count": 11,
   "id": "2014e416",
   "metadata": {
    "scrolled": true
   },
   "outputs": [
    {
     "name": "stdout",
     "output_type": "stream",
     "text": [
      "id_=100 first_name='John' last_name='Smith' age=42\n"
     ]
    }
   ],
   "source": [
    "data_json = '''\n",
    "{\n",
    "    \"id\":100,\n",
    "    \"First Name\":\"John\",\n",
    "    \"LASTNAME\":\"Smith\",\n",
    "    \"age in years\": 42    \n",
    "}\n",
    "'''\n",
    "# 欄位名稱有 空白 大小寫，但是變數名稱是不可有空白，此時需要import class: Field\n",
    "\n",
    "from pydantic import BaseModel,Field\n",
    "\n",
    "class Person(BaseModel):\n",
    "    id_:int = Field(alias=\"id\")\n",
    "    first_name:str = Field(alias=\"First Name\")\n",
    "    last_name:str = Field(alias=\"LASTNAME\")\n",
    "    age:int = Field(alias=\"age in years\",default=0)\n",
    "\n",
    "p1 = Person.model_validate_json(data_json)\n",
    "print(p1)"
   ]
  },
  {
   "cell_type": "markdown",
   "id": "e6458349",
   "metadata": {},
   "source": [
    "Pydantic 的 Field 是一个用于定义模型字段的类，它允许你为模型中的每个字段指定类型、默认值、描述以及其他验证规则。以下是 Field 的一些常见用法：\n",
    "\n",
    "1.定义字段类型：通过 Field 可以明确指定字段的数据类型，确保数据的类型安全。\n",
    "2.设置默認值：可以在 Field 中为字段设置默認值，当创建模型实例时未提供该字段的值，将使用默认值。\n",
    "3.添加描述信息：可以为字段添加描述信息，这有助于生成文档或在错误消息中提供更清晰的说明。\n",
    "4.自定义验证：如果需要对字段进行额外的验证，可以在 Field 中使用 validator 参数来添加自定义的验证函数。\n",
    "5.字段别名：有时候需要在不同的上下文中使用不同的字段名，可以通过 Field 的 alias 参数来实现。\n",
    "\n",
    "6.控制序列化：通过 Field 的 exclude 参数，可以控制该字段是否被包含在模型的序列化输出中。\n",
    "7.读取描述：可以使用 description 属性来获取字段的描述信息，这在自动生成API文档时非常有用。\n",
    "8.额外信息：Field 还支持 title、example 等其他参数，用于提供更多关于字段的信息。\n",
    "9.继承和共享：如果多个模型中有相同的字段定义，可以使用 Field 来实现字段的继承和共享，避免重复代码。\n",
    "10.配合类型注解：Field 通常与 Python 的类型注解一起使用，以提供更强的类型检查和自动完成功能。"
   ]
  },
  {
   "cell_type": "markdown",
   "id": "61a4b4b6",
   "metadata": {},
   "source": [
    "# 巢狀的Model"
   ]
  },
  {
   "cell_type": "code",
   "execution_count": 12,
   "id": "bb6bf080",
   "metadata": {},
   "outputs": [
    {
     "name": "stdout",
     "output_type": "stream",
     "text": [
      "Taiwan\n",
      "Kaoshiung\n",
      "1992-11-01\n",
      "James\n",
      "Han\n"
     ]
    }
   ],
   "source": [
    "data:str = '''\n",
    "{\n",
    "    \"firstName\": \"James\",\n",
    "    \"lastName\": \"Han\",\n",
    "    \"born\":{\n",
    "        \"place\":{\n",
    "            \"country\":\"Taiwan\",\n",
    "            \"city\": \"Kaoshiung\"\n",
    "        },\n",
    "        \"date\":\"1992-11-01\"\n",
    "    }\n",
    "}\n",
    "'''\n",
    "# 只要有Dictionary，由內而外層層建立BaseModel\n",
    "from pydantic import BaseModel,Field\n",
    "class Place(BaseModel):\n",
    "    country:str\n",
    "    city:str\n",
    "\n",
    "class Born(BaseModel):\n",
    "    place:Place\n",
    "    date:str\n",
    "\n",
    "class Person(BaseModel):\n",
    "    first_name:str = Field(alias=\"firstName\")\n",
    "    last_name:str = Field(alias=\"lastName\")\n",
    "    born:Born\n",
    "\n",
    "p1 = Person.model_validate_json(data)\n",
    "print(p1.born.place.country)\n",
    "print(p1.born.place.city)\n",
    "print(p1.born.date)\n",
    "print(p1.first_name)\n",
    "print(p1.last_name)"
   ]
  },
  {
   "cell_type": "code",
   "execution_count": null,
   "id": "c1cdb53c",
   "metadata": {},
   "outputs": [],
   "source": []
  }
 ],
 "metadata": {
  "kernelspec": {
   "display_name": "Python 3 (ipykernel)",
   "language": "python",
   "name": "python3"
  },
  "language_info": {
   "codemirror_mode": {
    "name": "ipython",
    "version": 3
   },
   "file_extension": ".py",
   "mimetype": "text/x-python",
   "name": "python",
   "nbconvert_exporter": "python",
   "pygments_lexer": "ipython3",
   "version": "3.12.3"
  }
 },
 "nbformat": 4,
 "nbformat_minor": 5
}
