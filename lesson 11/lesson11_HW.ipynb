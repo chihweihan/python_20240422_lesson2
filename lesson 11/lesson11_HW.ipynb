{
 "cells": [
  {
   "cell_type": "markdown",
   "id": "d74c37f1",
   "metadata": {},
   "source": [
    "### 若根目錄為 Dictionary， 都用 Basedata 來解析\n",
    "### pydantic 提供 BaseModel 讓開發者能夠透過繼承該類別並且利用 typing 註記類別屬性的型別，就能夠擁有基本的驗證功能。"
   ]
  },
  {
   "cell_type": "code",
   "execution_count": 1,
   "id": "8f85d9c9",
   "metadata": {},
   "outputs": [
    {
     "name": "stdout",
     "output_type": "stream",
     "text": [
      "name='Scott' website='stackabuse.com' born='Nebraska'\n",
      "name='Larry' website='google.com' born='Michigan'\n"
     ]
    }
   ],
   "source": [
    "from pydantic import BaseModel,Field\n",
    "\n",
    "class Person(BaseModel):\n",
    "    name: str\n",
    "    website: str\n",
    "    born: str = Field(alias='from')\n",
    "\n",
    "# 根 與 key:people        \n",
    "class Data(BaseModel):\n",
    "    people:list[Person]\n",
    "\n",
    "with open('data.json',encoding='utf-8') as file:\n",
    "    constent:str = file.read()\n",
    "    data:Data = Data.model_validate_json(constent)    # class(Data)的method  #驗證json字串\n",
    "\n",
    "data_list:list[Person] = data.people           #因為data.people是list\n",
    "for item in data_list:    #list為串列資料 ->用迴圈 for...in...\n",
    "    print(item)"
   ]
  },
  {
   "cell_type": "code",
   "execution_count": 2,
   "id": "fcfc42bf",
   "metadata": {},
   "outputs": [
    {
     "name": "stdout",
     "output_type": "stream",
     "text": [
      "{'people': [{'born': 'Nebraska', 'name': 'Scott', 'website': 'stackabuse.com'},\n",
      "            {'born': 'Michigan', 'name': 'Larry', 'website': 'google.com'}]}\n"
     ]
    }
   ],
   "source": [
    "# pprint 是一個 Python 模組，它提供了漂亮列印 Python 資料型別的能力，使其更易讀，專用來看 dict。\n",
    "# 利用 model_dump 將data.json 轉為 基本資料結構(list/dict/set)\n",
    "from pprint import pprint\n",
    "\n",
    "data_dict:dict = data.model_dump()  #實體(data)的method\n",
    "pprint(data_dict)"
   ]
  },
  {
   "cell_type": "code",
   "execution_count": 3,
   "id": "6b18d43e",
   "metadata": {},
   "outputs": [
    {
     "name": "stdout",
     "output_type": "stream",
     "text": [
      "{'banana': 3.14, 'foo': 'hello', 'bar': {'whatever': 123}}\n",
      "{'foo': 'hello', 'bar': {'whatever': 123}}\n",
      "{'banana': 3.14}\n",
      "{'banana': 3.14, 'foo_alias': 'hello', 'bar': {'whatever': 123}}\n"
     ]
    }
   ],
   "source": [
    "from typing import Any, List, Optional\n",
    "\n",
    "from pydantic import BaseModel, Field, Json\n",
    "\n",
    "class BarModel(BaseModel):\n",
    "    whatever: int\n",
    "\n",
    "class FooBarModel(BaseModel):\n",
    "    banana: Optional[float] = 1.1\n",
    "    foo: str = Field(serialization_alias='foo_alias')\n",
    "    bar: BarModel\n",
    "\n",
    "m = FooBarModel(banana=3.14, foo='hello', bar={'whatever': 123})\n",
    "# 這是將模型轉換為字典的主要方法。子模型將遞歸地轉換為字典。\n",
    "# returns a dictionary:\n",
    "print(m.model_dump())\n",
    "print(m.model_dump(include={'foo', 'bar'}))\n",
    "print(m.model_dump(exclude={'foo', 'bar'}))\n",
    "print(m.model_dump(by_alias=True))"
   ]
  },
  {
   "cell_type": "code",
   "execution_count": 4,
   "id": "1e4475f1",
   "metadata": {},
   "outputs": [
    {
     "name": "stdout",
     "output_type": "stream",
     "text": [
      "('people', [Person(name='Scott', website='stackabuse.com', born='Nebraska'), Person(name='Larry', website='google.com', born='Michigan')])\n"
     ]
    }
   ],
   "source": [
    "from pydantic import BaseModel,Field\n",
    "\n",
    "class Person(BaseModel):\n",
    "    name: str\n",
    "    website: str\n",
    "    born: str = Field(alias='from')\n",
    "\n",
    "class Data(BaseModel):\n",
    "    people:list[Person]\n",
    "\n",
    "with open('data.json',encoding='utf-8') as file:\n",
    "    data:Data = Data.model_validate_json(file.read()) \n",
    "\n",
    "for item in data:\n",
    "    print(item)"
   ]
  },
  {
   "cell_type": "code",
   "execution_count": null,
   "id": "2855932f",
   "metadata": {},
   "outputs": [],
   "source": []
  }
 ],
 "metadata": {
  "kernelspec": {
   "display_name": "Python 3 (ipykernel)",
   "language": "python",
   "name": "python3"
  },
  "language_info": {
   "codemirror_mode": {
    "name": "ipython",
    "version": 3
   },
   "file_extension": ".py",
   "mimetype": "text/x-python",
   "name": "python",
   "nbconvert_exporter": "python",
   "pygments_lexer": "ipython3",
   "version": "3.11.9"
  }
 },
 "nbformat": 4,
 "nbformat_minor": 5
}
