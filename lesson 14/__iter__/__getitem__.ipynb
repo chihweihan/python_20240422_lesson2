{
 "cells": [
  {
   "cell_type": "code",
   "execution_count": 7,
   "metadata": {},
   "outputs": [
    {
     "name": "stdout",
     "output_type": "stream",
     "text": [
      "dog\n",
      "cat\n"
     ]
    },
    {
     "data": {
      "text/plain": [
       "'cat'"
      ]
     },
     "execution_count": 7,
     "metadata": {},
     "output_type": "execute_result"
    }
   ],
   "source": [
    "from pydantic import RootModel\n",
    "\n",
    "class Pets(RootModel):\n",
    "    root: List[str]\n",
    "\n",
    "    def __iter__(self):\n",
    "        return iter(self.root)\n",
    "# 讓Pets 有 list 功能，可被人用 for...in...迴圈一個一個抓，需傳出interator物件，使用iter()傳出iter的物件\n",
    "\n",
    "    def __getitem__(self, item):\n",
    "        return self.root[item]\n",
    "# 可做 subscript (標記)\n",
    "\n",
    "pets = Pets.model_validate(['dog', 'cat'])   #有一個list[] 給root\n",
    "for pet in pets:\n",
    "    print(pet)\n",
    "\n",
    "pets[1]"
   ]
  },
  {
   "cell_type": "code",
   "execution_count": 8,
   "metadata": {},
   "outputs": [
    {
     "name": "stdout",
     "output_type": "stream",
     "text": [
      "dog\n",
      "['dog', 'cat']\n"
     ]
    }
   ],
   "source": [
    "print(pets[0])\n",
    "print([pet for pet in pets])"
   ]
  }
 ],
 "metadata": {
  "kernelspec": {
   "display_name": "Python 3",
   "language": "python",
   "name": "python3"
  },
  "language_info": {
   "codemirror_mode": {
    "name": "ipython",
    "version": 3
   },
   "file_extension": ".py",
   "mimetype": "text/x-python",
   "name": "python",
   "nbconvert_exporter": "python",
   "pygments_lexer": "ipython3",
   "version": "3.10.14"
  }
 },
 "nbformat": 4,
 "nbformat_minor": 2
}
