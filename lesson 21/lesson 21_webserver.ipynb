{
 "cells": [
  {
   "cell_type": "markdown",
   "metadata": {},
   "source": [
    "# flask\n",
    "https://flask.palletsprojects.com/en/3.0.x/quickstart/#a-minimal-application\n",
    "\n",
    "執行：於webServer開啟bash終端機 輸入  $ flask --app XXXX(檔名) run\n"
   ]
  },
  {
   "cell_type": "markdown",
   "metadata": {},
   "source": [
    "# WSGI server： gunicorn\n",
    "\n",
    "https://gunicorn.org/\n",
    "\n",
    "執行：於webServer開啟bash終端機 輸入  $ gunicorn  XXXX(檔名):app\n"
   ]
  },
  {
   "cell_type": "markdown",
   "metadata": {},
   "source": [
    "1233"
   ]
  }
 ],
 "metadata": {
  "kernelspec": {
   "display_name": "base",
   "language": "python",
   "name": "python3"
  },
  "language_info": {
   "name": "python",
   "version": "3.11.9"
  }
 },
 "nbformat": 4,
 "nbformat_minor": 2
}
