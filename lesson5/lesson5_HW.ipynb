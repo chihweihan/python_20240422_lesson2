{
 "cells": [
  {
   "cell_type": "code",
   "execution_count": 7,
   "metadata": {},
   "outputs": [
    {
     "name": "stdout",
     "output_type": "stream",
     "text": [
      "輸入內容有誤：invalid syntax (<string>, line 1)，請重新輸入。\n"
     ]
    }
   ],
   "source": [
    "try:\n",
    "    name = input(\"請輸入姓名：\")\n",
    "    height = eval(input(\"請輸入身高(cm)\"))\n",
    "    weight = eval(input(\"請輸入體重(kg)\"))\n",
    "\n",
    "    BMI = weight / (height / 100) ** 2 \n",
    "\n",
    "    print(f\"{name}，您的身高：{height} cm，體重：{weight} kg。\\n經計算過後，您的BMI：{round(BMI, ndigits=2)}\")\n",
    "    if BMI > 18.5:\n",
    "        if BMI >= 24:\n",
    "            print(\"要小心囉，「體重過重」了！\")\n",
    "        else:\n",
    "            print(\"恭喜！「健康體重」，要繼續保持！\")\n",
    "    else:\n",
    "        print(\"「體重過輕」，需要多運動，均衡飲食，以增加體能，維持健康！\")\n",
    "except Exception as e:\n",
    "    print(f'輸入內容有誤：{e}，請重新輸入。')"
   ]
  },
  {
   "cell_type": "code",
   "execution_count": null,
   "metadata": {},
   "outputs": [],
   "source": []
  }
 ],
 "metadata": {
  "kernelspec": {
   "display_name": "Python 3",
   "language": "python",
   "name": "python3"
  },
  "language_info": {
   "codemirror_mode": {
    "name": "ipython",
    "version": 3
   },
   "file_extension": ".py",
   "mimetype": "text/x-python",
   "name": "python",
   "nbconvert_exporter": "python",
   "pygments_lexer": "ipython3",
   "version": "3.10.14"
  }
 },
 "nbformat": 4,
 "nbformat_minor": 2
}
