{
 "cells": [
  {
   "cell_type": "markdown",
   "metadata": {},
   "source": [
    "https://www.slingacademy.com/article/pandas-dataframe-stack-unstack-methods-7-examples/#:~:text=Essentially%2C%20stack%28%29%20converts%20column%20levels%20into%20index%20levels%2C,facilitating%20a%20pivot%20from%20long%20to%20wide%20format."
   ]
  },
  {
   "cell_type": "code",
   "execution_count": 1,
   "metadata": {},
   "outputs": [
    {
     "name": "stdout",
     "output_type": "stream",
     "text": [
      "       A     B  C\n",
      "0    one  four  1\n",
      "1    two  five  2\n",
      "2  three   six  3\n"
     ]
    }
   ],
   "source": [
    "import pandas as pd\n",
    "\n",
    "# Sample DataFrame\n",
    "df = pd.DataFrame({\n",
    "    'A': ['one', 'two', 'three'],\n",
    "    'B': ['four', 'five', 'six'],\n",
    "    'C': [1, 2, 3]\n",
    "})\n",
    "print(df)"
   ]
  },
  {
   "cell_type": "code",
   "execution_count": 2,
   "metadata": {},
   "outputs": [
    {
     "name": "stdout",
     "output_type": "stream",
     "text": [
      "0  A      one\n",
      "   B     four\n",
      "   C        1\n",
      "1  A      two\n",
      "   B     five\n",
      "   C        2\n",
      "2  A    three\n",
      "   B      six\n",
      "   C        3\n",
      "dtype: object\n"
     ]
    }
   ],
   "source": [
    "stacked_df = df.stack()\n",
    "print(stacked_df)"
   ]
  },
  {
   "cell_type": "code",
   "execution_count": 3,
   "metadata": {},
   "outputs": [
    {
     "name": "stdout",
     "output_type": "stream",
     "text": [
      "       A     B  C\n",
      "0    one  four  1\n",
      "1    two  five  2\n",
      "2  three   six  3\n"
     ]
    }
   ],
   "source": [
    "unstacked_df = stacked_df.unstack()\n",
    "print(unstacked_df)"
   ]
  },
  {
   "cell_type": "code",
   "execution_count": 4,
   "metadata": {},
   "outputs": [
    {
     "name": "stdout",
     "output_type": "stream",
     "text": [
      "0  A      one\n",
      "   B     four\n",
      "1  A      two\n",
      "   B     five\n",
      "2  A    three\n",
      "   B      six\n",
      "dtype: object\n"
     ]
    }
   ],
   "source": [
    "partially_stacked = df[['A', 'B']].stack()\n",
    "print(partially_stacked)"
   ]
  },
  {
   "cell_type": "code",
   "execution_count": 5,
   "metadata": {},
   "outputs": [
    {
     "name": "stdout",
     "output_type": "stream",
     "text": [
      "      0     1      2\n",
      "A   one   two  three\n",
      "B  four  five    six\n",
      "C     1     2      3\n"
     ]
    }
   ],
   "source": [
    "multi_level_df = df.stack()\n",
    "unstacked_by_level = multi_level_df.unstack(level=0)\n",
    "print(unstacked_by_level)"
   ]
  },
  {
   "cell_type": "code",
   "execution_count": 6,
   "metadata": {},
   "outputs": [
    {
     "name": "stdout",
     "output_type": "stream",
     "text": [
      "0      one\n",
      "1      two\n",
      "2    three\n",
      "dtype: object\n"
     ]
    }
   ],
   "source": [
    "cross_section = multi_level_df.xs('A', level=1)\n",
    "print(cross_section)"
   ]
  },
  {
   "cell_type": "code",
   "execution_count": 9,
   "metadata": {},
   "outputs": [
    {
     "name": "stdout",
     "output_type": "stream",
     "text": [
      "       A     B  C\n",
      "0    one  four  1\n",
      "1    two  five  2\n",
      "2  three   six  3\n",
      "0  A      one\n",
      "   B     four\n",
      "   C        1\n",
      "1  B     five\n",
      "   C        2\n",
      "2  A    three\n",
      "   B      six\n",
      "   C        3\n",
      "dtype: object\n"
     ]
    }
   ],
   "source": [
    "df_with_na = pd.DataFrame({\n",
    "    'A': ['one', None, 'three'],\n",
    "    'B': ['four', 'five', 'six'],\n",
    "    'C': [1, 2, 3]\n",
    "})\n",
    "print(df)\n",
    "stacked_with_na = df_with_na.stack()\n",
    "print(stacked_with_na)\n",
    "# 缺失值會自動排除，從而簡化數據清理過程。"
   ]
  },
  {
   "cell_type": "markdown",
   "metadata": {},
   "source": [
    "對於具有多級列的 DataFrame，堆疊和取消堆疊可以以複雜的方式轉換數據結構。"
   ]
  },
  {
   "cell_type": "code",
   "execution_count": 10,
   "metadata": {},
   "outputs": [
    {
     "name": "stdout",
     "output_type": "stream",
     "text": [
      "                   B    C\n",
      "(A, cat)                 \n",
      "one      dog    four  NaN\n",
      "         mouse   NaN  1.0\n",
      "two      dog    five  NaN\n",
      "         mouse   NaN  2.0\n",
      "three    dog     six  NaN\n",
      "         mouse   NaN  3.0\n"
     ]
    },
    {
     "name": "stderr",
     "output_type": "stream",
     "text": [
      "C:\\Users\\Han PC\\AppData\\Local\\Temp\\ipykernel_20424\\3534490158.py:5: FutureWarning: The previous implementation of stack is deprecated and will be removed in a future version of pandas. See the What's New notes for pandas 2.1.0 for details. Specify future_stack=True to adopt the new implementation and silence this warning.\n",
      "  }).set_index([('A', 'cat')]).stack()\n"
     ]
    }
   ],
   "source": [
    "multi_col_df = pd.DataFrame({\n",
    "    ('A', 'cat'): ['one', 'two', 'three'],\n",
    "    ('B', 'dog'): ['four', 'five', 'six'],\n",
    "    ('C', 'mouse'): [1, 2, 3]\n",
    "}).set_index([('A', 'cat')]).stack()\n",
    "print(multi_col_df)"
   ]
  }
 ],
 "metadata": {
  "kernelspec": {
   "display_name": "base",
   "language": "python",
   "name": "python3"
  },
  "language_info": {
   "codemirror_mode": {
    "name": "ipython",
    "version": 3
   },
   "file_extension": ".py",
   "mimetype": "text/x-python",
   "name": "python",
   "nbconvert_exporter": "python",
   "pygments_lexer": "ipython3",
   "version": "3.12.4"
  }
 },
 "nbformat": 4,
 "nbformat_minor": 2
}
