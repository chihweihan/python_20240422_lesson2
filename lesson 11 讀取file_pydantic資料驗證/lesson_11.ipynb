{
  "cells": [
    {
      "cell_type": "code",
      "execution_count": 1,
      "metadata": {
        "id": "ciy2a28NkpZd"
      },
      "outputs": [],
      "source": [
        "from pydantic import BaseModel\n",
        "\n",
        "class Person(BaseModel):   # Person繼承BaseModel\n",
        "    # field 一定要有 type hint\n",
        "    first_name:str\n",
        "    last_name:str\n",
        "    age:int"
      ]
    },
    {
      "cell_type": "code",
      "execution_count": 2,
      "metadata": {
        "colab": {
          "base_uri": "https://localhost:8080/"
        },
        "id": "BKtqybyQkrJT",
        "outputId": "61017aad-3259-4adf-eac5-897a020205ee"
      },
      "outputs": [
        {
          "name": "stdout",
          "output_type": "stream",
          "text": [
            "first_name='James' last_name='Han' age=31\n"
          ]
        }
      ],
      "source": [
        "data_json = '''\n",
        "{\n",
        "    \"first_name\":\"James\",\n",
        "    \"last_name\":\"Han\",\n",
        "    \"age\":\"31\"\n",
        "}\n",
        "'''\n",
        "#用 model.validate 將字串變成實體 p3\n",
        "p3 = Person.model_validate_json(data_json)\n",
        "print(p3)"
      ]
    }
  ],
  "metadata": {
    "colab": {
      "provenance": []
    },
    "kernelspec": {
      "display_name": "Python 3",
      "name": "python3"
    },
    "language_info": {
      "codemirror_mode": {
        "name": "ipython",
        "version": 3
      },
      "file_extension": ".py",
      "mimetype": "text/x-python",
      "name": "python",
      "nbconvert_exporter": "python",
      "pygments_lexer": "ipython3",
      "version": "3.12.4"
    }
  },
  "nbformat": 4,
  "nbformat_minor": 0
}
