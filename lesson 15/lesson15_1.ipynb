{
 "cells": [
  {
   "cell_type": "code",
   "execution_count": null,
   "metadata": {},
   "outputs": [],
   "source": [
    "student1 = {'chinese':78, 'english':80, 'math':92, 'history':75, 'discover':85} #元素數量要記得\n",
    "student2 = {'chinese':92, 'english':60, 'math':85, 'history':62, 'discover':73}\n",
    "\n",
    "keys = student1.keys()\n",
    "subject:list[str] = list(keys)\n",
    "values = student1.values()\n",
    "values1 = list(values)\n",
    "values2 = list(student2.values())  \n",
    "\n",
    "# 繪圖  dpi(解析度) facecolor(參考日本色票)\n",
    "import matplotlib.pyplot as plt\n",
    "figure = plt.figure(figsize=[6,4], dpi=250, facecolor='#81C7D4')\n",
    "axes = figure.add_subplot(1, 1, 1)   #一欄一列\n",
    "axes.plot(subject,values1, 'bo--', label=\"student1\") # (X軸,y軸, '[顏色][marker][style]')  \n",
    "axes.plot(subject,values2, 'r*-.', label=\"student2\")\n",
    "axes.grid(axis='y')  #畫線 (決定x軸y軸還是兩者)\n",
    "axes.set_title(\"student1 vs student2\")\n",
    "axes.set_xlabel(\"subjects\")\n",
    "axes.set_ylabel(\"scores\")\n",
    "axes.legend()   #顯示標記\n",
    "\n",
    "#print(axes.get_xticks())     #每個科目為一個座標\n",
    "#print(axes.get_yticks())\n",
    "labels = axes.get_xticklabels()\n",
    "#print(labels)\n",
    "for text in labels:\n",
    "    subject_name = text.get_text()\n",
    "    score1 = student1[subject_name]\n",
    "    x_value = text.get_position()[0]\n",
    "    axes.annotate(str(score1),(x_value, score1+0.5))                 #annotate：註解\n",
    "    score2 = student2[subject_name]\n",
    "    axes.annotate(str(score2),(x_value, score2+0.5))\n",
    "\n",
    "plt.show()"
   ]
  }
 ],
 "metadata": {
  "language_info": {
   "name": "python"
  }
 },
 "nbformat": 4,
 "nbformat_minor": 2
}
