{
 "cells": [
  {
   "cell_type": "markdown",
   "metadata": {},
   "source": [
    "### python 內建資料結構： list/dict/set\n",
    "- 取得每個值，必須使用 for...in..."
   ]
  },
  {
   "cell_type": "code",
   "execution_count": 4,
   "metadata": {},
   "outputs": [
    {
     "name": "stdout",
     "output_type": "stream",
     "text": [
      "144\n",
      "0\n",
      "==============\n",
      "170\n",
      "1\n",
      "==============\n",
      "164\n",
      "2\n",
      "==============\n",
      "167\n",
      "3\n",
      "==============\n",
      "177\n",
      "4\n",
      "==============\n"
     ]
    }
   ],
   "source": [
    "student1 = [69, 78, 72, 91, 85]\n",
    "student2 = [75, 92, 92, 76, 92]\n",
    "# 將同一列的數字相加\n",
    "len(student1)  #長度\n",
    "for i in range(len(student1)):       #list/dict 若要一個一個取出裡面的值，一定是配合 for...in...\n",
    "    scores = student1[i] + student2[i]\n",
    "    print(scores)\n",
    "    print(i)\n",
    "    print(\"==============\")"
   ]
  },
  {
   "cell_type": "code",
   "execution_count": 5,
   "metadata": {},
   "outputs": [
    {
     "data": {
      "text/plain": [
       "[69, 78, 72, 91, 85, 75, 92, 92, 76, 92]"
      ]
     },
     "execution_count": 5,
     "metadata": {},
     "output_type": "execute_result"
    }
   ],
   "source": [
    "student1 = [69, 78, 72, 91, 85]\n",
    "student2 = [75, 92, 92, 76, 92]\n",
    "\n",
    "student1 + student2   #(串接list)"
   ]
  },
  {
   "cell_type": "markdown",
   "metadata": {},
   "source": [
    "### python 擴充的資料結構\n",
    "- numpy\n",
    "- Series\n",
    "- DataFrame\n",
    "可以陣列運算\n"
   ]
  },
  {
   "cell_type": "markdown",
   "metadata": {},
   "source": [
    "### numpy 陣列運算\n",
    "numpy.array\n",
    "- numpy.array(object, dtype=None, *, copy=True, order='K', subok=False, ndmin=0, like=None)\n",
    "Create an array (list)."
   ]
  },
  {
   "cell_type": "code",
   "execution_count": 1,
   "metadata": {},
   "outputs": [
    {
     "name": "stdout",
     "output_type": "stream",
     "text": [
      "<class 'numpy.ndarray'>\n",
      "[144 170 164 167 177]\n",
      "=========\n",
      "144\n",
      "=========\n",
      "170\n",
      "=========\n",
      "164\n",
      "=========\n",
      "167\n",
      "=========\n",
      "177\n"
     ]
    }
   ],
   "source": [
    "import numpy as np\n",
    "from numpy import ndarray\n",
    "student1:ndarray = np.array([69, 78, 72, 91, 85])\n",
    "student2:ndarray = np.array([75, 92, 92, 76, 92])\n",
    "print(type(student1))\n",
    "print(student1 + student2)\n",
    "#可以做陣列運算,不需使用for...in\n",
    "\n",
    "totols:ndarray= student1 + student2\n",
    "for total in totols:\n",
    "    print(\"=========\")\n",
    "    print(total)\n"
   ]
  },
  {
   "cell_type": "code",
   "execution_count": 4,
   "metadata": {},
   "outputs": [
    {
     "name": "stdout",
     "output_type": "stream",
     "text": [
      "[[1 2 3]\n",
      " [4 5 6]]\n",
      "2\n",
      "(2, 3)\n",
      "6\n",
      "int32\n"
     ]
    }
   ],
   "source": [
    "# 二維資料轉換 list內有list\n",
    "array:ndarray = np.array([[1,2,3],[4,5,6]])\n",
    "print(array)\n",
    "#property 查詢\n",
    "#ndim,shape,size,dtype\n",
    "\n",
    "print(array.ndim)   #(維度)\n",
    "print(array.shape)  #(形狀)：第一維(最外面括號)2個；第二維(第二層括號)3個\n",
    "print(array.size)   #(元素數量)\n",
    "print(array.dtype)  #(資料類型)"
   ]
  },
  {
   "cell_type": "code",
   "execution_count": 14,
   "metadata": {},
   "outputs": [
    {
     "data": {
      "text/plain": [
       "array([[96, 59, 84, 80, 79],\n",
       "       [59, 83, 61, 87, 84],\n",
       "       [73, 91, 88, 73, 77],\n",
       "       [93, 94, 92, 58, 91],\n",
       "       [50, 72, 70, 58, 70],\n",
       "       [51, 98, 50, 62, 81],\n",
       "       [82, 53, 64, 84, 78],\n",
       "       [76, 59, 57, 62, 98],\n",
       "       [87, 56, 92, 84, 83],\n",
       "       [63, 68, 82, 82, 77]])"
      ]
     },
     "execution_count": 14,
     "metadata": {},
     "output_type": "execute_result"
    }
   ],
   "source": [
    "# 亂數  (最小值,最大值,size=(第一層括號元素,第二層括號元素)\n",
    "np.random.randint(50,101,size=(10, 5))"
   ]
  }
 ],
 "metadata": {
  "kernelspec": {
   "display_name": "Python 3",
   "language": "python",
   "name": "python3"
  },
  "language_info": {
   "codemirror_mode": {
    "name": "ipython",
    "version": 3
   },
   "file_extension": ".py",
   "mimetype": "text/x-python",
   "name": "python",
   "nbconvert_exporter": "python",
   "pygments_lexer": "ipython3",
   "version": "3.12.3"
  }
 },
 "nbformat": 4,
 "nbformat_minor": 2
}
