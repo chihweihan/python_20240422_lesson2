{
 "cells": [
  {
   "cell_type": "code",
   "execution_count": 16,
   "metadata": {},
   "outputs": [
    {
     "name": "stdout",
     "output_type": "stream",
     "text": [
      "james, 您的BMI: 20.0\n",
      "計算結果：您是屬於正常範圍\n"
     ]
    }
   ],
   "source": [
    "try:\n",
    "    name = input('請輸入姓名:')\n",
    "    height = float(input('請輸入身高(120~230)(cm):')) \n",
    "    if height<120 or height>230:\n",
    "        raise Exception(\"身高必需大於120同時小於230\")    \n",
    "    weight = float(input('請輸入體重(40~170)(kg):'))\n",
    "    if weight<40 or weight>170:\n",
    "        raise Exception(\"體重必需大於40同時小於170\")\n",
    "    bmi = weight / (height / 100) ** 2\n",
    "    \n",
    "    if bmi < 18.5:\n",
    "        result = \"體重過輕\"\n",
    "    elif bmi < 24:\n",
    "        result = \"正常範圍\"\n",
    "    elif bmi < 27:\n",
    "        result = \"體重過重\"\n",
    "    elif bmi < 30:\n",
    "        result = \"輕度肥胖\"\n",
    "    elif bmi < 35:\n",
    "        result = \"中度肥胖\"\n",
    "    else:\n",
    "        result = \"重度肥胖\"\n",
    "    \n",
    "    print(f'{name}, 您的BMI: {round(bmi,ndigits=2)}')\n",
    "    print(f\"計算結果：您是屬於{result}\")\n",
    "\n",
    "except Exception as e:\n",
    "    print(f'錯誤: {e}')"
   ]
  },
  {
   "cell_type": "code",
   "execution_count": null,
   "metadata": {},
   "outputs": [],
   "source": [
    "try:\n",
    "    name = input('請輸入姓名:')\n",
    "    height = float(input('請輸入身高(120~230)(cm):')) \n",
    "    if height<120 or height>230:\n",
    "        raise Exception(\"身高必需大於120同時小於230\")    \n",
    "    weight = float(input('請輸入體重(40~170)(kg):'))\n",
    "    if weight<40 or weight>170:\n",
    "        raise Exception(\"體重必需大於40同時小於170\")\n",
    "    bmi = weight / (height / 100) ** 2\n",
    "    print(f'{name}, 您的BMI: {round(bmi,ndigits=2)}')\n",
    "except Exception as e:\n",
    "    print(f'錯誤: {e}')"
   ]
  },
  {
   "cell_type": "code",
   "execution_count": 2,
   "metadata": {},
   "outputs": [
    {
     "name": "stdout",
     "output_type": "stream",
     "text": [
      "請輸入身高(120~230)(cm):請輸入體重(40~170)(kg):james, 您的BMI: 21.6\n"
     ]
    }
   ],
   "source": [
    "import pyinputplus as pyip\n",
    "\n",
    "name = input(\"請輸入姓名：\")\n",
    "height = pyip.inputFloat(\"請輸入身高(120~230)(cm):\",min=120,max=230)\n",
    "weight = pyip.inputFloat(\"請輸入體重(40~170)(kg):\",min=40,max=170)\n",
    "bmi = weight / (height / 100) ** 2\n",
    "print(f'{name}, 您的BMI: {round(bmi,ndigits=2)}')"
   ]
  }
 ],
 "metadata": {
  "kernelspec": {
   "display_name": "Python 3",
   "language": "python",
   "name": "python3"
  },
  "language_info": {
   "codemirror_mode": {
    "name": "ipython",
    "version": 3
   },
   "file_extension": ".py",
   "mimetype": "text/x-python",
   "name": "python",
   "nbconvert_exporter": "python",
   "pygments_lexer": "ipython3",
   "version": "3.10.14"
  }
 },
 "nbformat": 4,
 "nbformat_minor": 2
}
