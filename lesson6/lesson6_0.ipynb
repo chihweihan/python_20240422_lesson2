{
 "cells": [
  {
   "cell_type": "code",
   "execution_count": 4,
   "metadata": {},
   "outputs": [],
   "source": [
    "# input() 出來是字串，再轉成 float\n",
    "# try內 要縮排，且進行程式區段；出現錯誤，進行except Exception as ~~~~\n",
    "#                                                  若沒後續 可以用 pasS\n",
    "# 巢狀判斷"
   ]
  },
  {
   "cell_type": "code",
   "execution_count": 5,
   "metadata": {},
   "outputs": [
    {
     "name": "stdout",
     "output_type": "stream",
     "text": [
      "格式錯誤: could not convert string to float: ''\n"
     ]
    }
   ],
   "source": [
    "try:\n",
    "    name = input('請輸入姓名:')\n",
    "    height = float(input('請輸入身高(cm):'))\n",
    "    if height >= 120:                  #檢查條件\n",
    "        if height <= 230:\n",
    "            print(\"身高正常\")\n",
    "    weight = float(input('請輸入體重(kg):'))\n",
    "    bmi = weight / (height / 100) ** 2\n",
    "    print(f'{name}, 您的BMI: {round(bmi,ndigits=2)}')\n",
    "except Exception as e:\n",
    "    print(f'格式錯誤: {e}')"
   ]
  },
  {
   "cell_type": "code",
   "execution_count": 6,
   "metadata": {},
   "outputs": [
    {
     "name": "stdout",
     "output_type": "stream",
     "text": [
      "格式錯誤: could not convert string to float: ''\n"
     ]
    }
   ],
   "source": [
    "try:\n",
    "    name = input('請輸入姓名:')\n",
    "    height = float(input('請輸入身高(cm):'))\n",
    "    if height < 120:                  #檢查條件\n",
    "        print(\"身高不正常\")\n",
    "    if height > 230:\n",
    "        print(\"身高不正常\")\n",
    "    weight = float(input('請輸入體重(kg):'))\n",
    "    bmi = weight / (height / 100) ** 2\n",
    "    print(f'{name}, 您的BMI: {round(bmi,ndigits=2)}')\n",
    "except Exception as e:\n",
    "    print(f'格式錯誤: {e}')"
   ]
  },
  {
   "cell_type": "code",
   "execution_count": null,
   "metadata": {},
   "outputs": [],
   "source": [
    "try:\n",
    "    name = input('請輸入姓名:')\n",
    "    height = float(input('請輸入身高(cm):')) \n",
    "    if height >= 120:\n",
    "         if height <= 230:\n",
    "             print(\"身高正常\")\n",
    "    weight = eval(input('請輸入體重(kg):'))\n",
    "    bmi = weight / (height / 100) ** 2\n",
    "    print(f'{name}, 您的BMI: {round(bmi,ndigits=2)}')\n",
    "except ValueError as e:\n",
    "    print(f'格式錯誤: {e}')\n",
    "except SyntaxError as e:\n",
    "    print(f'語法錯誤:體重錯誤')"
   ]
  },
  {
   "cell_type": "markdown",
   "metadata": {},
   "source": [
    "# 邏輯運算子\n",
    "- and(同時) or (2元運算子) not (1元運算子)"
   ]
  },
  {
   "cell_type": "code",
   "execution_count": 7,
   "metadata": {},
   "outputs": [
    {
     "name": "stdout",
     "output_type": "stream",
     "text": [
      "身高正常\n"
     ]
    }
   ],
   "source": [
    "height = float(input('請輸入身高(cm):'))\n",
    "if height >= 120:                  #檢查條件\n",
    "    if height <= 230:\n",
    "        print(\"身高正常\")"
   ]
  },
  {
   "cell_type": "code",
   "execution_count": 13,
   "metadata": {},
   "outputs": [
    {
     "name": "stdout",
     "output_type": "stream",
     "text": [
      "身高不正常\n"
     ]
    }
   ],
   "source": [
    "height = float(input('請輸入身高(cm):'))\n",
    "if height >= 120 and height <= 230:   #邏輯運算子 and 前後要有2個booling\n",
    "    print(\"身高正常\")\n",
    "if height <120  or height >230:\n",
    "    print(\"身高不正常\")"
   ]
  },
  {
   "cell_type": "code",
   "execution_count": 20,
   "metadata": {},
   "outputs": [
    {
     "name": "stdout",
     "output_type": "stream",
     "text": [
      "格式錯誤: could not convert string to float: '18a'\n"
     ]
    }
   ],
   "source": [
    "try:\n",
    "    name = input('請輸入姓名:')\n",
    "    height = float(input('請輸入身高(cm):'))\n",
    "    weight = float(input('請輸入體重(kg):'))\n",
    "    bmi = weight / (height / 100) ** 2\n",
    "    print(f'{name}, 您的BMI: {round(bmi,ndigits=2)}')\n",
    "except Exception as e:\n",
    "    print(f'格式錯誤: {e}')"
   ]
  },
  {
   "cell_type": "code",
   "execution_count": 14,
   "metadata": {},
   "outputs": [
    {
     "name": "stdout",
     "output_type": "stream",
     "text": [
      "身高正常\n",
      "180, 您的BMI: 21.6\n"
     ]
    }
   ],
   "source": [
    "try:\n",
    "    name = input('請輸入姓名:')\n",
    "    height = float(input('請輸入身高(cm):'))\n",
    "    if height >= 120 and height <= 230:   #邏輯運算子 and 前後要有2個booling\n",
    "        print(\"身高正常\")\n",
    "    weight = float(input('請輸入體重(kg):'))\n",
    "    bmi = weight / (height / 100) ** 2\n",
    "    print(f'{name}, 您的BMI: {round(bmi,ndigits=2)}')\n",
    "except Exception as e:\n",
    "    print(f'格式錯誤: {e}')"
   ]
  },
  {
   "cell_type": "code",
   "execution_count": 25,
   "metadata": {},
   "outputs": [
    {
     "name": "stdout",
     "output_type": "stream",
     "text": [
      "錯誤: 身高必需大於120，同時小於230\n"
     ]
    }
   ],
   "source": [
    "try:\n",
    "    name = input('請輸入姓名:')\n",
    "    height = float(input('請輸入身高(cm):')) \n",
    "    if height<120 or height>230:\n",
    "        raise Exception(\"身高必需大於120，同時小於230\")    \n",
    "    weight = float(input('請輸入體重(kg):'))\n",
    "    if weight <40 or weight >170:\n",
    "        raise Exception(\"體重必須大於40，同時小於170\")\n",
    "    bmi = weight / (height / 100) ** 2\n",
    "    print(f'{name}, 您的BMI: {round(bmi,ndigits=2)}')\n",
    "except Exception as e:\n",
    "    print(f'錯誤: {e}')"
   ]
  },
  {
   "cell_type": "code",
   "execution_count": 31,
   "metadata": {},
   "outputs": [
    {
     "name": "stdout",
     "output_type": "stream",
     "text": [
      "560.0\n",
      "身高必須大於120，同時小於230\n"
     ]
    }
   ],
   "source": [
    "try:\n",
    "    height = float(input('請輸入身高(cm):'))\n",
    "    if height <120  or height >230:\n",
    "        print(height)\n",
    "        raise Exception(\"身高必須大於120，同時小於230\")\n",
    "except Exception as e:\n",
    "    print(e)"
   ]
  }
 ],
 "metadata": {
  "kernelspec": {
   "display_name": "Python 3",
   "language": "python",
   "name": "python3"
  },
  "language_info": {
   "codemirror_mode": {
    "name": "ipython",
    "version": 3
   },
   "file_extension": ".py",
   "mimetype": "text/x-python",
   "name": "python",
   "nbconvert_exporter": "python",
   "pygments_lexer": "ipython3",
   "version": "3.10.14"
  }
 },
 "nbformat": 4,
 "nbformat_minor": 2
}
