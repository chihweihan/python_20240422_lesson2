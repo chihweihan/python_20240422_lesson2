{
 "cells": [
  {
   "cell_type": "markdown",
   "id": "1a98b104",
   "metadata": {},
   "source": [
    "#### 通過定義__repr__方法來控制此函數為他的實體所返回的內容(輸出訊息)"
   ]
  },
  {
   "cell_type": "code",
   "execution_count": 2,
   "id": "509d67f5",
   "metadata": {},
   "outputs": [
    {
     "name": "stdout",
     "output_type": "stream",
     "text": [
      "請輸入身高(cm)：請輸入體重(kg)：\n",
      "James，您好\n",
      "您的bmi值是：23.67\n",
      "體況屬於：正常範圍\n",
      "\n"
     ]
    }
   ],
   "source": [
    "import pyinputplus as pyip\n",
    "\n",
    "name = input(\"請輸入姓名：\")\n",
    "height = pyip.inputFloat(\"請輸入身高(cm)：\")\n",
    "weight = pyip.inputFloat(\"請輸入體重(kg)：\")\n",
    "\n",
    "\n",
    "class BMI:\n",
    "    def __init__(self, n:str, h:float, w:float):\n",
    "        self.name = n    # 姓名屬性\n",
    "        self.height = h  # 身高屬性    # attribute 可存/取\n",
    "        self.weight = w  # 體重屬性\n",
    "\n",
    "# 自訂輸出\n",
    "    def __repr__(self):\n",
    "        message = f\"\\n{self.name}，您好\\n\"\n",
    "        message += f\"您的bmi值是：{self.bmi:.2f}\\n\"\n",
    "        message += f\"體況屬於：{self.status()}\\n\"\n",
    "        return message\n",
    "        \n",
    "    @property      #實體 功能：read only \n",
    "    def bmi(self)->float:\n",
    "        return self.weight / (self.height / 100) ** 2\n",
    "\n",
    "    def status(self)->str:    #實體 的方法(呼叫時需要括號)\n",
    "        bmi_value = self.bmi\n",
    "        if bmi_value < 18.5:\n",
    "            result = \"體重過輕\"\n",
    "        elif bmi_value < 24:\n",
    "            result = \"正常範圍\"\n",
    "        elif bmi_value < 27:\n",
    "            result = \"體重過重\"\n",
    "        elif bmi_value < 30:\n",
    "            result = \"輕度肥胖\"\n",
    "        elif bmi_value < 35:\n",
    "            result = \"中度肥胖\"\n",
    "        else:\n",
    "            result = \"重度肥胖\"\n",
    "        return result\n",
    "\n",
    "A1 = BMI(name, height, weight)  # A1為BMI實體\n",
    "print(f\"{A1}\")  #自動尋找是否有 repr"
   ]
  },
  {
   "cell_type": "markdown",
   "id": "c495dcf1",
   "metadata": {},
   "source": [
    "### dataclass 自動建立 init 與 repr"
   ]
  },
  {
   "cell_type": "code",
   "execution_count": 2,
   "id": "941ef679",
   "metadata": {},
   "outputs": [
    {
     "name": "stdout",
     "output_type": "stream",
     "text": [
      "請輸入身高(cm)：請輸入體重(kg)：\n",
      "James，您好：\n",
      "您的bmi值是：23.67\n",
      "體況屬於：正常範圍\n"
     ]
    }
   ],
   "source": [
    "from dataclasses import dataclass\n",
    "\n",
    "name = input(\"請輸入姓名：\")\n",
    "height = pyip.inputFloat(\"請輸入身高(cm)：\")\n",
    "weight = pyip.inputFloat(\"請輸入體重(kg)：\")\n",
    "\n",
    "@dataclass\n",
    "class BMI():\n",
    "    name:str\n",
    "    height:float\n",
    "    weight:float\n",
    "\n",
    "    @property\n",
    "    def bmi(self)->float:\n",
    "        return weight / (height / 100) ** 2\n",
    "    \n",
    "    # 建立實體方法\n",
    "    def status(self)->str:\n",
    "        bmi_value = self.bmi\n",
    "        if bmi_value < 18.5:\n",
    "            result = \"體重過輕\"\n",
    "        elif bmi_value < 24:\n",
    "            result = \"正常範圍\"\n",
    "        elif bmi_value < 27:\n",
    "            result = \"體重過重\"\n",
    "        elif bmi_value < 30:\n",
    "            result = \"輕度肥胖\"\n",
    "        elif bmi_value < 35:\n",
    "            result = \"中度肥胖\"\n",
    "        else:\n",
    "            result = \"重度肥胖\"\n",
    "        return result\n",
    "    \n",
    "A1 = BMI(name, height, weight)\n",
    "print(f\"\\n{A1.name}，您好：\")\n",
    "print(f\"您的bmi值是：{A1.bmi:.2f}\")\n",
    "print(f\"體況屬於：{A1.status()}\")"
   ]
  },
  {
   "cell_type": "code",
   "execution_count": null,
   "id": "5307deed",
   "metadata": {},
   "outputs": [],
   "source": []
  }
 ],
 "metadata": {
  "kernelspec": {
   "display_name": "Python 3 (ipykernel)",
   "language": "python",
   "name": "python3"
  },
  "language_info": {
   "codemirror_mode": {
    "name": "ipython",
    "version": 3
   },
   "file_extension": ".py",
   "mimetype": "text/x-python",
   "name": "python",
   "nbconvert_exporter": "python",
   "pygments_lexer": "ipython3",
   "version": "3.12.3"
  }
 },
 "nbformat": 4,
 "nbformat_minor": 5
}
