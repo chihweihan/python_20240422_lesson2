{
 "cells": [
  {
   "cell_type": "code",
   "execution_count": 2,
   "id": "d0d28748",
   "metadata": {},
   "outputs": [
    {
     "data": {
      "text/plain": [
       "['林麗萍']"
      ]
     },
     "execution_count": 2,
     "metadata": {},
     "output_type": "execute_result"
    }
   ],
   "source": [
    "# random 抓亂數\n",
    "import random\n",
    "with open(\"names.txt\", encoding='utf-8' ) as file:\n",
    "    content:str = file.read()\n",
    "\n",
    "names:list[str] = content.split(sep='\\n')\n",
    "\n",
    "random.choices(population=names)"
   ]
  },
  {
   "cell_type": "code",
   "execution_count": 3,
   "id": "86b7168a",
   "metadata": {},
   "outputs": [
    {
     "name": "stdout",
     "output_type": "stream",
     "text": [
      "請輸入取得名字的數量3\n",
      "馮耀中 鄧哲榮 張彥博 \n"
     ]
    }
   ],
   "source": [
    "import random\n",
    "import pyinputplus as pyip\n",
    "\n",
    "with open('names.txt',encoding='utf-8') as file:\n",
    "    content:str = file.read()\n",
    "\n",
    "n:int = pyip.inputInt(\"請輸入取得名字的數量\",min=0,max=200)\n",
    "names:list[str] = content.split(sep='\\n')\n",
    "    \n",
    "random_names:list[str] = random.choices(population=names,k=n)  # k 從中取出幾個\n",
    "for name in random_names:\n",
    "    print(name,end=' ')\n",
    "print()"
   ]
  },
  {
   "cell_type": "code",
   "execution_count": null,
   "id": "bf3958e6",
   "metadata": {},
   "outputs": [],
   "source": []
  },
  {
   "cell_type": "code",
   "execution_count": null,
   "id": "2834c391",
   "metadata": {},
   "outputs": [],
   "source": []
  }
 ],
 "metadata": {
  "kernelspec": {
   "display_name": "Python 3 (ipykernel)",
   "language": "python",
   "name": "python3"
  },
  "language_info": {
   "codemirror_mode": {
    "name": "ipython",
    "version": 3
   },
   "file_extension": ".py",
   "mimetype": "text/x-python",
   "name": "python",
   "nbconvert_exporter": "python",
   "pygments_lexer": "ipython3",
   "version": "3.11.9"
  }
 },
 "nbformat": 4,
 "nbformat_minor": 5
}
