{
 "cells": [
  {
   "cell_type": "code",
   "execution_count": 1,
   "id": "d0d28748",
   "metadata": {},
   "outputs": [
    {
     "data": {
      "text/plain": [
       "['楊易政']"
      ]
     },
     "execution_count": 1,
     "metadata": {},
     "output_type": "execute_result"
    }
   ],
   "source": [
    "# random 抓亂數\n",
    "import random\n",
    "with open(\"names.txt\", encoding='utf-8' ) as file:\n",
    "    content:str = file.read()\n",
    "\n",
    "names:list[str] = content.split(sep='\\n')\n",
    "\n",
    "random.choices(population=names)"
   ]
  },
  {
   "cell_type": "code",
   "execution_count": 3,
   "id": "86b7168a",
   "metadata": {},
   "outputs": [
    {
     "name": "stdout",
     "output_type": "stream",
     "text": [
      "請輸入取得名字的數量:楊火帆 胡姿婷 \n"
     ]
    }
   ],
   "source": [
    "import random\n",
    "import pyinputplus as pyip\n",
    "\n",
    "with open('names.txt',encoding='utf-8') as file:\n",
    "    content:str = file.read()\n",
    "\n",
    "n:int = pyip.inputInt(\"請輸入取得名字的數量:\",min=0,max=200)\n",
    "names:list[str] = content.split(sep='\\n')\n",
    "    \n",
    "random_names:list[str] = random.choices(population=names,k=n)  # k 從中取出幾個\n",
    "for name in random_names:\n",
    "    print(name,end=' ')\n",
    "print()"
   ]
  }
 ],
 "metadata": {
  "kernelspec": {
   "display_name": "Python 3 (ipykernel)",
   "language": "python",
   "name": "python3"
  },
  "language_info": {
   "codemirror_mode": {
    "name": "ipython",
    "version": 3
   },
   "file_extension": ".py",
   "mimetype": "text/x-python",
   "name": "python",
   "nbconvert_exporter": "python",
   "pygments_lexer": "ipython3",
   "version": "3.10.14"
  }
 },
 "nbformat": 4,
 "nbformat_minor": 5
}
