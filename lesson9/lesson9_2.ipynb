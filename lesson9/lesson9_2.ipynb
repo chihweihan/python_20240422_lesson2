{
 "cells": [
  {
   "cell_type": "markdown",
   "metadata": {},
   "source": [
    "- class student ->attribute ->name/chinese/english/math"
   ]
  },
  {
   "cell_type": "code",
   "execution_count": 16,
   "metadata": {},
   "outputs": [
    {
     "name": "stdout",
     "output_type": "stream",
     "text": [
      "您的姓名是:徐國堂\n",
      "國文:86\n",
      "英文:92\n",
      "數學:76\n",
      "\n"
     ]
    }
   ],
   "source": [
    "class Student():\n",
    "    def __init__(self,n:str,c:int,e:int,m:int):\n",
    "        super().__init__()\n",
    "        self.name = n       #attribute\n",
    "        self.chinese = c    #attribute\n",
    "        self.english = e    #attribute\n",
    "        self.math = m       #attribute\n",
    "\n",
    "    def __repr__(self):\n",
    "        message = f\"您的姓名是:{self.name}\\n\"\n",
    "        message += f\"國文:{self.chinese}\\n\"\n",
    "        message += f\"英文:{self.english}\\n\"\n",
    "        message += f\"數學:{self.math}\\n\"\n",
    "        return message\n",
    "\n",
    "s1 = Student(n=\"徐國堂\",c=86,e=92,m=76)\n",
    "print(s1)"
   ]
  },
  {
   "cell_type": "markdown",
   "metadata": {},
   "source": [
    "- property: sum(只可以讀，不可寫入)"
   ]
  },
  {
   "cell_type": "code",
   "execution_count": 13,
   "metadata": {},
   "outputs": [],
   "source": [
    "# property\n",
    "class Student():\n",
    "    def __init__(self,n:str,c:int,e:int,m:int):\n",
    "        super().__init__()\n",
    "        self.name = n   #attribute\n",
    "        self.chinese = c #attribute\n",
    "        self.english = e #attribute\n",
    "        self.math = m #attribute\n",
    "\n",
    "    def __repr__(self):\n",
    "        message = f\"您的姓名是:{self.name}\\n\"\n",
    "        message += f\"國文:{self.chinese}\\n\"\n",
    "        message += f\"英文:{self.english}\\n\"\n",
    "        message += f\"數學:{self.math}\\n\"\n",
    "        return message\n",
    "\n",
    "    # 建立property ，一定要用 @\n",
    "    @property\n",
    "    def sum(self):\n",
    "        return self.chinese + self.english + self.math"
   ]
  },
  {
   "cell_type": "code",
   "execution_count": 15,
   "metadata": {},
   "outputs": [
    {
     "name": "stdout",
     "output_type": "stream",
     "text": [
      "您的姓名是:徐國堂\n",
      "國文:86\n",
      "英文:92\n",
      "數學:76\n",
      "\n",
      "總分為：254\n",
      "=====================\n",
      "您的姓名是:James\n",
      "國文:80\n",
      "英文:95\n",
      "數學:100\n",
      "\n",
      "總分為：275\n"
     ]
    }
   ],
   "source": [
    "s1 = Student(n=\"徐國堂\",c=86,e=92,m=76)\n",
    "print(s1)\n",
    "print(f\"總分為：{s1.sum}\")\n",
    "print(\"=====================\")\n",
    "s2 = Student(n=\"James\",c=80,e=95,m=100)\n",
    "print(s2)\n",
    "print(f\"總分為：{s2.sum}\")"
   ]
  },
  {
   "cell_type": "markdown",
   "metadata": {},
   "source": [
    "- instance method"
   ]
  },
  {
   "cell_type": "code",
   "execution_count": 19,
   "metadata": {},
   "outputs": [],
   "source": [
    "# property\n",
    "class Student():\n",
    "    def __init__(self,n:str,c:int,e:int,m:int):\n",
    "        super().__init__()\n",
    "        self.name = n   #attribute\n",
    "        self.chinese = c #attribute\n",
    "        self.english = e #attribute\n",
    "        self.math = m #attribute\n",
    "\n",
    "    def __repr__(self):\n",
    "        message = f\"您的姓名是:{self.name}\\n\"\n",
    "        message += f\"國文:{self.chinese}\\n\"\n",
    "        message += f\"英文:{self.english}\\n\"\n",
    "        message += f\"數學:{self.math}\\n\"\n",
    "        return message\n",
    "\n",
    "    # 建立property ，一定要用 @\n",
    "    @property\n",
    "    def sum(self):\n",
    "        return self.chinese + self.english + self.math\n",
    "    \n",
    "    # 建立實體方法\n",
    "    def average(self)->float:\n",
    "        return self.sum / 3"
   ]
  },
  {
   "cell_type": "code",
   "execution_count": 20,
   "metadata": {},
   "outputs": [
    {
     "name": "stdout",
     "output_type": "stream",
     "text": [
      "您的姓名是:徐國堂\n",
      "國文:86\n",
      "英文:92\n",
      "數學:76\n",
      "\n",
      "總分為：254\n",
      "平均為：84.67\n",
      "=====================\n",
      "您的姓名是:James\n",
      "國文:80\n",
      "英文:95\n",
      "數學:100\n",
      "\n",
      "總分為：275\n",
      "平均為：91.67\n"
     ]
    }
   ],
   "source": [
    "s1 = Student(n=\"徐國堂\",c=86,e=92,m=76)\n",
    "print(s1)\n",
    "print(f\"總分為：{s1.sum}\")\n",
    "print(f\"平均為：{s1.average():.2f}\")\n",
    "print(\"=====================\")\n",
    "s2 = Student(n=\"James\",c=80,e=95,m=100)\n",
    "print(s2)\n",
    "print(f\"總分為：{s2.sum}\")\n",
    "print(f\"平均為：{s2.average():.2f}\")"
   ]
  }
 ],
 "metadata": {
  "kernelspec": {
   "display_name": "Python 3",
   "language": "python",
   "name": "python3"
  },
  "language_info": {
   "codemirror_mode": {
    "name": "ipython",
    "version": 3
   },
   "file_extension": ".py",
   "mimetype": "text/x-python",
   "name": "python",
   "nbconvert_exporter": "python",
   "pygments_lexer": "ipython3",
   "version": "3.10.14"
  }
 },
 "nbformat": 4,
 "nbformat_minor": 2
}
