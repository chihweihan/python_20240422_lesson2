{
 "cells": [
  {
   "cell_type": "code",
   "execution_count": 1,
   "id": "269516d3-d69a-47ba-a05d-653cfc3d7609",
   "metadata": {},
   "outputs": [
    {
     "name": "stdout",
     "output_type": "stream",
     "text": [
      "請輸入姓名："
     ]
    },
    {
     "name": "stdin",
     "output_type": "stream",
     "text": [
      " james\n"
     ]
    },
    {
     "name": "stdout",
     "output_type": "stream",
     "text": [
      "請輸入身高(cm)："
     ]
    },
    {
     "name": "stdin",
     "output_type": "stream",
     "text": [
      " 178\n"
     ]
    },
    {
     "name": "stdout",
     "output_type": "stream",
     "text": [
      "糗輸入體重(kg)："
     ]
    },
    {
     "name": "stdin",
     "output_type": "stream",
     "text": [
      " 75\n"
     ]
    },
    {
     "name": "stdout",
     "output_type": "stream",
     "text": [
      "james，您的BMI：23.67\n",
      "james，您屬於：正常範圍\n",
      "還要下一位量測嗎?(y,n)\n"
     ]
    },
    {
     "name": "stdin",
     "output_type": "stream",
     "text": [
      " n\n"
     ]
    },
    {
     "name": "stdout",
     "output_type": "stream",
     "text": [
      "量測結束\n",
      "\n"
     ]
    }
   ],
   "source": [
    "import pyinputplus as pyip\n",
    "\n",
    "def bmi(height:float,weight:float):\n",
    "    return weight / (height / 100) ** 2\n",
    "\n",
    "def get_status(bmi:float):\n",
    "    if bmi < 18.5:\n",
    "        result = \"體重過輕\"\n",
    "    elif bmi < 24:\n",
    "        result = \"正常範圍\"\n",
    "    elif bmi < 27:\n",
    "        result = \"體重過重\"\n",
    "    elif bmi < 30:\n",
    "        result = \"輕度肥胖\"\n",
    "    elif bmi < 35:\n",
    "        result = \"中度肥胖\"\n",
    "    else:\n",
    "        result = \"重度肥胖\"\n",
    "    return result\n",
    "\n",
    "def finish():\n",
    "    name = pyip.inputStr(\"請輸入姓名：\")\n",
    "    height = pyip.inputFloat(\"請輸入身高(cm)：\")\n",
    "    weight = pyip.inputFloat(\"糗輸入體重(kg)：\")\n",
    "    BMI = bmi(height,weight)\n",
    "    print(f\"{name}，您的BMI：{BMI:.2f}\")\n",
    "    print(f\"{name}，您屬於：{get_status(BMI)}\")\n",
    "\n",
    "while True:\n",
    "    finish()\n",
    "    play_again=pyip.inputYesNo('還要下一位量測嗎?(y,n)\\n')\n",
    "    if play_again =='no':\n",
    "        break\n",
    "print('量測結束\\n')    "
   ]
  },
  {
   "cell_type": "code",
   "execution_count": 17,
   "id": "79558b0c-fabc-4655-a207-4d8b2f25a06f",
   "metadata": {},
   "outputs": [
    {
     "name": "stdout",
     "output_type": "stream",
     "text": [
      "請輸入姓名：chicken\n",
      "請輸入身高(cm)：200\n",
      "請輸入體重(kg)：70\n",
      "\n",
      "chicken，您好\n",
      "您的bmi值是：17.50\n",
      "體況屬於：體重過輕\n",
      "\n"
     ]
    }
   ],
   "source": [
    "import pyinputplus as pyip\n",
    "\n",
    "name = input(\"請輸入姓名：\")\n",
    "height = pyip.inputFloat(\"請輸入身高(cm)：\")\n",
    "weight = pyip.inputFloat(\"請輸入體重(kg)：\")\n",
    "\n",
    "\n",
    "class BMI:\n",
    "    def __init__(self, n:str, h:float, w:float):\n",
    "        self.name = n    # 姓名屬性\n",
    "        self.height = h  # 身高屬性\n",
    "        self.weight = w  # 體重屬性\n",
    "        \n",
    "    def __repr__(self):\n",
    "        message = f\"\\n{self.name}，您好\\n\"\n",
    "        message += f\"您的bmi值是：{self.bmi:.2f}\\n\"\n",
    "        message += f\"體況屬於：{self.status()}\\n\"\n",
    "        return message\n",
    "        \n",
    "    @property\n",
    "    def bmi(self):\n",
    "        return self.weight / (self.height / 100) ** 2\n",
    "\n",
    "    def status(self)->str:\n",
    "        bmi_value = self.bmi\n",
    "        if bmi_value < 18.5:\n",
    "            result = \"體重過輕\"\n",
    "        elif bmi_value < 24:\n",
    "            result = \"正常範圍\"\n",
    "        elif bmi_value < 27:\n",
    "            result = \"體重過重\"\n",
    "        elif bmi_value < 30:\n",
    "            result = \"輕度肥胖\"\n",
    "        elif bmi_value < 35:\n",
    "            result = \"中度肥胖\"\n",
    "        else:\n",
    "            result = \"重度肥胖\"\n",
    "        return result\n",
    "\n",
    "A1 = BMI(name, height, weight)\n",
    "print(f\"{A1}\")"
   ]
  },
  {
   "cell_type": "code",
   "execution_count": 25,
   "id": "dfd4e69b",
   "metadata": {},
   "outputs": [
    {
     "name": "stdout",
     "output_type": "stream",
     "text": [
      "請輸入姓名：JOJO\n",
      "請輸入身高(cm)：200\n",
      "請輸入體重(kg)：150\n",
      "\n",
      "JOJO，您好：\n",
      "您的bmi值是：37.50\n",
      "體況屬於：重度肥胖\n"
     ]
    }
   ],
   "source": [
    "from dataclasses import dataclass\n",
    "\n",
    "name = input(\"請輸入姓名：\")\n",
    "height = pyip.inputFloat(\"請輸入身高(cm)：\")\n",
    "weight = pyip.inputFloat(\"請輸入體重(kg)：\")\n",
    "\n",
    "@dataclass\n",
    "class BMI():\n",
    "    name:str\n",
    "    height:float\n",
    "    weight:float\n",
    "\n",
    "    @property\n",
    "    def bmi(self):\n",
    "        return weight / (height / 100) ** 2\n",
    "    \n",
    "    # 建立實體方法\n",
    "    def status(self)->str:\n",
    "        bmi_value = self.bmi\n",
    "        if bmi_value < 18.5:\n",
    "            result = \"體重過輕\"\n",
    "        elif bmi_value < 24:\n",
    "            result = \"正常範圍\"\n",
    "        elif bmi_value < 27:\n",
    "            result = \"體重過重\"\n",
    "        elif bmi_value < 30:\n",
    "            result = \"輕度肥胖\"\n",
    "        elif bmi_value < 35:\n",
    "            result = \"中度肥胖\"\n",
    "        else:\n",
    "            result = \"重度肥胖\"\n",
    "        return result\n",
    "    \n",
    "A1 = BMI(name, height, weight)\n",
    "print(f\"\\n{A1.name}，您好：\")\n",
    "print(f\"您的bmi值是：{A1.bmi:.2f}\")\n",
    "print(f\"體況屬於：{A1.status()}\")"
   ]
  },
  {
   "cell_type": "code",
   "execution_count": 1,
   "id": "4525a108",
   "metadata": {},
   "outputs": [
    {
     "name": "stdout",
     "output_type": "stream",
     "text": [
      "請輸入姓名: james\n",
      "請輸入身高(cm): 178\n",
      "請輸入體重(kg): 75\n",
      "\n",
      "james您好:\n",
      "您的BMI值是: 23.67\n",
      "您的體重: 正常\n",
      "\n"
     ]
    }
   ],
   "source": [
    "import pyinputplus as pyip\n",
    "\n",
    "class BMI():\n",
    "    def __init__(self, name: str, height: float, weight: float):\n",
    "        super().__init__()\n",
    "        self.name = name\n",
    "        self.height = height\n",
    "        self.weight = weight\n",
    "\n",
    "    def __repr__(self):\n",
    "        return f'\\n{self.name}您好:'\n",
    "    \n",
    "    @property\n",
    "    def bmi(self)->float:\n",
    "        return self.weight / (self.height / 100) ** 2\n",
    "    \n",
    "    def status(self) -> str:\n",
    "        if self.bmi < 18.5:\n",
    "            result = '過輕'\n",
    "        elif self.bmi < 24:\n",
    "            result = '正常'\n",
    "        elif self.bmi < 27:\n",
    "            result = '過重'\n",
    "        elif self.bmi < 30:\n",
    "            result = '輕度肥胖'\n",
    "        elif self.bmi < 35:\n",
    "            result = '中度肥胖'\n",
    "        else:\n",
    "            result = '重度肥胖'\n",
    "        return result\n",
    "    \n",
    "name = input('請輸入姓名: ')\n",
    "height = pyip.inputFloat('請輸入身高(cm): ', min=0)\n",
    "weight = pyip.inputFloat('請輸入體重(kg): ', min=0)\n",
    "\n",
    "p1 = BMI(name, height, weight)\n",
    "print(f'{p1}\\n您的BMI值是: {p1.bmi:.2f}\\n您的體重: {p1.status()}\\n')"
   ]
  },
  {
   "cell_type": "code",
   "execution_count": 2,
   "id": "b1929801",
   "metadata": {},
   "outputs": [
    {
     "name": "stdout",
     "output_type": "stream",
     "text": [
      "請輸入姓名: james\n",
      "請輸入身高(cm): 180\n",
      "請輸入體重(kg): 75\n",
      "\n",
      "james您好:\n",
      "您的BMI值是: 23.15\n",
      "您的體重: 正常\n",
      "\n"
     ]
    }
   ],
   "source": [
    "from dataclasses import dataclass\n",
    "import pyinputplus as pyip\n",
    "\n",
    "@dataclass\n",
    "class BMI():\n",
    "    name: str\n",
    "    height: float\n",
    "    weight: float\n",
    "\n",
    "    @property\n",
    "    def bmi(self):\n",
    "        return self.weight / (self.height / 100) ** 2\n",
    "    \n",
    "    def status(self) -> str:\n",
    "        if self.bmi < 18.5:\n",
    "            result = '過輕'\n",
    "        elif self.bmi < 24:\n",
    "            result = '正常'\n",
    "        elif self.bmi < 27:\n",
    "            result = '過重'\n",
    "        elif self.bmi < 30:\n",
    "            result = '輕度肥胖'\n",
    "        elif self.bmi < 35:\n",
    "            result = '中度肥胖'\n",
    "        else:\n",
    "            result = '重度肥胖'\n",
    "        return result\n",
    "    \n",
    "name = input('請輸入姓名: ')\n",
    "height = pyip.inputFloat('請輸入身高(cm): ', min=0)\n",
    "weight = pyip.inputFloat('請輸入體重(kg): ', min=0)\n",
    "\n",
    "p1 = BMI(name, height, weight)\n",
    "print(f'\\n{p1.name}您好:\\n您的BMI值是: {p1.bmi:.2f}\\n您的體重: {p1.status()}\\n')"
   ]
  },
  {
   "cell_type": "code",
   "execution_count": null,
   "id": "2c553840",
   "metadata": {},
   "outputs": [],
   "source": []
  }
 ],
 "metadata": {
  "kernelspec": {
   "display_name": "Python 3 (ipykernel)",
   "language": "python",
   "name": "python3"
  },
  "language_info": {
   "codemirror_mode": {
    "name": "ipython",
    "version": 3
   },
   "file_extension": ".py",
   "mimetype": "text/x-python",
   "name": "python",
   "nbconvert_exporter": "python",
   "pygments_lexer": "ipython3",
   "version": "3.11.7"
  }
 },
 "nbformat": 4,
 "nbformat_minor": 5
}
