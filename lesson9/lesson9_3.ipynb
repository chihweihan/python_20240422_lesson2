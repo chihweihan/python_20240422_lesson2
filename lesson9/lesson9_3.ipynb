{
 "cells": [
  {
   "cell_type": "markdown",
   "metadata": {},
   "source": [
    "dataclassess  取代 __init__/__repr__"
   ]
  },
  {
   "cell_type": "code",
   "execution_count": 2,
   "metadata": {},
   "outputs": [
    {
     "name": "stdout",
     "output_type": "stream",
     "text": [
      "Student(name='James', chinese=80, english=95, math=100)\n",
      "總分為：275\n",
      "平均為：91.67\n"
     ]
    }
   ],
   "source": [
    "from dataclasses import dataclass\n",
    "\n",
    "@dataclass\n",
    "class Student():\n",
    "    name:str\n",
    "    chinese:int\n",
    "    english:int\n",
    "    math:int\n",
    "\n",
    "    @property\n",
    "    def sum(self):\n",
    "        return self.chinese + self.english + self.math\n",
    "    \n",
    "    # 建立實體方法\n",
    "    def average(self)->float:\n",
    "        return self.sum / 3\n",
    "    \n",
    "s2 = Student(\"James\",80,95,100)\n",
    "print(s2)\n",
    "print(f\"總分為：{s2.sum}\")\n",
    "print(f\"平均為：{s2.average():.2f}\")"
   ]
  }
 ],
 "metadata": {
  "kernelspec": {
   "display_name": "Python 3",
   "language": "python",
   "name": "python3"
  },
  "language_info": {
   "codemirror_mode": {
    "name": "ipython",
    "version": 3
   },
   "file_extension": ".py",
   "mimetype": "text/x-python",
   "name": "python",
   "nbconvert_exporter": "python",
   "pygments_lexer": "ipython3",
   "version": "3.10.14"
  }
 },
 "nbformat": 4,
 "nbformat_minor": 2
}
