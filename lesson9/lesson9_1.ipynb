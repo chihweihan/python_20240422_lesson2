{
 "cells": [
  {
   "cell_type": "markdown",
   "metadata": {},
   "source": [
    "內建 class  類別(型別)\n",
    "9.3.1 類別定義"
   ]
  },
  {
   "cell_type": "code",
   "execution_count": 3,
   "metadata": {},
   "outputs": [
    {
     "name": "stdout",
     "output_type": "stream",
     "text": [
      "<class 'int'>\n"
     ]
    },
    {
     "data": {
      "text/plain": [
       "int"
      ]
     },
     "execution_count": 3,
     "metadata": {},
     "output_type": "execute_result"
    }
   ],
   "source": [
    "n = 5\n",
    "print(type(n))\n",
    "type(n)"
   ]
  },
  {
   "cell_type": "code",
   "execution_count": 4,
   "metadata": {},
   "outputs": [
    {
     "data": {
      "text/plain": [
       "__main__.Person"
      ]
     },
     "execution_count": 4,
     "metadata": {},
     "output_type": "execute_result"
    }
   ],
   "source": [
    "# 自訂的class類別\n",
    "class Person():\n",
    "    pass\n",
    "\n",
    "p1 = Person()  #執行initial，就是Person\n",
    "type(p1)   # 主程式 main裡面其中一個class:Person"
   ]
  },
  {
   "cell_type": "code",
   "execution_count": 1,
   "metadata": {},
   "outputs": [
    {
     "name": "stdout",
     "output_type": "stream",
     "text": [
      "123chicken\n",
      "456chicken\n"
     ]
    }
   ],
   "source": [
    "class Person():\n",
    "    def __init__(self):    # name 為 attribute\n",
    "        self.name = \"chicken\"\n",
    "\n",
    "p1 = Person()\n",
    "print(F\"123{p1.name}\")\n",
    "\n",
    "p2 = Person()\n",
    "print(F\"456{p2.name}\")"
   ]
  },
  {
   "cell_type": "code",
   "execution_count": 2,
   "metadata": {},
   "outputs": [
    {
     "name": "stdout",
     "output_type": "stream",
     "text": [
      "p1的mane：James\n",
      "<__main__.Person object at 0x000002290FEFB770>\n",
      "p2的mane：chicken\n",
      "<__main__.Person object at 0x000002290FF46210>\n"
     ]
    }
   ],
   "source": [
    "# 自訂的attribute，必須有自訂的initial   來建立 實體\n",
    "# 所有的 def，只要在class內，一定要有self，不管是不是init\n",
    "# super 執行副類別class的initial\n",
    "class Person():\n",
    "    def __init__(self,n:str):     # 自訂 init 才可建立 attribute name\n",
    "        super().__init__()        # 主類別initial的()內要有self\n",
    "        self.name = n \n",
    "\n",
    "# James->n (自訂一個attribute為james) 導致 self.name = James\n",
    "p1 = Person(\"James\")\n",
    "print(f\"p1的mane：{p1.name}\")\n",
    "print(p1)\n",
    "\n",
    "# chicken->n (自訂一個attribute為chicken)\n",
    "p2 = Person(n=\"chicken\")\n",
    "print(f\"p2的mane：{p2.name}\")\n",
    "print(p2)"
   ]
  },
  {
   "cell_type": "code",
   "execution_count": 13,
   "metadata": {},
   "outputs": [
    {
     "name": "stdout",
     "output_type": "stream",
     "text": [
      "p1的mane：James\n",
      "我是Person的實體，我的名字是James\n",
      "p2的mane：chicken\n",
      "我是Person的實體，我的名字是chicken\n"
     ]
    }
   ],
   "source": [
    "# 自訂的__repr__\n",
    "\n",
    "class Person():\n",
    "    def __init__(self,n:str):\n",
    "        super().__init__()\n",
    "        self.name = n\n",
    "\n",
    "    def __repr__(self) -> str:\n",
    "        return f\"我是Person的實體，我的名字是{self.name}\"\n",
    "    \n",
    "p1 = Person(\"James\")\n",
    "print(f\"p1的mane：{p1.name}\")\n",
    "print(p1)\n",
    "\n",
    "p2 = Person(n=\"chicken\")\n",
    "print(f\"p2的mane：{p2.name}\")\n",
    "print(p2)"
   ]
  },
  {
   "cell_type": "code",
   "execution_count": 22,
   "metadata": {},
   "outputs": [],
   "source": [
    "class Person():\n",
    "    def __init__(self,n:str):\n",
    "        super().__init__()\n",
    "        self.name = n\n",
    "\n",
    "    def __repr__(self) -> str:\n",
    "        return f\"我是Person的實體，我的名字是{self.name}\"\n",
    "\n",
    "# 繼承\n",
    "class Student(Person):\n",
    "    def __init__(self, n: str, s:int):\n",
    "        super().__init__(n)\n",
    "        self.score = s  #建立 SCORE\n",
    "\n",
    "    def __repr__(self) -> str:\n",
    "        before = super().__repr__()\n",
    "        return f\"{before},總分為{self.score}\"   #取出 score"
   ]
  },
  {
   "cell_type": "code",
   "execution_count": 23,
   "metadata": {},
   "outputs": [
    {
     "name": "stdout",
     "output_type": "stream",
     "text": [
      "James 100\n",
      "我是Person的實體，我的名字是James,總分為100\n",
      "chicken 520\n",
      "我是Person的實體，我的名字是chicken,總分為520\n"
     ]
    }
   ],
   "source": [
    "s1 = Student(\"James\",100)\n",
    "print(s1.name, s1.score)\n",
    "print(s1)\n",
    "\n",
    "s2 = Student(\"chicken\",520)\n",
    "print(s2.name, s2.score)\n",
    "print(s2)"
   ]
  },
  {
   "cell_type": "code",
   "execution_count": 3,
   "metadata": {},
   "outputs": [],
   "source": [
    "# 兩個Attribut: realpart/ imagpart\n",
    "class Complex:\n",
    "    def __init__(self, realpart, imagpart):\n",
    "        self.r = realpart\n",
    "        self.i = imagpart"
   ]
  },
  {
   "cell_type": "code",
   "execution_count": 4,
   "metadata": {},
   "outputs": [
    {
     "data": {
      "text/plain": [
       "(3.0, -4.5)"
      ]
     },
     "execution_count": 4,
     "metadata": {},
     "output_type": "execute_result"
    }
   ],
   "source": [
    "x = Complex(3.0, -4.5)\n",
    "x.r, x.i"
   ]
  },
  {
   "cell_type": "code",
   "execution_count": 5,
   "metadata": {},
   "outputs": [
    {
     "name": "stdout",
     "output_type": "stream",
     "text": [
      "16\n"
     ]
    }
   ],
   "source": [
    "x.counter = 1\n",
    "while x.counter < 10:\n",
    "    x.counter = x.counter * 2\n",
    "print(x.counter)\n",
    "del x.counter"
   ]
  },
  {
   "cell_type": "code",
   "execution_count": 6,
   "metadata": {},
   "outputs": [
    {
     "name": "stdout",
     "output_type": "stream",
     "text": [
      "country: NL\n",
      "code: +31\n"
     ]
    }
   ],
   "source": [
    "def print_info(**kwargs):\n",
    "    for key, value in kwargs.items():\n",
    "        print(f\"{key}: {value}\")\n",
    "\n",
    "print_info(country=\"NL\", code=\"+31\")"
   ]
  },
  {
   "cell_type": "code",
   "execution_count": 7,
   "metadata": {},
   "outputs": [
    {
     "name": "stdout",
     "output_type": "stream",
     "text": [
      "canine\n",
      "canine\n",
      "Fido\n",
      "Buddy\n"
     ]
    }
   ],
   "source": [
    "class Dog:\n",
    "\n",
    "    kind = 'canine'         # class variable shared by all instances\n",
    "\n",
    "    def __init__(self, name):\n",
    "        self.name = name    # instance variable unique to each instance\n",
    "\n",
    "d = Dog('Fido')\n",
    "e = Dog('Buddy')\n",
    "print(d.kind)                  # shared by all dogs\n",
    "print(e.kind)                  # shared by all dogs\n",
    "print(d.name)                  # unique to d\n",
    "print(e.name)                  # unique to e"
   ]
  }
 ],
 "metadata": {
  "kernelspec": {
   "display_name": "Python 3",
   "language": "python",
   "name": "python3"
  },
  "language_info": {
   "codemirror_mode": {
    "name": "ipython",
    "version": 3
   },
   "file_extension": ".py",
   "mimetype": "text/x-python",
   "name": "python",
   "nbconvert_exporter": "python",
   "pygments_lexer": "ipython3",
   "version": "3.12.3"
  }
 },
 "nbformat": 4,
 "nbformat_minor": 2
}
