{
 "cells": [
  {
   "cell_type": "markdown",
   "metadata": {},
   "source": [
    "內建 class  類別(型別)\n",
    "9.3.1 類別定義"
   ]
  },
  {
   "cell_type": "code",
   "execution_count": 3,
   "metadata": {},
   "outputs": [
    {
     "name": "stdout",
     "output_type": "stream",
     "text": [
      "<class 'int'>\n"
     ]
    },
    {
     "data": {
      "text/plain": [
       "int"
      ]
     },
     "execution_count": 3,
     "metadata": {},
     "output_type": "execute_result"
    }
   ],
   "source": [
    "n = 5\n",
    "print(type(n))\n",
    "type(n)"
   ]
  },
  {
   "cell_type": "code",
   "execution_count": 4,
   "metadata": {},
   "outputs": [
    {
     "data": {
      "text/plain": [
       "__main__.Person"
      ]
     },
     "execution_count": 4,
     "metadata": {},
     "output_type": "execute_result"
    }
   ],
   "source": [
    "# 自訂的class類別\n",
    "class Person():\n",
    "    pass\n",
    "\n",
    "p1 = Person()\n",
    "type(p1)   # 主程式 main裡面其中一個class:Person"
   ]
  },
  {
   "cell_type": "code",
   "execution_count": 11,
   "metadata": {},
   "outputs": [
    {
     "name": "stdout",
     "output_type": "stream",
     "text": [
      "p1的mane：James\n",
      "<__main__.Person object at 0x74731c5b23b0>\n",
      "p2的mane：chicken\n",
      "<__main__.Person object at 0x74731c5b1630>\n"
     ]
    }
   ],
   "source": [
    "# 自訂的attribute，必須有自訂的initial\n",
    "# 自訂的init\n",
    "# 建立attribute name\n",
    "# 主類別initial的()內要有self\n",
    "# super 執行副類別class的initial\n",
    "class Person():\n",
    "    def __init__(self,n:str):\n",
    "        super().__init__()\n",
    "        self.name = n\n",
    "\n",
    "p1 = Person(\"James\")\n",
    "print(f\"p1的mane：{p1.name}\")\n",
    "print(p1)\n",
    "\n",
    "p2 = Person(n=\"chicken\")\n",
    "print(f\"p2的mane：{p2.name}\")\n",
    "print(p2)"
   ]
  },
  {
   "cell_type": "code",
   "execution_count": 13,
   "metadata": {},
   "outputs": [
    {
     "name": "stdout",
     "output_type": "stream",
     "text": [
      "p1的mane：James\n",
      "我是Person的實體，我的名字是James\n",
      "p2的mane：chicken\n",
      "我是Person的實體，我的名字是chicken\n"
     ]
    }
   ],
   "source": [
    "# 自訂的__repr__\n",
    "\n",
    "class Person():\n",
    "    def __init__(self,n:str):\n",
    "        super().__init__()\n",
    "        self.name = n\n",
    "\n",
    "    def __repr__(self) -> str:\n",
    "        return f\"我是Person的實體，我的名字是{self.name}\"\n",
    "    \n",
    "p1 = Person(\"James\")\n",
    "print(f\"p1的mane：{p1.name}\")\n",
    "print(p1)\n",
    "\n",
    "p2 = Person(n=\"chicken\")\n",
    "print(f\"p2的mane：{p2.name}\")\n",
    "print(p2)"
   ]
  },
  {
   "cell_type": "code",
   "execution_count": 22,
   "metadata": {},
   "outputs": [],
   "source": [
    "class Person():\n",
    "    def __init__(self,n:str):\n",
    "        super().__init__()\n",
    "        self.name = n\n",
    "\n",
    "    def __repr__(self) -> str:\n",
    "        return f\"我是Person的實體，我的名字是{self.name}\"\n",
    "\n",
    "# 繼承\n",
    "class Student(Person):\n",
    "    def __init__(self, n: str, s:int):\n",
    "        super().__init__(n)\n",
    "        self.score = s  #建立 SCORE\n",
    "\n",
    "    def __repr__(self) -> str:\n",
    "        before = super().__repr__()\n",
    "        return f\"{before},總分為{self.score}\"   #取出 score"
   ]
  },
  {
   "cell_type": "code",
   "execution_count": 23,
   "metadata": {},
   "outputs": [
    {
     "name": "stdout",
     "output_type": "stream",
     "text": [
      "James 100\n",
      "我是Person的實體，我的名字是James,總分為100\n",
      "chicken 520\n",
      "我是Person的實體，我的名字是chicken,總分為520\n"
     ]
    }
   ],
   "source": [
    "s1 = Student(\"James\",100)\n",
    "print(s1.name, s1.score)\n",
    "print(s1)\n",
    "\n",
    "s2 = Student(\"chicken\",520)\n",
    "print(s2.name, s2.score)\n",
    "print(s2)"
   ]
  }
 ],
 "metadata": {
  "kernelspec": {
   "display_name": "Python 3",
   "language": "python",
   "name": "python3"
  },
  "language_info": {
   "codemirror_mode": {
    "name": "ipython",
    "version": 3
   },
   "file_extension": ".py",
   "mimetype": "text/x-python",
   "name": "python",
   "nbconvert_exporter": "python",
   "pygments_lexer": "ipython3",
   "version": "3.10.14"
  }
 },
 "nbformat": 4,
 "nbformat_minor": 2
}
