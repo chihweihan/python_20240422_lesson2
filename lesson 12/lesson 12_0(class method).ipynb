{
 "cells": [
  {
   "cell_type": "markdown",
   "id": "b8b2f4b0",
   "metadata": {},
   "source": [
    "寫程式碼時有一個非常重要的觀念是DRY(Don’t Repeat Yourself)，避免同樣的程式碼重複出現在很多個地方，除了可讀性很低外，也不易維護。所以要適當的進行封裝，來達到程式碼的重用性(Reusable)。\n",
    "    函式(Function)參數\n",
    "參數簡單來說就是接收外部所傳來的資料，進而執行相關的邏輯運算。參數個數取決於函式內部運算時所需的資料個數，所以在一般情況下，呼叫函式時一定要傳入相對的參數個數資料，否則就會出現例外錯誤。\n",
    "又可分為：\n",
    "關鍵字參數(Keyword Argument)：呼叫函式時，在傳入參數值的前面加上函式所定義的參數名稱。除了提高可讀性外，也可將此種參數打包成字典(Dictionary)資料型態，在等一下的xargs、xxargs運算子部分會來進行說明。\n",
    "預設值參數(Default Argument)：在函式定義的參數中，將可以選擇性傳入的參數設定一個預設值，當來源端有傳入該資料時，使用來源端的資料，沒有傳入時，則依照設定的預設值來進行運算。\n",
    "函式(Function) *args、**kwargs運算子：\n",
    "當我們要傳入大量的參數時，在函式上定義過多的參數名稱會讓程式碼的可讀性降低，這時候就可以使用 * 符號來將傳入參數進行打包。Python會將參數資料打包成元組(Tuple)資料型態，那如果想打包成字典(Dictionary)資料型態，則可以使用 ** 符號。\n",
    "    函式(Function)種類\n",
    "有回傳值：在函式完成運算後，會在最後加上 return 關鍵字將結果回傳給來源端，進而做其它的運用。\n",
    "無回傳值：在函式運算的最後，沒有加上 return 關鍵字，單純執行完某一項任務。\n",
    "Python的函式都有回傳值，為什麼會這樣說呢？當我們用一個變數來接無回傳值函式的結果時，從執行結果可以看到Python隱含回傳了一個None給我們\n",
    "    函式(Function)變數範圍(Scope)\n",
    "變數都有它的有效範圍，也就是變數所在的程式碼位置，會影響到是否可以進行存取。\n",
    "區域變數(Local Variable)：在函式中所定義的變數就是區域變數。只有在函式的範圍中都可以進行存取，而函式以外的其它地方，則無法進行存取。\n",
    "全域變數(Global Variable)：只要在同一個Python檔案中，皆可進行存取。如果想要透過函式來修改全域變數的值，則可以使用 global 關鍵字。"
   ]
  },
  {
   "cell_type": "code",
   "execution_count": 1,
   "id": "c257b677",
   "metadata": {},
   "outputs": [
    {
     "name": "stdout",
     "output_type": "stream",
     "text": [
      "123+456=579\n",
      "123*456=56088\n"
     ]
    }
   ],
   "source": [
    "# 文件內自訂的function\n",
    "def add(a:int, b:int) ->int:\n",
    "    return a + b\n",
    "\n",
    "def multiply(n:int, m:int) ->int:\n",
    "    return n * m\n",
    "\n",
    "print(f\"123+456={add(123,456)}\")\n",
    "print(f\"123*456={multiply(123,456)}\")"
   ]
  },
  {
   "cell_type": "markdown",
   "id": "01d8c0af",
   "metadata": {},
   "source": [
    "    類別方法(Class Method)\n",
    "Python類別(Class)中有@classmethod裝飾詞(Decorator)的方法(Method)，被呼叫時，相較於實體方法(Instance Method)的self參數指向物件(Object)， 類別方法(Class Method)為cls參數，指向類別(Class)。\n",
    "- 通常應用於產生複雜的物件，透過類別方法將複雜的邏輯封裝，變成可以直接呼叫類別方法來快速建立相關物件\n",
    "- 因為透過相對應的類別方法就可以快速的建立對應的物件，而較複雜的的過程都封裝在類別方法內，因此類別方法也被稱為 factory method(工廠方法)"
   ]
  },
  {
   "cell_type": "code",
   "execution_count": 2,
   "id": "57d45a1a",
   "metadata": {},
   "outputs": [
    {
     "name": "stdout",
     "output_type": "stream",
     "text": [
      "123+456=579\n",
      "123*456=56088\n"
     ]
    }
   ],
   "source": [
    "# 被 class(Tool) 包圍的 method\n",
    "class Tools():\n",
    "    @classmethod\n",
    "    def add(cls,a:int, b:int) ->int:\n",
    "        return a + b\n",
    "\n",
    "    @classmethod\n",
    "    def multiply(cls,n:int, m:int) ->int:\n",
    "        return n * m\n",
    "\n",
    "print(f\"123+456={Tools.add(123,456)}\")\n",
    "print(f'123*456={Tools.multiply(123, 456)}')"
   ]
  },
  {
   "cell_type": "code",
   "execution_count": 3,
   "id": "f35d2b68",
   "metadata": {},
   "outputs": [
    {
     "name": "stdout",
     "output_type": "stream",
     "text": [
      "100\n"
     ]
    }
   ],
   "source": [
    "def A (*values):\n",
    "    total = 10\n",
    "    for value in values:\n",
    "        if value % 2 == 0:\n",
    "            total += value\n",
    "    return total\n",
    "\n",
    "result = A(10,20,35,40,20)\n",
    "print(result)"
   ]
  },
  {
   "cell_type": "code",
   "execution_count": 4,
   "id": "a310ae70",
   "metadata": {},
   "outputs": [
    {
     "name": "stdout",
     "output_type": "stream",
     "text": [
      "<class '__main__.Cars'> has 4 doors.\n",
      "<class '__main__.Cars'> has 4 doors.\n"
     ]
    }
   ],
   "source": [
    "# 汽車類別\n",
    "class Cars:\n",
    "    door = 4  # 類別屬性\n",
    "    # 類別方法(Class Method)\n",
    "    @classmethod\n",
    "    def open_door(cls):\n",
    "        print(f\"{cls} has {cls.door} doors.\")\n",
    "        \n",
    "mazda = Cars()\n",
    "mazda.open_door()  #透過物件呼叫\n",
    "Cars.open_door()   #透過類別呼叫"
   ]
  },
  {
   "cell_type": "code",
   "execution_count": 5,
   "id": "1d9fedc8",
   "metadata": {},
   "outputs": [
    {
     "name": "stdout",
     "output_type": "stream",
     "text": [
      "<__main__.Cars object at 0x0000026F9AA77380>\n",
      "<__main__.Cars object at 0x0000026F9AA77290>\n"
     ]
    }
   ],
   "source": [
    "# 汽車類別\n",
    "class Cars:\n",
    "    # 建構式\n",
    "    def __init__(self, seat, color):\n",
    "        self.seat = seat\n",
    "        self.color = color\n",
    "    # 廂型車\n",
    "    @classmethod\n",
    "    def van(cls):\n",
    "        return cls(6, \"black\")\n",
    "    # 跑車\n",
    "    @classmethod\n",
    "    def sports_car(cls):\n",
    "        return cls(4, \"yellow\")\n",
    "van = Cars.van()\n",
    "sports_car = Cars.sports_car()  #物件(Object)的初始化過程(建造跑車的過程)封裝在類別方法中(Class Method)\n",
    "\n",
    "print(van)\n",
    "print(sports_car)"
   ]
  },
  {
   "cell_type": "markdown",
   "id": "34fca2f6",
   "metadata": {},
   "source": [
    "主要是要表達當建立物件(Object)的邏輯較複雜時，透過類別方法(Class Method)可以將邏輯封裝起來，來源端只要依需求呼叫相應的類別方法(Class Method)來建立物件(Object)即可。"
   ]
  }
 ],
 "metadata": {
  "kernelspec": {
   "display_name": "Python 3 (ipykernel)",
   "language": "python",
   "name": "python3"
  },
  "language_info": {
   "codemirror_mode": {
    "name": "ipython",
    "version": 3
   },
   "file_extension": ".py",
   "mimetype": "text/x-python",
   "name": "python",
   "nbconvert_exporter": "python",
   "pygments_lexer": "ipython3",
   "version": "3.12.3"
  }
 },
 "nbformat": 4,
 "nbformat_minor": 5
}
