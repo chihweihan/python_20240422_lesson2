{
 "cells": [
  {
   "cell_type": "code",
   "execution_count": null,
   "id": "87b87ec7",
   "metadata": {},
   "outputs": [],
   "source": [
    "# 自訂的欄位驗證\n",
    "from pydantic import BaseModel,Field,field_validator\n",
    "\n",
    "class Site(BaseModel):\n",
    "    site_name:str = Field(alias='sitename')\n",
    "    county:str\n",
    "    aqi:int          #自動轉換為整數\n",
    "    status:str\n",
    "    pm25:float = Field(alias = \"pm2.5\")\n",
    "\n",
    "# 將驗證器附加到模型的特定欄位        \n",
    "    @field_validator(\"pm25\", mode='before')   \n",
    "    @classmethod\n",
    "    def whitespace_to_zero(cls,value):\n",
    "        if value == '':\n",
    "            return '0.0'\n",
    "        else:\n",
    "            return value\n",
    "# before:更改驗證順序 原本先進行pm25:float，改為field_validatior \n",
    "\n",
    "class AQI(BaseModel):\n",
    "    records:list[Site]"
   ]
  }
 ],
 "metadata": {
  "kernelspec": {
   "display_name": "Python 3 (ipykernel)",
   "language": "python",
   "name": "python3"
  },
  "language_info": {
   "codemirror_mode": {
    "name": "ipython",
    "version": 3
   },
   "file_extension": ".py",
   "mimetype": "text/x-python",
   "name": "python",
   "nbconvert_exporter": "python",
   "pygments_lexer": "ipython3",
   "version": "3.11.9"
  }
 },
 "nbformat": 4,
 "nbformat_minor": 5
}
