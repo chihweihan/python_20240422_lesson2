{
 "cells": [
  {
   "cell_type": "code",
   "execution_count": 7,
   "metadata": {},
   "outputs": [
    {
     "name": "stdout",
     "output_type": "stream",
     "text": [
      "**肌腱鈣化的治療**\n",
      "\n",
      "肌腱鈣化是指肌腱中形成鈣沉澱物。治療方案取決於鈣化的嚴重程度、症狀和患者的整體健康狀況。\n",
      "\n",
      "**非手術治療**\n",
      "\n",
      "* **休息：**避免從事會加重疼痛的活動。\n",
      "* **冰敷：**每天冰敷該部位 15-20 分鐘，每次間隔數小時。\n",
      "* **物理治療：**伸展和加強練習有助於恢復肌腱的活動度和強度。\n",
      "* **藥物：**非甾體抗炎藥（NSAID）可減輕疼痛和炎症。\n",
      "* **體外震波療法：**通過向受影響的肌腱傳遞高能聲波來促進癒合。\n",
      "\n",
      "**手術治療**\n",
      "\n",
      "如果非手術治療無效且疼痛持續，則可能需要手術。手術選擇包括：\n",
      "\n",
      "* **切開減壓術：**切開肌腱鞘以釋放壓力和鈣沉澱物。\n",
      "* **抽吸術：**使用針頭和注射器將鈣沉澱物抽吸出來。\n",
      "* **激光治療：**使用激光分解鈣沉澱物。\n",
      "\n",
      "**康復**\n",
      "\n",
      "手術後，必須遵循醫生的指示進行康復。康復過程包括：\n",
      "\n",
      "* 佩戴支具或石膏以保護受影響部位。\n",
      "* 逐漸恢復活動。\n",
      "* 物理治療以恢復活動度和強度。\n",
      "\n",
      "**預防**\n",
      "\n",
      "預防肌腱鈣化的最佳方法是：\n",
      "\n",
      "* 避免過度使用肌腱。\n",
      "* 保持健康體重。\n",
      "* 進行規律的運動以加強肌腱。\n",
      "* 及早治療肌腱炎症。\n"
     ]
    }
   ],
   "source": [
    "import google.generativeai as genai\n",
    "\n",
    "from dotenv import load_dotenv\n",
    "import os\n",
    "load_dotenv()\n",
    "\n",
    "genai.configure(api_key=os.environ['Gemini_API_KEY'])\n",
    "model = genai.GenerativeModel('gemini-pro')\n",
    "response = model.generate_content('肌腱鈣化該如何治療')\n",
    "print(response.text)"
   ]
  }
 ],
 "metadata": {
  "kernelspec": {
   "display_name": "base",
   "language": "python",
   "name": "python3"
  },
  "language_info": {
   "codemirror_mode": {
    "name": "ipython",
    "version": 3
   },
   "file_extension": ".py",
   "mimetype": "text/x-python",
   "name": "python",
   "nbconvert_exporter": "python",
   "pygments_lexer": "ipython3",
   "version": "3.12.4"
  }
 },
 "nbformat": 4,
 "nbformat_minor": 2
}
