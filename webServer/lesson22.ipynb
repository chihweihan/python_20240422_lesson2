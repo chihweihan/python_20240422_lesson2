{
 "cells": [
  {
   "cell_type": "markdown",
   "metadata": {},
   "source": [
    "os --- 各種作業系統介面\n",
    "\n",
    "-一个 mapping 对象，其中键值是代表进程环境的字符串。 例如，environ['HOME'] 是你的主目录（在某些平台上）的路径名"
   ]
  },
  {
   "cell_type": "code",
   "execution_count": 3,
   "metadata": {},
   "outputs": [
    {
     "name": "stdout",
     "output_type": "stream",
     "text": [
      "**學習演算法的建議途徑：**\n",
      "\n",
      "**1. 建立數學基礎：**\n",
      "* 離散數學\n",
      "* 機率和統計\n",
      "\n",
      "**2. 選擇一種程式語言：**\n",
      "* Java、Python、C++（建議使用其中一種）\n",
      "\n",
      "**3. 了解演算法基本概念：**\n",
      "* 演算法的定義和類型\n",
      "* 複雜度分析\n",
      "* 最佳化技術\n",
      "\n",
      "**4. 學習基本的資料結構和演算法：**\n",
      "* 陣列、連結串列、堆疊、佇列\n",
      "* 搜尋演算法（線性搜尋、二元搜尋）\n",
      "* 排序演算法（插入排序、快速排序、合併排序）\n",
      "\n",
      "**5. 研究經典演算法：**\n",
      "* Dijkstra 演算法（最短路徑）\n",
      "* Floyd-Warshall 演算法（多個最短路徑）\n",
      "* Kruskal 演算法（最小生成樹）\n",
      "\n",
      "**6. 練習解決問題：**\n",
      "* 使用 LeetCode、HackerRank 等平台練習\n",
      "* 參加演算法競賽\n",
      "\n",
      "**7. 閱讀書籍和論文：**\n",
      "* 《演算法導論》（Thomas H. Cormen 等著）\n",
      "* 《演算法》（Robert Sedgewick 和 Kevin Wayne 著）\n",
      "* 研讀相關論文，了解演算法的最新進展\n",
      "\n",
      "**8. 參加課程和研討會：**\n",
      "* 大學課程\n",
      "* 線上課程（Udemy、Coursera）\n",
      "* 業界研討會\n",
      "\n",
      "**9. 尋求指導：**\n",
      "* 加入社群或論壇\n",
      "* 尋求有經驗的演算法工程師或教授的指導\n",
      "\n",
      "**額外建議：**\n",
      "\n",
      "* **保持一致性：**每天花時間學習和練習。\n",
      "* **關注理解：**不要只是背誦演算法，試著理解其工作原理。\n",
      "* **實作演算法：**將演算法應用到實際問題中，有助於強化你的理解。\n",
      "* **耐心和毅力：**學習演算法需要時間和努力，不要輕易放棄。\n"
     ]
    }
   ],
   "source": [
    "import google.generativeai as genai\n",
    "from dotenv import load_dotenv\n",
    "import os\n",
    "load_dotenv()\n",
    "genai.configure(api_key=os.environ['Gemini_API_KEY'])\n",
    "\n",
    "model = genai.GenerativeModel('gemini-pro')\n",
    "response = model.generate_content('我想要學習`演算法`')\n",
    "print(response.text)"
   ]
  }
 ],
 "metadata": {
  "kernelspec": {
   "display_name": "Python 3",
   "language": "python",
   "name": "python3"
  },
  "language_info": {
   "codemirror_mode": {
    "name": "ipython",
    "version": 3
   },
   "file_extension": ".py",
   "mimetype": "text/x-python",
   "name": "python",
   "nbconvert_exporter": "python",
   "pygments_lexer": "ipython3",
   "version": "3.10.14"
  }
 },
 "nbformat": 4,
 "nbformat_minor": 2
}
