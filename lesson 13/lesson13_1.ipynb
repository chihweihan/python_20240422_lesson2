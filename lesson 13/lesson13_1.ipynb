{
 "cells": [
  {
   "cell_type": "markdown",
   "metadata": {},
   "source": [
    "### 處理字串"
   ]
  },
  {
   "cell_type": "code",
   "execution_count": 1,
   "metadata": {},
   "outputs": [
    {
     "data": {
      "text/plain": [
       "\"That is Alice's cat.\""
      ]
     },
     "execution_count": 1,
     "metadata": {},
     "output_type": "execute_result"
    }
   ],
   "source": [
    "\"That is Alice's cat.\""
   ]
  },
  {
   "cell_type": "code",
   "execution_count": 2,
   "metadata": {},
   "outputs": [
    {
     "data": {
      "text/plain": [
       "\"That is Alice's cat.\""
      ]
     },
     "execution_count": 2,
     "metadata": {},
     "output_type": "execute_result"
    }
   ],
   "source": [
    "'That is Alice\\'s cat.'"
   ]
  },
  {
   "cell_type": "code",
   "execution_count": 1,
   "metadata": {},
   "outputs": [
    {
     "data": {
      "text/plain": [
       "'Hello! james!'"
      ]
     },
     "execution_count": 1,
     "metadata": {},
     "output_type": "execute_result"
    }
   ],
   "source": [
    "# 建立一個str的實體\n",
    "# name 為一個 不可變變數\n",
    "name:str = \"james\"\n",
    "f'Hello! {name}!'"
   ]
  },
  {
   "cell_type": "code",
   "execution_count": 2,
   "metadata": {},
   "outputs": [
    {
     "data": {
      "text/plain": [
       "'James'"
      ]
     },
     "execution_count": 2,
     "metadata": {},
     "output_type": "execute_result"
    }
   ],
   "source": [
    "# str 與 Tuple為 不可變變數\n",
    "# 返回原字符串的副本，其首个字符大写，其余为小写。\n",
    "name:str = \"james\"\n",
    "f'Hello! {name}!'\n",
    "name1 = name.capitalize()  # 將自首改為大寫\n",
    "name1\n"
   ]
  },
  {
   "cell_type": "code",
   "execution_count": 3,
   "metadata": {},
   "outputs": [
    {
     "data": {
      "text/plain": [
       "'Hello!james'"
      ]
     },
     "execution_count": 3,
     "metadata": {},
     "output_type": "execute_result"
    }
   ],
   "source": [
    "name:str = \"james\"\n",
    "'Hello!{}'.format(name)  #字串插補， str的實體方法format()"
   ]
  },
  {
   "cell_type": "code",
   "execution_count": 8,
   "metadata": {},
   "outputs": [
    {
     "data": {
      "text/plain": [
       "['2024', '06', '02']"
      ]
     },
     "execution_count": 8,
     "metadata": {},
     "output_type": "execute_result"
    }
   ],
   "source": [
    "date:str = \"2024/06/02\"\n",
    "date.split('/')   # 返回一个由字符串内单词组成的列表list，使用 sep 作为分隔字符串。\n",
    "\n"
   ]
  },
  {
   "cell_type": "code",
   "execution_count": 9,
   "metadata": {},
   "outputs": [
    {
     "data": {
      "text/plain": [
       "'2024-06-02'"
      ]
     },
     "execution_count": 9,
     "metadata": {},
     "output_type": "execute_result"
    }
   ],
   "source": [
    "date:str = \"2024/06/02\"\n",
    "date:list = date.split('/')   #先切割 list\n",
    "\n",
    "#返回一个由 iterable 中的字符串拼接而成的字符串\n",
    "date_format:str = '-'.join(date)   #再用 - 連結list ，傳出新的字串\n",
    "date_format"
   ]
  },
  {
   "cell_type": "markdown",
   "metadata": {},
   "source": [
    "可迭代对象（Iterable）\n",
    "可迭代对象（Iterable）是指在 Python 中能够使用迭代器进行遍历的对象。它包括了各种容器对象，如列表（list）、元组（tuple）、集合（set）、字典（dict）以及字符串等。"
   ]
  },
  {
   "cell_type": "code",
   "execution_count": 10,
   "metadata": {},
   "outputs": [
    {
     "name": "stdout",
     "output_type": "stream",
     "text": [
      "That is Alice\\'s cat.\n"
     ]
    }
   ],
   "source": [
    "# r 代表這是 元生字串\n",
    "print(r'That is Alice\\'s cat.')   # r 元生字元：raw string"
   ]
  },
  {
   "cell_type": "markdown",
   "metadata": {},
   "source": [
    "Python 中的原始字串只是任何以 r 或 R 為字首的普通字串。字串中出現的任何反斜槓 (\\) 都被視為真正的或文字字元。例如，如果字串中間有 \\n 或 \\t，它將被視為一個字元，而不是 newline 或 tab 字元。"
   ]
  },
  {
   "cell_type": "code",
   "execution_count": 15,
   "metadata": {},
   "outputs": [
    {
     "name": "stdout",
     "output_type": "stream",
     "text": [
      "輝達（NVIDIA）執行長黃仁勳今（2）日於台大體育館進行keynote主題演講，\n",
      "期間又忍不住提到夜市，他笑說：「我很喜歡去夜市，因為很喜歡看人。」\n",
      "更自曝自己臉上有「一道疤」，是因為小時候去夜市，恰巧有人在洗刀，他的臉也在那時被割傷，\n",
      "讓他對台灣夜市印象特別深刻。\n"
     ]
    }
   ],
   "source": [
    "# \"\"\" 產生多行文字\n",
    "message = \"\"\"輝達（NVIDIA）執行長黃仁勳今（2）日於台大體育館進行keynote主題演講，\n",
    "期間又忍不住提到夜市，他笑說：「我很喜歡去夜市，因為很喜歡看人。」\n",
    "更自曝自己臉上有「一道疤」，是因為小時候去夜市，恰巧有人在洗刀，他的臉也在那時被割傷，\n",
    "讓他對台灣夜市印象特別深刻。\"\"\"\n",
    "\n",
    "print(message)"
   ]
  }
 ],
 "metadata": {
  "kernelspec": {
   "display_name": "Python 3",
   "language": "python",
   "name": "python3"
  },
  "language_info": {
   "codemirror_mode": {
    "name": "ipython",
    "version": 3
   },
   "file_extension": ".py",
   "mimetype": "text/x-python",
   "name": "python",
   "nbconvert_exporter": "python",
   "pygments_lexer": "ipython3",
   "version": "3.10.14"
  }
 },
 "nbformat": 4,
 "nbformat_minor": 2
}
