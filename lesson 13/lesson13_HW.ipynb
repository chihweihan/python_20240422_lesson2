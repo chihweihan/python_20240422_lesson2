{
 "cells": [
  {
   "cell_type": "code",
   "execution_count": 9,
   "metadata": {},
   "outputs": [
    {
     "name": "stdout",
     "output_type": "stream",
     "text": [
      "無效的電話號碼：458 456-5214\n",
      "無效日期：2024-25-01\n"
     ]
    }
   ],
   "source": [
    "import re\n",
    "phone_num = input(\"請輸入手機號碼：(xxx) xxx-xxxx\")\n",
    "phoneNumRegex:re.Pattern = re.compile(r'(\\(\\d{3}\\)) \\d{3}-\\d{4}')\n",
    "match1:re.Match | None = re.match(phoneNumRegex,phone_num)\n",
    "if match1 is not None:\n",
    "    print(f\"有效的電話號碼：{match1.group()}\") \n",
    "\n",
    "else:\n",
    "    print(f\"無效的電話號碼：{phone_num}\")\n",
    "\n",
    "date = input(\"請輸入有效日期：xxxx-xx-xx\")\n",
    "dateRegex:re.Pattern = re.compile(r'\\d{4}-(0[1-9]|1[0-2])-(0[1-9]|[12][0-9]|3[01])')\n",
    "match2:re.Match | None = re.match(dateRegex,date)\n",
    "if match2 is not None:\n",
    "    print(f\"有效日期：{match2.group()}\")  \n",
    "\n",
    "else:\n",
    "    print(f\"無效日期：{date}\")"
   ]
  }
 ],
 "metadata": {
  "kernelspec": {
   "display_name": "Python 3",
   "language": "python",
   "name": "python3"
  },
  "language_info": {
   "codemirror_mode": {
    "name": "ipython",
    "version": 3
   },
   "file_extension": ".py",
   "mimetype": "text/x-python",
   "name": "python",
   "nbconvert_exporter": "python",
   "pygments_lexer": "ipython3",
   "version": "3.10.14"
  }
 },
 "nbformat": 4,
 "nbformat_minor": 2
}
