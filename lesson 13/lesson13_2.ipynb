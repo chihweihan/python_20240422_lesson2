{
 "cells": [
  {
   "cell_type": "markdown",
   "metadata": {},
   "source": [
    "### 正規則表達式(regular expressiom)  函式庫參考手冊->re (module)\n",
    "透過正規表達式，就能定義文字規則，接著就能從一段文字裡，找出符合規則的字元\n",
    "- 比對字串 (使用者輸入格式，是否符合 要求的格式(pattern))\n",
    "- 搜尋字串 (搜尋大量文字，取出符合pattern格式的文字)"
   ]
  },
  {
   "cell_type": "code",
   "execution_count": 1,
   "metadata": {},
   "outputs": [
    {
     "name": "stdout",
     "output_type": "stream",
     "text": [
      "0953-133-015pp\n"
     ]
    }
   ],
   "source": [
    "# 檢查格式\n",
    "phone_num = input(\"請輸入手機號碼：xxxx-xxx-xxx\")\n",
    "print(phone_num)"
   ]
  },
  {
   "cell_type": "code",
   "execution_count": 33,
   "metadata": {},
   "outputs": [
    {
     "data": {
      "text/plain": [
       "re.Pattern"
      ]
     },
     "execution_count": 33,
     "metadata": {},
     "output_type": "execute_result"
    }
   ],
   "source": [
    "import re\n",
    "phone_num = input(\"請輸入手機號碼：xxxx-xxx-xxx\")\n",
    "phoneNumRegex:re.Pattern = re.compile(r'\\d\\d\\d\\d-\\d\\d\\d-\\d\\d\\d')  #傳出一個 Pattern 實體\n",
    "type(phoneNumRegex)"
   ]
  },
  {
   "cell_type": "markdown",
   "metadata": {},
   "source": [
    "compile：建立一個正規表達式的規則。pattern 是由文字組成。可以用于匹配，通過這個對象的方法 match(), search() 以及其他如下描述。\n",
    "match：如果 string 开头的零个或多个字符与正则表达式 pattern 匹配，则返回相应的 Match。 如果字符串与模式不匹配则返回 None。  re.search(pattern, string, flags=0)"
   ]
  },
  {
   "cell_type": "code",
   "execution_count": 9,
   "metadata": {},
   "outputs": [
    {
     "name": "stdout",
     "output_type": "stream",
     "text": [
      "格式符合\n"
     ]
    }
   ],
   "source": [
    "import re\n",
    "phone_num = input(\"請輸入手機號碼：xxxx-xxx-xxx\")\n",
    "phoneNumRegex:re.Pattern = re.compile(r'\\d\\d\\d\\d-\\d\\d\\d-\\d\\d\\d')\n",
    "match1:re.Match | None = re.match(phoneNumRegex,phone_num)\n",
    "if match1 is not None:\n",
    "    print(\"格式符合\")\n",
    "\n",
    "else:\n",
    "    print(\"格式不符合\")"
   ]
  },
  {
   "cell_type": "code",
   "execution_count": 11,
   "metadata": {},
   "outputs": [
    {
     "name": "stdout",
     "output_type": "stream",
     "text": [
      "1234-567-894：格式符合\n"
     ]
    }
   ],
   "source": [
    "import re\n",
    "phone_num = input(\"請輸入手機號碼：xxxx-xxx-xxx\")\n",
    "phoneNumRegex:re.Pattern = re.compile(r'\\d\\d\\d\\d-\\d\\d\\d-\\d\\d\\d')\n",
    "match1:re.Match | None = re.match(phoneNumRegex,phone_num)\n",
    "if match1 is not None:\n",
    "    print(f\"{match1.group()}：格式符合\")   #group 可得到使用者輸入的字串\n",
    "\n",
    "else:\n",
    "    print(\"格式不符合\")"
   ]
  },
  {
   "cell_type": "code",
   "execution_count": 12,
   "metadata": {},
   "outputs": [
    {
     "name": "stdout",
     "output_type": "stream",
     "text": [
      "0953-133-015：格式符合\n",
      "0953-133-015：group(0)\n",
      "0953：group(1)\n",
      "133：group(2)\n",
      "015：group(3)\n"
     ]
    }
   ],
   "source": [
    "import re\n",
    "phone_num = input(\"請輸入手機號碼：xxxx-xxx-xxx\")\n",
    "phoneNumRegex:re.Pattern = re.compile(r'(\\d\\d\\d\\d)-(\\d\\d\\d)-(\\d\\d\\d)')  #擴號：代表一組(group)字\n",
    "match1:re.Match | None = re.match(phoneNumRegex,phone_num)\n",
    "if match1 is not None:\n",
    "    print(f\"{match1.group()}：格式符合\")   #group 可得到使用者輸入的字串\n",
    "    print(f\"{match1.group(0)}：group(0)\")  #0 代表全部符合\n",
    "    print(f\"{match1.group(1)}：group(1)\")  #1 代表第一個括號\n",
    "    print(f\"{match1.group(2)}：group(2)\")  #2 代表第二個括號\n",
    "    print(f\"{match1.group(3)}：group(3)\")  #3 代表第三個括號\n",
    "else:\n",
    "    print(\"格式不符合\")"
   ]
  },
  {
   "cell_type": "code",
   "execution_count": 14,
   "metadata": {},
   "outputs": [
    {
     "name": "stdout",
     "output_type": "stream",
     "text": [
      "(0000)-455-789：格式符合\n",
      "(0000)-455-789：group(0)\n",
      "(0000)：group(1)\n",
      "455：group(2)\n",
      "789：group(3)\n"
     ]
    }
   ],
   "source": [
    "import re\n",
    "phone_num = input(\"請輸入手機號碼：(xxxx)-xxx-xxx\")\n",
    "phoneNumRegex:re.Pattern = re.compile(r'(\\(\\d\\d\\d\\d\\))-(\\d\\d\\d)-(\\d\\d\\d)')\n",
    "match1:re.Match | None = re.match(phoneNumRegex,phone_num)\n",
    "if match1 is not None:\n",
    "    print(f\"{match1.group()}：格式符合\")   #group 可得到使用者輸入的字串\n",
    "    print(f\"{match1.group(0)}：group(0)\")  #0 代表全部符合\n",
    "    print(f\"{match1.group(1)}：group(1)\")  #1 代表第一個括號\n",
    "    print(f\"{match1.group(2)}：group(2)\")  #2 代表第二個括號\n",
    "    print(f\"{match1.group(3)}：group(3)\")  #3 代表第三個括號\n",
    "else:\n",
    "    print(\"格式不符合\")"
   ]
  },
  {
   "cell_type": "code",
   "execution_count": 16,
   "metadata": {},
   "outputs": [
    {
     "name": "stdout",
     "output_type": "stream",
     "text": [
      "(1234)-444-777：格式符合\n",
      "(1234)-444-777：group(0)\n",
      "(1234)：group(1)\n",
      "444：group(2)\n",
      "777：group(3)\n"
     ]
    }
   ],
   "source": [
    "# |  ：或者 的功能\n",
    "import re\n",
    "phone_num = input(\"請輸入手機號碼：(xxxx)-xxx-xxx,或者xxxx-xxx-xxx\")\n",
    "phoneNumRegex:re.Pattern = re.compile(r'(\\(\\d\\d\\d\\d\\)|\\d\\d\\d\\d)-(\\d\\d\\d)-(\\d\\d\\d)')\n",
    "match1:re.Match | None = re.match(phoneNumRegex,phone_num)\n",
    "if match1 is not None:\n",
    "    print(f\"{match1.group()}：格式符合\")   #group 可得到使用者輸入的字串\n",
    "    print(f\"{match1.group(0)}：group(0)\")  #0 代表全部符合\n",
    "    print(f\"{match1.group(1)}：group(1)\")  #1 代表第一個括號\n",
    "    print(f\"{match1.group(2)}：group(2)\")  #2 代表第二個括號\n",
    "    print(f\"{match1.group(3)}：group(3)\")  #3 代表第三個括號\n",
    "else:\n",
    "    print(\"格式不符合\")"
   ]
  },
  {
   "cell_type": "code",
   "execution_count": 19,
   "metadata": {},
   "outputs": [
    {
     "name": "stdout",
     "output_type": "stream",
     "text": [
      "Batman\n"
     ]
    }
   ],
   "source": [
    "# 使用pipe(|)，進行多選一\n",
    "\n",
    "heroRegex:re.Pattern = re.compile(r'Batman|Tina Fey')\n",
    "match1:re.Match | None = heroRegex.match(\"Batman and Tina Fey\")    #match的功能  比對\"\"內的文字\n",
    "print(match1.group())"
   ]
  },
  {
   "cell_type": "code",
   "execution_count": 21,
   "metadata": {},
   "outputs": [
    {
     "name": "stdout",
     "output_type": "stream",
     "text": [
      "Tina Fey\n"
     ]
    }
   ],
   "source": [
    "heroRegex:re.Pattern = re.compile(r'Batman|Tina Fey')\n",
    "match1:re.Match | None = heroRegex.match(\"Tina Fey and Batman\")    #match的功能  比對\"\"內的文字\n",
    "print(match1.group())"
   ]
  },
  {
   "cell_type": "code",
   "execution_count": 23,
   "metadata": {},
   "outputs": [
    {
     "name": "stdout",
     "output_type": "stream",
     "text": [
      "格式不符\n"
     ]
    }
   ],
   "source": [
    "heroRegex:re.Pattern = re.compile(r'Batman|Tina Fey')\n",
    "match1:re.Match | None = heroRegex.match(\"Tiana Fey and Batman\")    #match的功能  比對\"前面\"\"\"內的文字\n",
    "if match1 is not None:\n",
    "    print(match1.group())\n",
    "else:\n",
    "    print(\"格式不符\")"
   ]
  },
  {
   "cell_type": "code",
   "execution_count": 25,
   "metadata": {},
   "outputs": [
    {
     "name": "stdout",
     "output_type": "stream",
     "text": [
      "Batmobile\n",
      "mobile\n"
     ]
    }
   ],
   "source": [
    "# 尋找第一個匹配的字元，如果沒有匹配，回傳 None。\n",
    "heroRegex:re.Pattern = re.compile(r'Bat(man|mobile|copter|bat)')\n",
    "match1:re.Match | None = heroRegex.search(\"Batmobile lost a wheel\")\n",
    "if match1 is not None:\n",
    "    print(match1.group())\n",
    "    print(match1.group(1))\n",
    "else:\n",
    "    print(\"格式不符\")"
   ]
  },
  {
   "cell_type": "code",
   "execution_count": 27,
   "metadata": {},
   "outputs": [
    {
     "name": "stdout",
     "output_type": "stream",
     "text": [
      "Batcopter\n",
      "copter\n"
     ]
    }
   ],
   "source": [
    "heroRegex:re.Pattern = re.compile(r'Bat(man|mobile|copter|bat)')\n",
    "match1:re.Match | None = heroRegex.search(\" lost a wheel Batcopter\")    #search的功能  所有文字內有無Batmobile\n",
    "if match1 is not None:\n",
    "    print(match1.group())\n",
    "    print(match1.group(1))\n",
    "else:\n",
    "    print(\"格式不符\")"
   ]
  },
  {
   "cell_type": "code",
   "execution_count": 34,
   "metadata": {},
   "outputs": [
    {
     "name": "stdout",
     "output_type": "stream",
     "text": [
      "Batman\n",
      "None\n",
      "Batwoman\n",
      "wo\n"
     ]
    }
   ],
   "source": [
    "# ? ：代表 前面的 可有可無\n",
    "heroRegex:re.Pattern = re.compile(r'Bat(wo)?man')\n",
    "match1:re.Match | None = heroRegex.search(\" The Adventures of Batman\")    #?前面(wo) 可有可無\n",
    "if match1 is not None:\n",
    "    print(match1.group())\n",
    "    print(match1.group(1))\n",
    "else:\n",
    "    print(\"格式不符\")\n",
    "\n",
    "match2:re.Match | None = heroRegex.search(\" The Adventures of Batwoman\")\n",
    "if match2 is not None:\n",
    "    print(match2.group())\n",
    "    print(match2.group(1))\n",
    "else:\n",
    "    print(\"格式不符\")"
   ]
  },
  {
   "cell_type": "code",
   "execution_count": 36,
   "metadata": {},
   "outputs": [
    {
     "name": "stdout",
     "output_type": "stream",
     "text": [
      "Batman\n",
      "None\n",
      "Batwowowoman\n",
      "wo\n"
     ]
    }
   ],
   "source": [
    "# * 代表 0 或沒有限定數量\n",
    "heroRegex:re.Pattern = re.compile(r'Bat(wo)*man')\n",
    "match1:re.Match | None = heroRegex.search(\" The Adventures of Batman\")    #?前面(wo) 可有可無\n",
    "if match1 is not None:\n",
    "    print(match1.group())\n",
    "    print(match1.group(1))\n",
    "else:\n",
    "    print(\"格式不符\")\n",
    "\n",
    "match2:re.Match | None = heroRegex.search(\" The Adventures of Batwowowoman\")\n",
    "if match2 is not None:\n",
    "    print(match2.group())\n",
    "    print(match2.group(1))\n",
    "else:\n",
    "    print(\"格式不符\") "
   ]
  },
  {
   "cell_type": "code",
   "execution_count": 4,
   "metadata": {},
   "outputs": [
    {
     "name": "stdout",
     "output_type": "stream",
     "text": [
      "格式不符\n",
      "Batwowoman\n",
      "wo\n"
     ]
    }
   ],
   "source": [
    "# +：代表1個 or 多個(沒限定數量)\n",
    "heroRegex:re.Pattern = re.compile(r'Bat(wo)+man')\n",
    "match1:re.Match | None = heroRegex.search(\" The Adventures of Batman\")\n",
    "if match1 is not None:\n",
    "    print(match1.group())\n",
    "    print(match1.group(1))\n",
    "else:\n",
    "    print(\"格式不符\")\n",
    "\n",
    "match2:re.Match | None = heroRegex.search(\" The Adventures of Batwowoman\")\n",
    "if match2 is not None:\n",
    "    print(match2.group())\n",
    "    print(match2.group(1))\n",
    "else:\n",
    "    print(\"格式不符\")"
   ]
  },
  {
   "cell_type": "code",
   "execution_count": 16,
   "metadata": {},
   "outputs": [
    {
     "name": "stdout",
     "output_type": "stream",
     "text": [
      "hahaha\n",
      "ha\n",
      "hahaha\n",
      "ha\n",
      "格式不符\n"
     ]
    }
   ],
   "source": [
    "'''\n",
    "(ha){3} -> 3次\n",
    "(ha){3,5} -> 3-5次\n",
    "(ha){,5} -> 0-5次\n",
    "(ha){3,} -> 3次以上\n",
    "'''\n",
    "heroRegex:re.Pattern = re.compile(r'(ha){3}')\n",
    "match1:re.Match | None = heroRegex.search(\"hahaha\")\n",
    "if match1 is not None:\n",
    "    print(match1.group())\n",
    "    print(match1.group(1))\n",
    "else:\n",
    "    print(\"格式不符\")\n",
    "\n",
    "match2:re.Match | None = heroRegex.search(\"hahahaha\")\n",
    "if match2 is not None:\n",
    "    print(match2.group())\n",
    "    print(match2.group(1))\n",
    "else:\n",
    "    print(\"格式不符\")\n",
    "\n",
    "match3:re.Match | None = heroRegex.search(\"haha\")\n",
    "if match3 is not None:\n",
    "    print(match3.group())\n",
    "    print(match3.group(1))\n",
    "else:\n",
    "    print(\"格式不符\")\n",
    "\n",
    "# group()：表示抓到/搜尋到的字 (hahaha)\n",
    "# group(1)：符合哪一個規則(ha)"
   ]
  },
  {
   "cell_type": "code",
   "execution_count": 19,
   "metadata": {},
   "outputs": [
    {
     "name": "stdout",
     "output_type": "stream",
     "text": [
      "415-555-9999\n"
     ]
    }
   ],
   "source": [
    "# search：在所有的文字，由左而右去尋找，找到第一個符合的 設為 match\n",
    "\n",
    "phoneNumRegex = re.compile(r'\\d\\d\\d-\\d\\d\\d-\\d\\d\\d\\d')\n",
    "match1 = phoneNumRegex.search('Cell: 415-555-9999 Work:212-555-0000')\n",
    "print(match1.group())"
   ]
  },
  {
   "cell_type": "code",
   "execution_count": 21,
   "metadata": {},
   "outputs": [
    {
     "name": "stdout",
     "output_type": "stream",
     "text": [
      "['415-555-9999', '212-555-0000']\n"
     ]
    }
   ],
   "source": [
    "# findall : 找出全部匹配的字串，回傳為一個串列。 list\n",
    "\n",
    "phoneNumRegex = re.compile(r'\\d\\d\\d-\\d\\d\\d-\\d\\d\\d\\d')\n",
    "list = phoneNumRegex.findall('Cell: 415-555-9999 Work:212-555-0000')\n",
    "print(list)"
   ]
  },
  {
   "cell_type": "code",
   "execution_count": 22,
   "metadata": {},
   "outputs": [
    {
     "name": "stdout",
     "output_type": "stream",
     "text": [
      "[('415', '555', '9999'), ('212', '555', '0000')]\n"
     ]
    }
   ],
   "source": [
    "phoneNumRegex = re.compile(r'(\\d\\d\\d)-(\\d\\d\\d)-(\\d\\d\\d\\d)')\n",
    "list = phoneNumRegex.findall('Cell: 415-555-9999 Work:212-555-0000')\n",
    "print(list)"
   ]
  },
  {
   "cell_type": "code",
   "execution_count": 30,
   "metadata": {},
   "outputs": [
    {
     "name": "stdout",
     "output_type": "stream",
     "text": [
      "('415', '555', '9999')\n",
      "415\n",
      "555\n",
      "9999\n",
      "('212', '555', '0000')\n",
      "212\n",
      "555\n",
      "0000\n"
     ]
    }
   ],
   "source": [
    "phoneNumRegex = re.compile(r'(\\d\\d\\d)-(\\d\\d\\d)-(\\d\\d\\d\\d)')\n",
    "list = phoneNumRegex.findall('Cell: 415-555-9999 Work:212-555-0000')\n",
    "for item in list:\n",
    "    print(item)\n",
    "    print(item[0])\n",
    "    print(item[1])\n",
    "    print(item[2])"
   ]
  },
  {
   "cell_type": "code",
   "execution_count": null,
   "metadata": {},
   "outputs": [],
   "source": [
    "'''\n",
    "字元\n",
    "\\d -> (0|1|2|3|4|5|6|7|8|9)\n",
    "\\d -> 0-9\n",
    "\\D -> 不是0-9\n",
    "\\w -> 任何字元,數字,和底線\n",
    "\\W -> 不是(任何字元,數字,和底線)\n",
    "\\s -> 任何空白,tab或者newline\n",
    "\\S -> 不是(任何空白,tab或者newline)\n",
    "[0-5] -> 0-5任一個\n",
    "[0-9] -> 0-9任一個\n",
    "[a-z] -> a-z任一個\n",
    "[a-zA-Z] -> a-z,A-Z任一個\n",
    "'''"
   ]
  }
 ],
 "metadata": {
  "kernelspec": {
   "display_name": "Python 3",
   "language": "python",
   "name": "python3"
  },
  "language_info": {
   "codemirror_mode": {
    "name": "ipython",
    "version": 3
   },
   "file_extension": ".py",
   "mimetype": "text/x-python",
   "name": "python",
   "nbconvert_exporter": "python",
   "pygments_lexer": "ipython3",
   "version": "3.10.14"
  }
 },
 "nbformat": 4,
 "nbformat_minor": 2
}
