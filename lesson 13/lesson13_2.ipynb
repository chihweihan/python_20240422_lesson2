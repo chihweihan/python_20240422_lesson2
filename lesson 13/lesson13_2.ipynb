{
 "cells": [
  {
   "cell_type": "markdown",
   "metadata": {},
   "source": [
    "### 正規則表達式(regular expressiom)  函式庫參考手冊->re (module)\n",
    "- 比對字串 (使用者輸入格式，是否符合 要求的格式(pattern))\n",
    "- 搜尋字串 (搜尋大量文字，取出符合pattern格式的文字)"
   ]
  },
  {
   "cell_type": "code",
   "execution_count": 1,
   "metadata": {},
   "outputs": [
    {
     "name": "stdout",
     "output_type": "stream",
     "text": [
      "0953-133-015pp\n"
     ]
    }
   ],
   "source": [
    "# 檢查格式\n",
    "phone_num = input(\"請輸入手機號碼：xxxx-xxx-xxx\")\n",
    "print(phone_num)"
   ]
  },
  {
   "cell_type": "code",
   "execution_count": 3,
   "metadata": {},
   "outputs": [
    {
     "data": {
      "text/plain": [
       "re.Pattern"
      ]
     },
     "execution_count": 3,
     "metadata": {},
     "output_type": "execute_result"
    }
   ],
   "source": [
    "import re\n",
    "phone_num = input(\"請輸入手機號碼：xxxx-xxx-xxx\")\n",
    "phoneNumRegex:re.Pattern = re.compile(r'\\d\\d\\d\\d-\\d\\d\\d-\\d\\d\\d')  #此為一個 Pattern 實體\n",
    "type(phoneNumRegex)"
   ]
  },
  {
   "cell_type": "markdown",
   "metadata": {},
   "source": [
    "compile：将正则表达式的样式编译为一个 正则表达式对象 （正则对象），可以用于匹配，通过这个对象的方法 match(), search() 以及其他如下描述。\n",
    "match：如果 string 开头的零个或多个字符与正则表达式 pattern 匹配，则返回相应的 Match。 如果字符串与模式不匹配则返回 None。  re.search(pattern, string, flags=0)"
   ]
  },
  {
   "cell_type": "code",
   "execution_count": 9,
   "metadata": {},
   "outputs": [
    {
     "name": "stdout",
     "output_type": "stream",
     "text": [
      "格式符合\n"
     ]
    }
   ],
   "source": [
    "import re\n",
    "phone_num = input(\"請輸入手機號碼：xxxx-xxx-xxx\")\n",
    "phoneNumRegex:re.Pattern = re.compile(r'\\d\\d\\d\\d-\\d\\d\\d-\\d\\d\\d')\n",
    "match1:re.Match | None = re.match(phoneNumRegex,phone_num)\n",
    "if match1 is not None:\n",
    "    print(\"格式符合\")\n",
    "\n",
    "else:\n",
    "    print(\"格式不符合\")"
   ]
  },
  {
   "cell_type": "code",
   "execution_count": 11,
   "metadata": {},
   "outputs": [
    {
     "name": "stdout",
     "output_type": "stream",
     "text": [
      "1234-567-894：格式符合\n"
     ]
    }
   ],
   "source": [
    "import re\n",
    "phone_num = input(\"請輸入手機號碼：xxxx-xxx-xxx\")\n",
    "phoneNumRegex:re.Pattern = re.compile(r'\\d\\d\\d\\d-\\d\\d\\d-\\d\\d\\d')\n",
    "match1:re.Match | None = re.match(phoneNumRegex,phone_num)\n",
    "if match1 is not None:\n",
    "    print(f\"{match1.group()}：格式符合\")   #group 可得到使用者輸入的字串\n",
    "\n",
    "else:\n",
    "    print(\"格式不符合\")"
   ]
  },
  {
   "cell_type": "code",
   "execution_count": 12,
   "metadata": {},
   "outputs": [
    {
     "name": "stdout",
     "output_type": "stream",
     "text": [
      "0953-133-015：格式符合\n",
      "0953-133-015：group(0)\n",
      "0953：group(1)\n",
      "133：group(2)\n",
      "015：group(3)\n"
     ]
    }
   ],
   "source": [
    "import re\n",
    "phone_num = input(\"請輸入手機號碼：xxxx-xxx-xxx\")\n",
    "phoneNumRegex:re.Pattern = re.compile(r'(\\d\\d\\d\\d)-(\\d\\d\\d)-(\\d\\d\\d)')  #擴號：代表一組(group)字\n",
    "match1:re.Match | None = re.match(phoneNumRegex,phone_num)\n",
    "if match1 is not None:\n",
    "    print(f\"{match1.group()}：格式符合\")   #group 可得到使用者輸入的字串\n",
    "    print(f\"{match1.group(0)}：group(0)\")  #0 代表全部符合\n",
    "    print(f\"{match1.group(1)}：group(1)\")  #1 代表第一個括號\n",
    "    print(f\"{match1.group(2)}：group(2)\")  #2 代表第二個括號\n",
    "    print(f\"{match1.group(3)}：group(3)\")  #3 代表第三個括號\n",
    "else:\n",
    "    print(\"格式不符合\")"
   ]
  },
  {
   "cell_type": "code",
   "execution_count": 14,
   "metadata": {},
   "outputs": [
    {
     "name": "stdout",
     "output_type": "stream",
     "text": [
      "(0000)-455-789：格式符合\n",
      "(0000)-455-789：group(0)\n",
      "(0000)：group(1)\n",
      "455：group(2)\n",
      "789：group(3)\n"
     ]
    }
   ],
   "source": [
    "import re\n",
    "phone_num = input(\"請輸入手機號碼：(xxxx)-xxx-xxx\")\n",
    "phoneNumRegex:re.Pattern = re.compile(r'(\\(\\d\\d\\d\\d\\))-(\\d\\d\\d)-(\\d\\d\\d)')\n",
    "match1:re.Match | None = re.match(phoneNumRegex,phone_num)\n",
    "if match1 is not None:\n",
    "    print(f\"{match1.group()}：格式符合\")   #group 可得到使用者輸入的字串\n",
    "    print(f\"{match1.group(0)}：group(0)\")  #0 代表全部符合\n",
    "    print(f\"{match1.group(1)}：group(1)\")  #1 代表第一個括號\n",
    "    print(f\"{match1.group(2)}：group(2)\")  #2 代表第二個括號\n",
    "    print(f\"{match1.group(3)}：group(3)\")  #3 代表第三個括號\n",
    "else:\n",
    "    print(\"格式不符合\")"
   ]
  },
  {
   "cell_type": "code",
   "execution_count": 16,
   "metadata": {},
   "outputs": [
    {
     "name": "stdout",
     "output_type": "stream",
     "text": [
      "(1234)-444-777：格式符合\n",
      "(1234)-444-777：group(0)\n",
      "(1234)：group(1)\n",
      "444：group(2)\n",
      "777：group(3)\n"
     ]
    }
   ],
   "source": [
    "# |  ：或者 的功能\n",
    "import re\n",
    "phone_num = input(\"請輸入手機號碼：(xxxx)-xxx-xxx,或者xxxx-xxx-xxx\")\n",
    "phoneNumRegex:re.Pattern = re.compile(r'(\\(\\d\\d\\d\\d\\)|\\d\\d\\d\\d)-(\\d\\d\\d)-(\\d\\d\\d)')\n",
    "match1:re.Match | None = re.match(phoneNumRegex,phone_num)\n",
    "if match1 is not None:\n",
    "    print(f\"{match1.group()}：格式符合\")   #group 可得到使用者輸入的字串\n",
    "    print(f\"{match1.group(0)}：group(0)\")  #0 代表全部符合\n",
    "    print(f\"{match1.group(1)}：group(1)\")  #1 代表第一個括號\n",
    "    print(f\"{match1.group(2)}：group(2)\")  #2 代表第二個括號\n",
    "    print(f\"{match1.group(3)}：group(3)\")  #3 代表第三個括號\n",
    "else:\n",
    "    print(\"格式不符合\")"
   ]
  }
 ],
 "metadata": {
  "kernelspec": {
   "display_name": "Python 3",
   "language": "python",
   "name": "python3"
  },
  "language_info": {
   "codemirror_mode": {
    "name": "ipython",
    "version": 3
   },
   "file_extension": ".py",
   "mimetype": "text/x-python",
   "name": "python",
   "nbconvert_exporter": "python",
   "pygments_lexer": "ipython3",
   "version": "3.10.14"
  }
 },
 "nbformat": 4,
 "nbformat_minor": 2
}
