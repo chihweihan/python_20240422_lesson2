{
 "cells": [
  {
   "cell_type": "markdown",
   "metadata": {},
   "source": [
    "## 輸出 ->print()\n",
    "## 輸入 ->input()"
   ]
  },
  {
   "cell_type": "code",
   "execution_count": 7,
   "metadata": {},
   "outputs": [
    {
     "name": "stdout",
     "output_type": "stream",
     "text": [
      "寬:9.9公分,高:9.9公分,面積:98.01平方公分\n"
     ]
    }
   ],
   "source": [
    "width:float = float(input('請輸入矩形寬:'))\n",
    "height:float = float(input('請輸入矩形高:'))\n",
    "area:float = width * height\n",
    "print(f'寬:{width}公分,高:{height}公分,面積:{area}平方公分')\n"
   ]
  },
  {
   "cell_type": "code",
   "execution_count": 8,
   "metadata": {},
   "outputs": [
    {
     "name": "stdout",
     "output_type": "stream",
     "text": [
      "計算圓面積\n",
      "圓半徑:5.0,圓面積:78.539815\n",
      "圓半徑:5.0,圓面積:78.539815\n",
      "圓半徑:5.00000,圓面積:78.54\n"
     ]
    }
   ],
   "source": [
    "#計算圓面積\n",
    "print(\"計算圓面積\")\n",
    "radius:float = float(input(\"請輸入半徑:\"))\n",
    "P1 = 3.1415926\n",
    "area:float = P1 * radius ** 2\n",
    "print(f'圓半徑:{radius},圓面積:{P1 * radius ** 2}')\n",
    "print(f'圓半徑:{radius},圓面積:{area}')\n",
    "print(f'圓半徑:{radius:.5f},圓面積:{area:.2f}')"
   ]
  },
  {
   "cell_type": "code",
   "execution_count": 12,
   "metadata": {},
   "outputs": [
    {
     "name": "stdout",
     "output_type": "stream",
     "text": [
      "計算圓面積\n",
      "圓半徑:5.0,圓面積:78.53981633974483\n",
      "圓半徑:5.0,圓面積:78.53981633974483\n",
      "圓半徑:5.00000,圓面積:78.54\n"
     ]
    }
   ],
   "source": [
    "#計算圓面積\n",
    "import math\n",
    "print(\"計算圓面積\")\n",
    "radius:float = float(input(\"請輸入半徑:\"))\n",
    "area:float = math.pi * radius ** 2\n",
    "print(f'圓半徑:{radius},圓面積:{math.pi * radius ** 2}')\n",
    "print(f'圓半徑:{radius},圓面積:{area}')\n",
    "print(f'圓半徑:{radius:.5f},圓面積:{area:.2f}')"
   ]
  }
 ],
 "metadata": {
  "kernelspec": {
   "display_name": "Python 3",
   "language": "python",
   "name": "python3"
  },
  "language_info": {
   "codemirror_mode": {
    "name": "ipython",
    "version": 3
   },
   "file_extension": ".py",
   "mimetype": "text/x-python",
   "name": "python",
   "nbconvert_exporter": "python",
   "pygments_lexer": "ipython3",
   "version": "3.10.14"
  }
 },
 "nbformat": 4,
 "nbformat_minor": 2
}
