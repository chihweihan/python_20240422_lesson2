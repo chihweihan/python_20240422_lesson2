{
 "cells": [
  {
   "cell_type": "markdown",
   "metadata": {},
   "source": [
    "# while 迴圈\n",
    "- while bool: True -->望下執行 -->回去while booling -->如果一直True (無限執行)\n",
    "-          False-->跳出迴圈"
   ]
  },
  {
   "cell_type": "code",
   "execution_count": 3,
   "metadata": {},
   "outputs": [
    {
     "name": "stdout",
     "output_type": "stream",
     "text": [
      "Hello! james\n",
      "Hello! 0\n"
     ]
    }
   ],
   "source": [
    "# != 不等於\n",
    "name = ''\n",
    "while name != '0':\n",
    "    name = input('請輸入姓名:[輸入0,停止輸入]')\n",
    "    print(\"Hello! %s\" % name)"
   ]
  },
  {
   "cell_type": "code",
   "execution_count": 5,
   "metadata": {},
   "outputs": [
    {
     "name": "stdout",
     "output_type": "stream",
     "text": [
      "請輸入第1個月存的金額：7000\n",
      "請輸入第2個月存的金額：8000\n",
      "請輸入第3個月存的金額：9000\n",
      "請輸入第4個月存的金額：9000\n",
      "最後一次存的金額是：9000\n",
      "小明總共存了4個月，已經存了33000元\n"
     ]
    }
   ],
   "source": [
    "#小明想要存錢買一輛機車，機車每輛3W元，他將每月存的錢輸入，當存款足夠買車時，就顯示提示告知\n",
    "# def (區域變數)\n",
    "import pyinputplus as pyip\n",
    "deposit = 0                    #建立 deposit(文件變數)\n",
    "num = 0\n",
    "while deposit < 30000:         #比較 deposit(文件變數)\n",
    "    input_money = pyip.inputInt(f\"請輸入第{num+1}個月存的金額：\")   #也是 文件變數\n",
    "    print(input_money)\n",
    "    deposit += input_money           #改變 deposit(文件變數)的值\n",
    "    num += 1\n",
    "print(f\"最後一次存的金額是：{input_money}\")\n",
    "print(f\"小明總共存了{num}個月，已經存了{deposit}元\")"
   ]
  },
  {
   "cell_type": "code",
   "execution_count": 6,
   "metadata": {},
   "outputs": [
    {
     "name": "stdout",
     "output_type": "stream",
     "text": [
      "請輸入第1個月存的金額：8000\n",
      "請輸入第2個月存的金額：9000\n",
      "請輸入第3個月存的金額：12000\n",
      "請輸入第4個月存的金額：5000\n",
      "最後一次存的金額是：5000\n",
      "小明總共存了4個月，已經存了34000元\n"
     ]
    }
   ],
   "source": [
    "import pyinputplus as pyip\n",
    "deposit = 0                    #建立 deposit(文件變數)\n",
    "num = 0\n",
    "while True:         #比較 deposit(文件變數)\n",
    "    num += 1\n",
    "    input_money = pyip.inputInt(f\"請輸入第{num}個月存的金額：\")   #也是 文件變數\n",
    "    print(input_money)\n",
    "    deposit += input_money           #改變 deposit(文件變數)的值\n",
    "    if deposit >= 30000:\n",
    "        break                        #結束迴圈\n",
    "print(f\"最後一次存的金額是：{input_money}\")\n",
    "print(f\"小明總共存了{num}個月，已經存了{deposit}元\")"
   ]
  },
  {
   "cell_type": "code",
   "execution_count": 10,
   "metadata": {},
   "outputs": [
    {
     "name": "stdout",
     "output_type": "stream",
     "text": [
      "輸入錯誤\n",
      "應用程式結束\n"
     ]
    }
   ],
   "source": [
    "# 請輸入整數，輸入[q]離開:\n",
    "# 顯示:\n",
    "# 奇數輸出平方\n",
    "# 偶數不做任何動作\n",
    "# 'q' 要離開\n",
    "\n",
    "while(True):\n",
    "    value = input(\"請輸入整數，輸入[q]離開:\")\n",
    "    if value == \"q\":\n",
    "        break\n",
    "    try:\n",
    "        valueInt = int(value)\n",
    "    except:\n",
    "        print(\"輸入錯誤\")\n",
    "        break\n",
    "\n",
    "    if valueInt % 2 == 1:\n",
    "        print(f\"{valueInt}的平方是{valueInt ** 2}\")\n",
    "    else:\n",
    "        print(\"不做事\")\n",
    "\n",
    "print(\"應用程式結束\")"
   ]
  },
  {
   "cell_type": "code",
   "execution_count": null,
   "metadata": {},
   "outputs": [],
   "source": [
    "while(True):\n",
    "    value = input(\"請輸入整數,輸入[q]離開:\")\n",
    "    if value == 'q':\n",
    "        break\n",
    "    try:\n",
    "        valueInt = int(value)\n",
    "    except:\n",
    "        print(\"輸入錯誤\")\n",
    "        continue\n",
    "    \n",
    "    if valueInt % 2 == 1:      #  % 求餘數\n",
    "        print(f\"{valueInt}的平方是{valueInt ** 2}\")\n",
    "    else:\n",
    "        print(\"不做事\")\n",
    "\n",
    "print(\"應用程式結束\")"
   ]
  }
 ],
 "metadata": {
  "kernelspec": {
   "display_name": "Python 3",
   "language": "python",
   "name": "python3"
  },
  "language_info": {
   "codemirror_mode": {
    "name": "ipython",
    "version": 3
   },
   "file_extension": ".py",
   "mimetype": "text/x-python",
   "name": "python",
   "nbconvert_exporter": "python",
   "pygments_lexer": "ipython3",
   "version": "3.10.14"
  }
 },
 "nbformat": 4,
 "nbformat_minor": 2
}
