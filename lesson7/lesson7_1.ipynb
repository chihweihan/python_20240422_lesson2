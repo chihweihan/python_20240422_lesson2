{
 "cells": [
  {
   "cell_type": "markdown",
   "metadata": {},
   "source": [
    "# while 迴圈\n",
    "- while bool: True -->望下執行 -->回去while booling -->如果一直True (無限執行)\n",
    "-          False-->跳出迴圈"
   ]
  },
  {
   "cell_type": "code",
   "execution_count": 3,
   "metadata": {},
   "outputs": [
    {
     "name": "stdout",
     "output_type": "stream",
     "text": [
      "請輸入這個月存的金額：8000\n",
      "請輸入這個月存的金額：5000\n",
      "請輸入這個月存的金額：21000\n",
      "最後一次存的金額是：21000\n",
      "小明已經存了34000元\n"
     ]
    }
   ],
   "source": [
    "#小明想要存錢買一輛機車，機車每輛3W元，他將每月存的錢輸入，當存款足夠買車時，就顯示提示告知\n",
    "# def (區域變數)\n",
    "import pyinputplus as pyip\n",
    "deposit = 0                    #建立 deposit(文件變數)\n",
    "while deposit < 30000:         #比較 deposit(文件變數)\n",
    "    input_money = pyip.inputInt(\"請輸入這個月存的金額：\")   #也是 文件變數\n",
    "    print(input_money)\n",
    "    deposit += input_money           #改變 deposit(文件變數)的值\n",
    "print(f\"最後一次存的金額是：{input_money}\")\n",
    "print(f\"小明已經存了{deposit}元\")"
   ]
  }
 ],
 "metadata": {
  "kernelspec": {
   "display_name": "Python 3",
   "language": "python",
   "name": "python3"
  },
  "language_info": {
   "codemirror_mode": {
    "name": "ipython",
    "version": 3
   },
   "file_extension": ".py",
   "mimetype": "text/x-python",
   "name": "python",
   "nbconvert_exporter": "python",
   "pygments_lexer": "ipython3",
   "version": "3.10.14"
  }
 },
 "nbformat": 4,
 "nbformat_minor": 2
}
