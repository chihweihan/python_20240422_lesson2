{
 "cells": [
  {
   "cell_type": "markdown",
   "metadata": {},
   "source": [
    "# 輸入:\n",
    "- 請輸入整數,求所有因數:10\n",
    "\n",
    "# 輸出:\n",
    "-10的因數是:\n",
    "-1 2 5 10"
   ]
  },
  {
   "cell_type": "code",
   "execution_count": 5,
   "metadata": {},
   "outputs": [],
   "source": [
    "import pyinputplus as pyip\n",
    "\n",
    "while(True):\n",
    "    value = input(\"請輸入整數,輸入[]離開:\")\n",
    "    if value == '':\n",
    "        break\n",
    "    try:\n",
    "        valueInt = int(value)\n",
    "    except:\n",
    "        print(\"輸入錯誤\")\n",
    "        continue\n",
    "    \n",
    "    while(True):\n",
    "        num = int(valueInt / 2 )      #  % 求餘數\n",
    "        print(f\"{valueInt}的因數是：{num}\")\n",
    "\n",
    "print(\"應用程式結束\")"
   ]
  }
 ],
 "metadata": {
  "kernelspec": {
   "display_name": "Python 3",
   "language": "python",
   "name": "python3"
  },
  "language_info": {
   "codemirror_mode": {
    "name": "ipython",
    "version": 3
   },
   "file_extension": ".py",
   "mimetype": "text/x-python",
   "name": "python",
   "nbconvert_exporter": "python",
   "pygments_lexer": "ipython3",
   "version": "3.10.14"
  }
 },
 "nbformat": 4,
 "nbformat_minor": 2
}
