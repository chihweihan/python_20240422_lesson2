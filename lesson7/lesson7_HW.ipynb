{
 "cells": [
  {
   "cell_type": "markdown",
   "metadata": {},
   "source": [
    "# 輸入:\n",
    "- 請輸入整數,求所有因數:10\n",
    "\n",
    "# 輸出:\n",
    "-10的因數是:\n",
    "-1 2 5 10"
   ]
  },
  {
   "cell_type": "code",
   "execution_count": 1,
   "metadata": {},
   "outputs": [
    {
     "name": "stdout",
     "output_type": "stream",
     "text": [
      "請輸入整數,或是請輸入q離開：Blank values are not allowed.\n",
      "請輸入整數,或是請輸入q離開：20的因數是：\n",
      "10 10 10 10 10 10 請輸入整數,或是請輸入q離開：'q' is not an integer.\n",
      "請輸入整數,或是請輸入q離開："
     ]
    }
   ],
   "source": [
    "import pyinputplus as pyip\n",
    "\n",
    "value = pyip.inputInt(f\"請輸入整數,求所有因數： (結束請輸入q)\")\n",
    "if value == 'q':\n",
    "    break \n",
    "\n",
    "while :\n",
    "    print(f\"{value}的因數是：\")\n",
    "    for i in range(1,value + 1 ):\n",
    "        if value % i == 0:\n",
    "            m:int = int(value / 2)    \n",
    "            print(f\"{m}\",end=\" \")"
   ]
  },
  {
   "cell_type": "code",
   "execution_count": 16,
   "metadata": {},
   "outputs": [
    {
     "name": "stdout",
     "output_type": "stream",
     "text": [
      "請輸入整數，求所有因數：10\n",
      "10的因數是：\n",
      "1 2 5 10 "
     ]
    }
   ],
   "source": [
    "import pyinputplus as pyip\n",
    "\n",
    "value = pyip.inputInt(\"請輸入整數，求所有因數：\",min=1)\n",
    "print(value)\n",
    "print(f\"{value}的因數是：\")\n",
    "\n",
    "for i in range(1,value+1):\n",
    "    if value % i == 0:\n",
    "        print(i,end=\" \")"
   ]
  }
 ],
 "metadata": {
  "kernelspec": {
   "display_name": "Python 3",
   "language": "python",
   "name": "python3"
  },
  "language_info": {
   "codemirror_mode": {
    "name": "ipython",
    "version": 3
   },
   "file_extension": ".py",
   "mimetype": "text/x-python",
   "name": "python",
   "nbconvert_exporter": "python",
   "pygments_lexer": "ipython3",
   "version": "3.10.14"
  }
 },
 "nbformat": 4,
 "nbformat_minor": 2
}
