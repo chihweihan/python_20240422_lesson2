{
 "cells": [
  {
   "cell_type": "markdown",
   "metadata": {},
   "source": [
    "請將lesson17資料夾內的world.csv,選取台灣和日本的資料,並且找出2021-01-01~2021-01-31(2021,1月份的資料)。輸出成csv,xlsx,josn"
   ]
  },
  {
   "cell_type": "code",
   "execution_count": 8,
   "metadata": {},
   "outputs": [
    {
     "data": {
      "text/html": [
       "<div>\n",
       "<style scoped>\n",
       "    .dataframe tbody tr th:only-of-type {\n",
       "        vertical-align: middle;\n",
       "    }\n",
       "\n",
       "    .dataframe tbody tr th {\n",
       "        vertical-align: top;\n",
       "    }\n",
       "\n",
       "    .dataframe thead th {\n",
       "        text-align: right;\n",
       "    }\n",
       "</style>\n",
       "<table border=\"1\" class=\"dataframe\">\n",
       "  <thead>\n",
       "    <tr style=\"text-align: right;\">\n",
       "      <th></th>\n",
       "      <th>洲名</th>\n",
       "      <th>國家</th>\n",
       "      <th>日期</th>\n",
       "      <th>總確診數</th>\n",
       "      <th>新增確診數</th>\n",
       "    </tr>\n",
       "  </thead>\n",
       "  <tbody>\n",
       "    <tr>\n",
       "      <th>85971</th>\n",
       "      <td>亞洲</td>\n",
       "      <td>日本</td>\n",
       "      <td>2021-01-01</td>\n",
       "      <td>239005</td>\n",
       "      <td>3256</td>\n",
       "    </tr>\n",
       "    <tr>\n",
       "      <th>85972</th>\n",
       "      <td>亞洲</td>\n",
       "      <td>日本</td>\n",
       "      <td>2021-01-02</td>\n",
       "      <td>242076</td>\n",
       "      <td>3071</td>\n",
       "    </tr>\n",
       "    <tr>\n",
       "      <th>85973</th>\n",
       "      <td>亞洲</td>\n",
       "      <td>日本</td>\n",
       "      <td>2021-01-03</td>\n",
       "      <td>245242</td>\n",
       "      <td>3166</td>\n",
       "    </tr>\n",
       "    <tr>\n",
       "      <th>85974</th>\n",
       "      <td>亞洲</td>\n",
       "      <td>日本</td>\n",
       "      <td>2021-01-04</td>\n",
       "      <td>248585</td>\n",
       "      <td>3343</td>\n",
       "    </tr>\n",
       "    <tr>\n",
       "      <th>85975</th>\n",
       "      <td>亞洲</td>\n",
       "      <td>日本</td>\n",
       "      <td>2021-01-05</td>\n",
       "      <td>253534</td>\n",
       "      <td>4949</td>\n",
       "    </tr>\n",
       "    <tr>\n",
       "      <th>...</th>\n",
       "      <td>...</td>\n",
       "      <td>...</td>\n",
       "      <td>...</td>\n",
       "      <td>...</td>\n",
       "      <td>...</td>\n",
       "    </tr>\n",
       "    <tr>\n",
       "      <th>164363</th>\n",
       "      <td>亞洲</td>\n",
       "      <td>台灣</td>\n",
       "      <td>2021-01-27</td>\n",
       "      <td>893</td>\n",
       "      <td>3</td>\n",
       "    </tr>\n",
       "    <tr>\n",
       "      <th>164364</th>\n",
       "      <td>亞洲</td>\n",
       "      <td>台灣</td>\n",
       "      <td>2021-01-28</td>\n",
       "      <td>895</td>\n",
       "      <td>2</td>\n",
       "    </tr>\n",
       "    <tr>\n",
       "      <th>164365</th>\n",
       "      <td>亞洲</td>\n",
       "      <td>台灣</td>\n",
       "      <td>2021-01-29</td>\n",
       "      <td>899</td>\n",
       "      <td>4</td>\n",
       "    </tr>\n",
       "    <tr>\n",
       "      <th>164366</th>\n",
       "      <td>亞洲</td>\n",
       "      <td>台灣</td>\n",
       "      <td>2021-01-30</td>\n",
       "      <td>909</td>\n",
       "      <td>10</td>\n",
       "    </tr>\n",
       "    <tr>\n",
       "      <th>164367</th>\n",
       "      <td>亞洲</td>\n",
       "      <td>台灣</td>\n",
       "      <td>2021-01-31</td>\n",
       "      <td>911</td>\n",
       "      <td>2</td>\n",
       "    </tr>\n",
       "  </tbody>\n",
       "</table>\n",
       "<p>62 rows × 5 columns</p>\n",
       "</div>"
      ],
      "text/plain": [
       "        洲名  國家          日期    總確診數  新增確診數\n",
       "85971   亞洲  日本  2021-01-01  239005   3256\n",
       "85972   亞洲  日本  2021-01-02  242076   3071\n",
       "85973   亞洲  日本  2021-01-03  245242   3166\n",
       "85974   亞洲  日本  2021-01-04  248585   3343\n",
       "85975   亞洲  日本  2021-01-05  253534   4949\n",
       "...     ..  ..         ...     ...    ...\n",
       "164363  亞洲  台灣  2021-01-27     893      3\n",
       "164364  亞洲  台灣  2021-01-28     895      2\n",
       "164365  亞洲  台灣  2021-01-29     899      4\n",
       "164366  亞洲  台灣  2021-01-30     909     10\n",
       "164367  亞洲  台灣  2021-01-31     911      2\n",
       "\n",
       "[62 rows x 5 columns]"
      ]
     },
     "execution_count": 8,
     "metadata": {},
     "output_type": "execute_result"
    }
   ],
   "source": [
    "import numpy as np\n",
    "import pandas as pd\n",
    "\n",
    "df1= pd.read_csv('world.csv')\n",
    "df2 = df1.reindex(columns=['洲名','國家','日期','總確診數','新增確診數'])\n",
    "#檢查 query(全是字串)\n",
    "twjp_df = df2.query('國家==\"台灣\" or 國家==\"日本\"')\n",
    "twjp2021_df = twjp_df.query('日期>=\"2021-01-01\" and 日期<=\"2021-01-31\"')\n",
    "twjp2021_df"
   ]
  },
  {
   "cell_type": "code",
   "execution_count": 9,
   "metadata": {},
   "outputs": [],
   "source": [
    "import numpy as np\n",
    "import pandas as pd\n",
    "\n",
    "df1= pd.read_csv('world.csv')\n",
    "df2 = df1.reindex(columns=['洲名','國家','日期','總確診數','新增確診數'])\n",
    "twjp_df = df2.query('國家==\"台灣\" or 國家==\"日本\"')\n",
    "twjp202101_df = twjp_df.query('日期>=\"2021-01-01\" and 日期<=\"2021-01-31\"')\n",
    "\n",
    "twjp202101_df.to_csv('twjp202101.csv',index=False)\n",
    "twjp202101_df.to_excel('twjp202101.xlsx',index=False,sheet_name='2021')\n",
    "twjp202101_df.to_json('twjp202101.json', orient='table', force_ascii=False)"
   ]
  },
  {
   "cell_type": "markdown",
   "metadata": {},
   "source": [
    "in => 檢查是否有在這個資料裡面"
   ]
  },
  {
   "cell_type": "code",
   "execution_count": 3,
   "metadata": {},
   "outputs": [
    {
     "data": {
      "text/plain": [
       "False"
      ]
     },
     "execution_count": 3,
     "metadata": {},
     "output_type": "execute_result"
    }
   ],
   "source": [
    "'momo'in ['James','John']"
   ]
  },
  {
   "cell_type": "code",
   "execution_count": 4,
   "metadata": {},
   "outputs": [
    {
     "data": {
      "text/plain": [
       "True"
      ]
     },
     "execution_count": 4,
     "metadata": {},
     "output_type": "execute_result"
    }
   ],
   "source": [
    "'James' in ['James','John']"
   ]
  },
  {
   "cell_type": "code",
   "execution_count": 5,
   "metadata": {},
   "outputs": [
    {
     "data": {
      "text/plain": [
       "True"
      ]
     },
     "execution_count": 5,
     "metadata": {},
     "output_type": "execute_result"
    }
   ],
   "source": [
    "x = 80\n",
    "x >= 60 and x <= 100\n",
    "60 <= x <= 100"
   ]
  },
  {
   "cell_type": "code",
   "execution_count": 6,
   "metadata": {},
   "outputs": [
    {
     "data": {
      "text/html": [
       "<div>\n",
       "<style scoped>\n",
       "    .dataframe tbody tr th:only-of-type {\n",
       "        vertical-align: middle;\n",
       "    }\n",
       "\n",
       "    .dataframe tbody tr th {\n",
       "        vertical-align: top;\n",
       "    }\n",
       "\n",
       "    .dataframe thead th {\n",
       "        text-align: right;\n",
       "    }\n",
       "</style>\n",
       "<table border=\"1\" class=\"dataframe\">\n",
       "  <thead>\n",
       "    <tr style=\"text-align: right;\">\n",
       "      <th></th>\n",
       "      <th>洲名</th>\n",
       "      <th>國家</th>\n",
       "      <th>日期</th>\n",
       "      <th>總確診數</th>\n",
       "      <th>新增確診數</th>\n",
       "    </tr>\n",
       "  </thead>\n",
       "  <tbody>\n",
       "    <tr>\n",
       "      <th>85971</th>\n",
       "      <td>亞洲</td>\n",
       "      <td>日本</td>\n",
       "      <td>2021-01-01</td>\n",
       "      <td>239005</td>\n",
       "      <td>3256</td>\n",
       "    </tr>\n",
       "    <tr>\n",
       "      <th>85972</th>\n",
       "      <td>亞洲</td>\n",
       "      <td>日本</td>\n",
       "      <td>2021-01-02</td>\n",
       "      <td>242076</td>\n",
       "      <td>3071</td>\n",
       "    </tr>\n",
       "    <tr>\n",
       "      <th>85973</th>\n",
       "      <td>亞洲</td>\n",
       "      <td>日本</td>\n",
       "      <td>2021-01-03</td>\n",
       "      <td>245242</td>\n",
       "      <td>3166</td>\n",
       "    </tr>\n",
       "    <tr>\n",
       "      <th>85974</th>\n",
       "      <td>亞洲</td>\n",
       "      <td>日本</td>\n",
       "      <td>2021-01-04</td>\n",
       "      <td>248585</td>\n",
       "      <td>3343</td>\n",
       "    </tr>\n",
       "    <tr>\n",
       "      <th>85975</th>\n",
       "      <td>亞洲</td>\n",
       "      <td>日本</td>\n",
       "      <td>2021-01-05</td>\n",
       "      <td>253534</td>\n",
       "      <td>4949</td>\n",
       "    </tr>\n",
       "    <tr>\n",
       "      <th>...</th>\n",
       "      <td>...</td>\n",
       "      <td>...</td>\n",
       "      <td>...</td>\n",
       "      <td>...</td>\n",
       "      <td>...</td>\n",
       "    </tr>\n",
       "    <tr>\n",
       "      <th>164363</th>\n",
       "      <td>亞洲</td>\n",
       "      <td>台灣</td>\n",
       "      <td>2021-01-27</td>\n",
       "      <td>893</td>\n",
       "      <td>3</td>\n",
       "    </tr>\n",
       "    <tr>\n",
       "      <th>164364</th>\n",
       "      <td>亞洲</td>\n",
       "      <td>台灣</td>\n",
       "      <td>2021-01-28</td>\n",
       "      <td>895</td>\n",
       "      <td>2</td>\n",
       "    </tr>\n",
       "    <tr>\n",
       "      <th>164365</th>\n",
       "      <td>亞洲</td>\n",
       "      <td>台灣</td>\n",
       "      <td>2021-01-29</td>\n",
       "      <td>899</td>\n",
       "      <td>4</td>\n",
       "    </tr>\n",
       "    <tr>\n",
       "      <th>164366</th>\n",
       "      <td>亞洲</td>\n",
       "      <td>台灣</td>\n",
       "      <td>2021-01-30</td>\n",
       "      <td>909</td>\n",
       "      <td>10</td>\n",
       "    </tr>\n",
       "    <tr>\n",
       "      <th>164367</th>\n",
       "      <td>亞洲</td>\n",
       "      <td>台灣</td>\n",
       "      <td>2021-01-31</td>\n",
       "      <td>911</td>\n",
       "      <td>2</td>\n",
       "    </tr>\n",
       "  </tbody>\n",
       "</table>\n",
       "<p>62 rows × 5 columns</p>\n",
       "</div>"
      ],
      "text/plain": [
       "        洲名  國家          日期    總確診數  新增確診數\n",
       "85971   亞洲  日本  2021-01-01  239005   3256\n",
       "85972   亞洲  日本  2021-01-02  242076   3071\n",
       "85973   亞洲  日本  2021-01-03  245242   3166\n",
       "85974   亞洲  日本  2021-01-04  248585   3343\n",
       "85975   亞洲  日本  2021-01-05  253534   4949\n",
       "...     ..  ..         ...     ...    ...\n",
       "164363  亞洲  台灣  2021-01-27     893      3\n",
       "164364  亞洲  台灣  2021-01-28     895      2\n",
       "164365  亞洲  台灣  2021-01-29     899      4\n",
       "164366  亞洲  台灣  2021-01-30     909     10\n",
       "164367  亞洲  台灣  2021-01-31     911      2\n",
       "\n",
       "[62 rows x 5 columns]"
      ]
     },
     "execution_count": 6,
     "metadata": {},
     "output_type": "execute_result"
    }
   ],
   "source": [
    "import pandas as pd\n",
    "\n",
    "df= pd.read_csv('world.csv')\n",
    "df1 = df.reindex(columns=['洲名','國家','日期','總確診數','新增確診數'])\n",
    "twjp_df = df1.query('國家 in [\"台灣\", \"日本\"]')\n",
    "twjp202101_df = twjp_df.query('\"2021-01-01\" <= 日期 <= \"2021-01-31\"')\n",
    "twjp202101_df"
   ]
  }
 ],
 "metadata": {
  "kernelspec": {
   "display_name": "base",
   "language": "python",
   "name": "python3"
  },
  "language_info": {
   "codemirror_mode": {
    "name": "ipython",
    "version": 3
   },
   "file_extension": ".py",
   "mimetype": "text/x-python",
   "name": "python",
   "nbconvert_exporter": "python",
   "pygments_lexer": "ipython3",
   "version": "3.12.3"
  }
 },
 "nbformat": 4,
 "nbformat_minor": 2
}
