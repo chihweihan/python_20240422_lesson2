{
 "cells": [
  {
   "cell_type": "markdown",
   "metadata": {},
   "source": [
    "## 讓使用者輸入梯形的上底、下底及高，程式會計算梯形的面積(上底加下底乘以高除以2)"
   ]
  },
  {
   "cell_type": "code",
   "execution_count": 7,
   "metadata": {},
   "outputs": [
    {
     "name": "stdout",
     "output_type": "stream",
     "text": [
      "梯形的上底5公分，下底10公分，高2公分\n",
      "梯形的面積：15.0平方公分\n"
     ]
    }
   ],
   "source": [
    "up = eval(input(\"請輸入上底:\"))\n",
    "down = eval(input(\"請輸入下底:\"))\n",
    "height = eval(input(\"請輸入高:\"))\n",
    "\n",
    "area = (up + down) * height / 2\n",
    "print(f\"梯形的上底{up}公分，下底{down}公分，高{height}公分\")\n",
    "print(f\"梯形的面積：{area}平方公分\")"
   ]
  }
 ],
 "metadata": {
  "kernelspec": {
   "display_name": "Python 3",
   "language": "python",
   "name": "python3"
  },
  "language_info": {
   "codemirror_mode": {
    "name": "ipython",
    "version": 3
   },
   "file_extension": ".py",
   "mimetype": "text/x-python",
   "name": "python",
   "nbconvert_exporter": "python",
   "pygments_lexer": "ipython3",
   "version": "3.10.14"
  }
 },
 "nbformat": 4,
 "nbformat_minor": 2
}
