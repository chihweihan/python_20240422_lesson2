{
 "cells": [
  {
   "cell_type": "code",
   "execution_count": 2,
   "metadata": {},
   "outputs": [
    {
     "name": "stdout",
     "output_type": "stream",
     "text": [
      "3\n",
      "3.1\n",
      "3.14\n",
      "3.142\n"
     ]
    }
   ],
   "source": [
    "#內建function 四捨五入 round(number\"參數\",ndigits=none\"參數\")\n",
    "# 參數有 = 代表可省略 default value\n",
    "print(round(3.14159))\n",
    "print(round(3.1415926,ndigits=1))\n",
    "print(round(3.1415926,ndigits=2))\n",
    "print(round(3.1415926,ndigits=3))"
   ]
  },
  {
   "cell_type": "code",
   "execution_count": 4,
   "metadata": {},
   "outputs": [
    {
     "name": "stdout",
     "output_type": "stream",
     "text": [
      "4\n",
      "3\n"
     ]
    }
   ],
   "source": [
    "import math\n",
    "# ceil 無條件進位 / floor 無條件捨去\n",
    "print(math.ceil(3.1415926))\n",
    "print(math.floor(3.1415926))\n"
   ]
  },
  {
   "cell_type": "code",
   "execution_count": 5,
   "metadata": {},
   "outputs": [
    {
     "name": "stdout",
     "output_type": "stream",
     "text": [
      "10\n"
     ]
    }
   ],
   "source": [
    "# 因為 n * 5 沒人接收，於是到print時，資料就消滅了。\n",
    "n = 10\n",
    "n * 5\n",
    "print(n)"
   ]
  },
  {
   "cell_type": "code",
   "execution_count": 7,
   "metadata": {},
   "outputs": [
    {
     "name": "stdout",
     "output_type": "stream",
     "text": [
      "50\n"
     ]
    }
   ],
   "source": [
    "n = 10\n",
    "n = n * 5  #先進行運算，等號最後才進行\n",
    "print(n)"
   ]
  },
  {
   "cell_type": "code",
   "execution_count": 6,
   "metadata": {},
   "outputs": [
    {
     "name": "stdout",
     "output_type": "stream",
     "text": [
      "50\n"
     ]
    }
   ],
   "source": [
    "#複合指定運算子  *=  +=  -=\n",
    "n = 10\n",
    "n *=5    # n = n * 5\n",
    "print(n)"
   ]
  },
  {
   "cell_type": "markdown",
   "metadata": {},
   "source": [
    "### 請使用者輸入一個任意數，程式會顯示此數的平方值及立方值"
   ]
  },
  {
   "cell_type": "code",
   "execution_count": 16,
   "metadata": {},
   "outputs": [
    {
     "name": "stdout",
     "output_type": "stream",
     "text": [
      "您輸入的數值是8.5,平方值是72.25\n",
      "您輸入的數值是8.5,立方值是614.1\n"
     ]
    }
   ],
   "source": [
    "#input會傳出str，所以要建立一個變數value接收\n",
    "# eval() 可以放入「一行字串」，並把輸入的字串，轉換成可執行的程式碼後並執行\n",
    "source_value = eval(input(\"請輸入任意數:\"))\n",
    "value = source_value\n",
    "value **= 2              #有\"=\"，改變value 內容，並沒有傳出值\n",
    "print(f\"您輸入的數值是{source_value},平方值是{value}\")\n",
    "value = source_value\n",
    "value **= 3\n",
    "print(f\"您輸入的數值是{source_value},立方值是{round(value,ndigits=1)}\")"
   ]
  },
  {
   "cell_type": "code",
   "execution_count": 15,
   "metadata": {},
   "outputs": [
    {
     "name": "stdout",
     "output_type": "stream",
     "text": [
      "您輸入的數值是8.5,平方值是72.25\n",
      "您輸入的數值是8.5,立方值是614.1\n"
     ]
    }
   ],
   "source": [
    "value = eval(input(\"請輸入任意數:\"))\n",
    "print(f\"您輸入的數值是{value},平方值是{value ** 2}\")  #字串差補可以有運算式\n",
    "print(f\"您輸入的數值是{value},立方值是{round(value ** 3,ndigits=1)}\")  #沒有\"=\"，value 複製一份過來"
   ]
  },
  {
   "cell_type": "code",
   "execution_count": 15,
   "metadata": {},
   "outputs": [
    {
     "name": "stdout",
     "output_type": "stream",
     "text": [
      "100\n",
      "100\n"
     ]
    }
   ],
   "source": [
    "n = 10\n",
    "print(n ** 2)\n",
    "n **= 2   #做了平方後，值儲存在n內\n",
    "print(n)"
   ]
  },
  {
   "cell_type": "markdown",
   "metadata": {},
   "source": [
    "### 請設計程式，讓用者輸入三個任意數，程式會顯示3數相加的總和(float)"
   ]
  },
  {
   "cell_type": "code",
   "execution_count": 10,
   "metadata": {},
   "outputs": [
    {
     "name": "stdout",
     "output_type": "stream",
     "text": [
      "45.5 + 85 + 90 = 220.5\n"
     ]
    }
   ],
   "source": [
    "n1 = eval(input(\"請輸入第一個數:\"))\n",
    "n2 = eval(input(\"請輸入第二個數:\"))\n",
    "n3 = eval(input(\"請輸入第三個數:\"))\n",
    "total = n1 + n2 + n3\n",
    "print(f'{n1} + {n2} + {n3} = {round(total,ndigits=2)}')"
   ]
  },
  {
   "cell_type": "markdown",
   "metadata": {},
   "source": [
    "### 請以{複合指定運算子}設計程式，請輸入三個任意數，程式會顯示3個數字相加的總和"
   ]
  },
  {
   "cell_type": "code",
   "execution_count": 17,
   "metadata": {},
   "outputs": [
    {
     "name": "stdout",
     "output_type": "stream",
     "text": [
      "第一個數=10.5\n",
      "第二個數=10\n"
     ]
    }
   ],
   "source": [
    "total = 0\n",
    "n = eval(input(\"請輸入第一個數:\"))\n",
    "total += n\n",
    "print(f\"第一個數={n}\")\n",
    "\n",
    "n = eval(input(\"請輸入第二個數:\"))\n",
    "total += n\n",
    "print(f\"第二個數={n}\")\n",
    "\n",
    "n = eval(input(\"請輸入第三個數:\"))\n",
    "total += n\n",
    "print(f\"第三個數={n}\")\n",
    "\n",
    "print(f\"總合是{round(total,ndigits=2)}\")"
   ]
  },
  {
   "cell_type": "markdown",
   "metadata": {},
   "source": [
    "### 請使用者輸入直角三角形的對邊\n",
    "### 請使用者輸入直角三角形的斜邊\n",
    "### 計算角度\n",
    "### 公式:\n",
    "#### sin(x) = 對邊 / 斜邊\n",
    "#### x是radian(弧度)"
   ]
  },
  {
   "cell_type": "code",
   "execution_count": 1,
   "metadata": {},
   "outputs": [
    {
     "name": "stdout",
     "output_type": "stream",
     "text": [
      "對邊 =1，斜邊 =2，角度為30.0\n"
     ]
    }
   ],
   "source": [
    "import math\n",
    "side = eval(input(\"請輸入對邊:\"))\n",
    "ano_side = eval(input(\"請輸入斜邊:\"))\n",
    "\n",
    "radian = math.asin(side / ano_side)\n",
    "degree = round(math.degrees(radian),ndigits=2)\n",
    "\n",
    "print(f\"對邊 ={side}，斜邊 ={ano_side}，角度為{degree}\")"
   ]
  }
 ],
 "metadata": {
  "kernelspec": {
   "display_name": "Python 3",
   "language": "python",
   "name": "python3"
  },
  "language_info": {
   "codemirror_mode": {
    "name": "ipython",
    "version": 3
   },
   "file_extension": ".py",
   "mimetype": "text/x-python",
   "name": "python",
   "nbconvert_exporter": "python",
   "pygments_lexer": "ipython3",
   "version": "3.10.14"
  }
 },
 "nbformat": 4,
 "nbformat_minor": 2
}
