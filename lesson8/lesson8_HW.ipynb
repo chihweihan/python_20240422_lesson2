{
 "cells": [
  {
   "cell_type": "markdown",
   "metadata": {},
   "source": [
    "輸入:\n",
    "請輸入姓名:xxxx\n",
    "請輸入身高(cm):\n",
    "請輸入體重(kg):\n",
    "\n",
    "請使用自訂的function\n",
    "建立bmi的function,會傳出bmi\n",
    "建立get_status,會傳出字串\n",
    "可以使用pypi\n",
    "\n",
    "輸出:\n",
    "xxxx,您的BMI:25.52\n",
    "xxxx,您的體重過重\n",
    "\n",
    "錯誤:\n",
    "格式錯誤:xxxxxxxxxxxxx"
   ]
  },
  {
   "cell_type": "code",
   "execution_count": 4,
   "metadata": {},
   "outputs": [
    {
     "name": "stdout",
     "output_type": "stream",
     "text": [
      "請輸入姓名：請輸入身高(cm)：糗輸入體重(kg)：james，您的BMI：23.67\n",
      "james，您屬於：正常範圍\n",
      "還要下一位量測嗎?(y,n)\n",
      "Blank values are not allowed.\n",
      "還要下一位量測嗎?(y,n)\n",
      "量測結束\n",
      "\n"
     ]
    }
   ],
   "source": [
    "import pyinputplus as pyip\n",
    "\n",
    "def bmi(height:float,weight:float):\n",
    "    return weight / (height / 100) ** 2\n",
    "\n",
    "def get_status(bmi:float):\n",
    "    if bmi < 18.5:\n",
    "        result = \"體重過輕\"\n",
    "    elif bmi < 24:\n",
    "        result = \"正常範圍\"\n",
    "    elif bmi < 27:\n",
    "        result = \"體重過重\"\n",
    "    elif bmi < 30:\n",
    "        result = \"輕度肥胖\"\n",
    "    elif bmi < 35:\n",
    "        result = \"中度肥胖\"\n",
    "    else:\n",
    "        result = \"重度肥胖\"\n",
    "    return result\n",
    "\n",
    "def finish():\n",
    "    name = pyip.inputStr(\"請輸入姓名：\")\n",
    "    height = pyip.inputFloat(\"請輸入身高(cm)：\")\n",
    "    weight = pyip.inputFloat(\"糗輸入體重(kg)：\")\n",
    "    BMI = bmi(height,weight)\n",
    "    print(f\"{name}，您的BMI：{BMI:.2f}\")\n",
    "    print(f\"{name}，您屬於：{get_status(BMI)}\")\n",
    "\n",
    "while True:\n",
    "    finish()\n",
    "    play_again=pyip.inputYesNo('還要下一位量測嗎?(y,n)\\n')\n",
    "    if play_again =='no':\n",
    "        break\n",
    "print('量測結束\\n')    "
   ]
  }
 ],
 "metadata": {
  "kernelspec": {
   "display_name": "Python 3",
   "language": "python",
   "name": "python3"
  },
  "language_info": {
   "codemirror_mode": {
    "name": "ipython",
    "version": 3
   },
   "file_extension": ".py",
   "mimetype": "text/x-python",
   "name": "python",
   "nbconvert_exporter": "python",
   "pygments_lexer": "ipython3",
   "version": "3.10.14"
  }
 },
 "nbformat": 4,
 "nbformat_minor": 2
}
