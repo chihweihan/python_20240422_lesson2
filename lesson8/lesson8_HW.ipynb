{
 "cells": [
  {
   "cell_type": "markdown",
   "metadata": {},
   "source": [
    "輸入:\n",
    "請輸入姓名:xxxx\n",
    "請輸入身高(cm):\n",
    "請輸入體重(kg):\n",
    "\n",
    "請使用自訂的function\n",
    "建立bmi的function,會傳出bmi\n",
    "建立get_status,會傳出字串\n",
    "可以使用pypi\n",
    "\n",
    "輸出:\n",
    "xxxx,您的BMI:25.52\n",
    "xxxx,您的體重過重\n",
    "\n",
    "錯誤:\n",
    "格式錯誤:xxxxxxxxxxxxx"
   ]
  },
  {
   "cell_type": "code",
   "execution_count": null,
   "metadata": {},
   "outputs": [],
   "source": [
    "def bmi(height:float,weight:float):\n",
    "    return weight / (height / 100) ** 2\n",
    "\n",
    "def get_status():\n",
    "    if bmi < 18.5:\n",
    "        result = \"體重過輕\"\n",
    "    elif bmi < 24:\n",
    "        result = \"正常範圍\"\n",
    "    elif bmi < 27:\n",
    "        result = \"體重過重\"\n",
    "    elif bmi < 30:\n",
    "        result = \"輕度肥胖\"\n",
    "    elif bmi < 35:\n",
    "        result = \"中度肥胖\"\n",
    "    else:\n",
    "        result = \"重度肥胖\""
   ]
  }
 ],
 "metadata": {
  "language_info": {
   "name": "python"
  }
 },
 "nbformat": 4,
 "nbformat_minor": 2
}
