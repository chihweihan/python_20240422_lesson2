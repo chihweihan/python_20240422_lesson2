{
 "cells": [
  {
   "cell_type": "markdown",
   "metadata": {},
   "source": [
    "# 亂數(random)\n",
    "- 猜數字遊戲 ->產生亂數 ->內建module(random)\n",
    "- 標準函式庫 ->數值/數學模組 ->random\n",
    "- random.randint(a, b)\n",
    "- 回傳一個隨機整數 N，使得 a <= N <= b。為 randrange(a, b+1) 的別名。\n",
    "\n",
    "- 參考：https://www.learncodewithmike.com/2019/12/python-function.html"
   ]
  },
  {
   "cell_type": "code",
   "execution_count": 7,
   "metadata": {},
   "outputs": [
    {
     "name": "stdout",
     "output_type": "stream",
     "text": [
      "==============猜數字遊戲==============\n",
      "\n",
      "猜數字範圍1~100:50\n",
      "猜錯囉！再小一點\n",
      "您已經猜了1次\n",
      "您已經猜了1次\n",
      "猜數字範圍1~49:25\n",
      "猜錯囉！再小一點\n",
      "您已經猜了2次\n",
      "您已經猜了2次\n",
      "猜數字範圍1~24:12\n",
      "猜錯囉！再小一點\n",
      "您已經猜了3次\n",
      "您已經猜了3次\n",
      "猜數字範圍1~11:8\n",
      "猜錯囉！再小一點\n",
      "您已經猜了4次\n",
      "您已經猜了4次\n",
      "猜數字範圍1~7:4\n",
      "猜錯囉！再小一點\n",
      "您已經猜了5次\n",
      "您已經猜了5次\n",
      "猜數字範圍1~3:Blank values are not allowed.\n",
      "猜數字範圍1~3:2\n",
      "賓果！猜對了，答案是：2\n",
      "您粽共猜了：6次\n",
      "遊戲結束\n"
     ]
    }
   ],
   "source": [
    "import pyinputplus as pyip\n",
    "import random\n",
    "\n",
    "min = 1\n",
    "max = 100\n",
    "count = 0\n",
    "target = random.randint(min,max)   #\n",
    "print(\"==============猜數字遊戲==============\\n\")\n",
    "while True:\n",
    "    count += 1\n",
    "    keyin = pyip.inputInt(f\"猜數字範圍{min}~{max}:\")\n",
    "    print(keyin)\n",
    "    if keyin == target:\n",
    "        print(f\"賓果！猜對了，答案是：{target}\")\n",
    "        print(F\"您粽共猜了：{count}次\")\n",
    "        break\n",
    "    elif(keyin > target):\n",
    "        print(\"猜錯囉！再小一點\")\n",
    "        max = keyin - 1\n",
    "        print(f\"您已經猜了{count}次\")\n",
    "    elif(keyin < target):\n",
    "        print(\"猜錯囉！再大一點\")\n",
    "        min = keyin + 1\n",
    "    print(f\"您已經猜了{count}次\")\n",
    "\n",
    "print(\"遊戲結束\")"
   ]
  }
 ],
 "metadata": {
  "kernelspec": {
   "display_name": "Python 3",
   "language": "python",
   "name": "python3"
  },
  "language_info": {
   "codemirror_mode": {
    "name": "ipython",
    "version": 3
   },
   "file_extension": ".py",
   "mimetype": "text/x-python",
   "name": "python",
   "nbconvert_exporter": "python",
   "pygments_lexer": "ipython3",
   "version": "3.10.14"
  }
 },
 "nbformat": 4,
 "nbformat_minor": 2
}
