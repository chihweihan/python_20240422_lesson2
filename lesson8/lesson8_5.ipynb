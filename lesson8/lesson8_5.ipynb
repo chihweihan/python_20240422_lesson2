{
 "cells": [
  {
   "cell_type": "code",
   "execution_count": 5,
   "metadata": {},
   "outputs": [
    {
     "data": {
      "text/plain": [
       "75.0"
      ]
     },
     "execution_count": 5,
     "metadata": {},
     "output_type": "execute_result"
    }
   ],
   "source": [
    "# type hint   \n",
    "# function一定要加型別的提示\n",
    "def add(a:int,b:int) ->int:\n",
    "    return a + b\n",
    "\n",
    "def multiple(a:int | float,b:int | float)->int |float:\n",
    "    return a * b\n",
    "\n",
    "add(5,10)\n",
    "multiple(10,7.5)\n",
    "\n",
    "# def play_game() -> None,所代的意思是這個function不會傳出任何東西\n",
    "# def play_game() -> None,寫這個None只是在提醒自已,並不影響程式的運行,所以有寫,沒寫都沒有關係\n",
    "# def xxxxxx() -> int,代表這個function會傳出整數,所以function 內一定要有 return 整數值"
   ]
  }
 ],
 "metadata": {
  "kernelspec": {
   "display_name": "Python 3",
   "language": "python",
   "name": "python3"
  },
  "language_info": {
   "codemirror_mode": {
    "name": "ipython",
    "version": 3
   },
   "file_extension": ".py",
   "mimetype": "text/x-python",
   "name": "python",
   "nbconvert_exporter": "python",
   "pygments_lexer": "ipython3",
   "version": "3.10.14"
  }
 },
 "nbformat": 4,
 "nbformat_minor": 2
}
