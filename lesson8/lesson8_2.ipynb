{
 "cells": [
  {
   "cell_type": "markdown",
   "metadata": {},
   "source": [
    "# 自訂一個函數\n",
    "- def 名稱(參數,參數,參數)\n",
    "    return XXXXXX"
   ]
  },
  {
   "cell_type": "code",
   "execution_count": 1,
   "metadata": {},
   "outputs": [
    {
     "name": "stdout",
     "output_type": "stream",
     "text": [
      "11\n",
      "24\n"
     ]
    }
   ],
   "source": [
    "def add(a,b):\n",
    "    return a + b\n",
    "\n",
    "def multiple(a,b):\n",
    "    return a * b\n",
    "\n",
    "print(add(5,6))\n",
    "print(multiple(2,12))\n",
    "\n",
    "# def play_game() -> None,所代的意思是這個function不會傳出任何東西\n",
    "# def play_game() -> None,寫這個None只是在提醒自已,並不影響程式的運行,所以有寫,沒寫都沒有關係\n",
    "# def xxxxxx() -> int,代表這個function會傳出整數,所以function 內一定要有 return 整數值\n",
    "   \n"
   ]
  }
 ],
 "metadata": {
  "kernelspec": {
   "display_name": "Python 3",
   "language": "python",
   "name": "python3"
  },
  "language_info": {
   "codemirror_mode": {
    "name": "ipython",
    "version": 3
   },
   "file_extension": ".py",
   "mimetype": "text/x-python",
   "name": "python",
   "nbconvert_exporter": "python",
   "pygments_lexer": "ipython3",
   "version": "3.10.14"
  }
 },
 "nbformat": 4,
 "nbformat_minor": 2
}
