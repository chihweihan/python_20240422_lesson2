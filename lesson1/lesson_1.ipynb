{
  "cells": [
    {
      "cell_type": "code",
      "execution_count": 1,
      "metadata": {
        "colab": {
          "base_uri": "https://localhost:8080/"
        },
        "id": "sy72PJDj47CR",
        "outputId": "06fd1d75-ad8d-455b-f13b-797c337cddfc"
      },
      "outputs": [
        {
          "name": "stdout",
          "output_type": "stream",
          "text": [
            "yee\n",
            "你在哭喔\n",
            "我不要我不要\n"
          ]
        }
      ],
      "source": [
        "print(\"yee\")\n",
        "print(\"你在哭喔\")\n",
        "print(\"我不要我不要\")"
      ]
    },
    {
      "cell_type": "code",
      "execution_count": 2,
      "metadata": {
        "colab": {
          "base_uri": "https://localhost:8080/"
        },
        "id": "_P-oDUNC91yw",
        "outputId": "3a3231d7-9204-4f8e-c03b-1cc18d18de4b"
      },
      "outputs": [
        {
          "name": "stdout",
          "output_type": "stream",
          "text": [
            "Python 3.12.3\n"
          ]
        }
      ],
      "source": [
        "! python --version"
      ]
    },
    {
      "cell_type": "markdown",
      "metadata": {
        "id": "iR9qikmLA9-g"
      },
      "source": [
        "python純值\n",
        "*   str\n",
        "*   int\n",
        "*   float\n",
        "*   bool\n",
        "\n",
        "\n",
        "\n",
        "\n",
        "\n"
      ]
    },
    {
      "cell_type": "code",
      "execution_count": 3,
      "metadata": {
        "colab": {
          "base_uri": "https://localhost:8080/"
        },
        "id": "1KJGHixZAFF7",
        "outputId": "0ae9e3dd-e207-4be8-8c01-6484cfc2b208"
      },
      "outputs": [
        {
          "name": "stdout",
          "output_type": "stream",
          "text": [
            "字串\n",
            "50\n",
            "50.0\n",
            "True\n"
          ]
        }
      ],
      "source": [
        "print('字串')\n",
        "print(50)\n",
        "print(50.0)\n",
        "print(True)"
      ]
    },
    {
      "cell_type": "code",
      "execution_count": 4,
      "metadata": {
        "colab": {
          "base_uri": "https://localhost:8080/"
        },
        "id": "vtRJcKYXAYnH",
        "outputId": "a13e361b-1864-4985-e887-7e13e6ae77a3"
      },
      "outputs": [
        {
          "name": "stdout",
          "output_type": "stream",
          "text": [
            "<class 'str'>\n",
            "<class 'int'>\n",
            "<class 'float'>\n",
            "<class 'bool'>\n"
          ]
        }
      ],
      "source": [
        "print(type('這是字串'))\n",
        "print(type(50))\n",
        "print(type(50.0))\n",
        "print(type(True))"
      ]
    }
  ],
  "metadata": {
    "colab": {
      "provenance": []
    },
    "kernelspec": {
      "display_name": "Python 3",
      "name": "python3"
    },
    "language_info": {
      "codemirror_mode": {
        "name": "ipython",
        "version": 3
      },
      "file_extension": ".py",
      "mimetype": "text/x-python",
      "name": "python",
      "nbconvert_exporter": "python",
      "pygments_lexer": "ipython3",
      "version": "3.12.3"
    }
  },
  "nbformat": 4,
  "nbformat_minor": 0
}
